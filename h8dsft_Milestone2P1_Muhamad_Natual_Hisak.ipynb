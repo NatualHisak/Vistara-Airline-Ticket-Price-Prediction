{
 "cells": [
  {
   "cell_type": "markdown",
   "metadata": {},
   "source": [
    "# Milestone 2"
   ]
  },
  {
   "cell_type": "markdown",
   "metadata": {
    "id": "srVv6tcUxFkS"
   },
   "source": [
    "# 1 - Perkenalan"
   ]
  },
  {
   "cell_type": "markdown",
   "metadata": {
    "id": "WMJ6bkx6xSkU"
   },
   "source": [
    "Nama : Muhamad Natual Hisak\n",
    "\n",
    "Batch : FTDS-016-RMT\n",
    "\n",
    "Dataset 1 : Flight Prices<br> (https://www.kaggle.com/datasets/shubhambathwal/flight-price-prediction)\n",
    "\n",
    "Objective 1 : Prediksi ticket price airline Vistara"
   ]
  },
  {
   "cell_type": "markdown",
   "metadata": {
    "id": "AwYnwlYVxhji"
   },
   "source": [
    "# 2 - Import Libraries"
   ]
  },
  {
   "cell_type": "code",
   "execution_count": 230,
   "metadata": {},
   "outputs": [],
   "source": [
    "import pandas as pd\n",
    "import numpy as np\n",
    "import matplotlib.pyplot as plt\n",
    "import seaborn as sns\n",
    "from sklearn.model_selection import train_test_split\n",
    "from sklearn.pipeline import Pipeline\n",
    "from sklearn.linear_model import LinearRegression, Lasso\n",
    "from sklearn.compose import ColumnTransformer\n",
    "from sklearn.ensemble import RandomForestRegressor\n",
    "from sklearn.tree import DecisionTreeRegressor\n",
    "from sklearn.preprocessing import StandardScaler, PowerTransformer\n",
    "from sklearn.preprocessing import OneHotEncoder, OrdinalEncoder\n",
    "from sklearn.metrics import mean_absolute_error, mean_squared_error, r2_score\n",
    "from sklearn.model_selection import cross_val_score\n",
    "from sklearn import set_config\n",
    "from sklearn.model_selection import GridSearchCV\n",
    "import warnings\n",
    "import joblib"
   ]
  },
  {
   "cell_type": "markdown",
   "metadata": {
    "id": "KJ9pqgbKyBs7"
   },
   "source": [
    "# 3 - Data Loading"
   ]
  },
  {
   "cell_type": "code",
   "execution_count": 231,
   "metadata": {},
   "outputs": [],
   "source": [
    "warnings.filterwarnings(\"ignore\")"
   ]
  },
  {
   "cell_type": "markdown",
   "metadata": {},
   "source": [
    "Load dataset"
   ]
  },
  {
   "cell_type": "code",
   "execution_count": 232,
   "metadata": {},
   "outputs": [
    {
     "data": {
      "text/html": [
       "<div>\n",
       "<style scoped>\n",
       "    .dataframe tbody tr th:only-of-type {\n",
       "        vertical-align: middle;\n",
       "    }\n",
       "\n",
       "    .dataframe tbody tr th {\n",
       "        vertical-align: top;\n",
       "    }\n",
       "\n",
       "    .dataframe thead th {\n",
       "        text-align: right;\n",
       "    }\n",
       "</style>\n",
       "<table border=\"1\" class=\"dataframe\">\n",
       "  <thead>\n",
       "    <tr style=\"text-align: right;\">\n",
       "      <th></th>\n",
       "      <th>Unnamed: 0</th>\n",
       "      <th>airline</th>\n",
       "      <th>flight</th>\n",
       "      <th>source_city</th>\n",
       "      <th>departure_time</th>\n",
       "      <th>stops</th>\n",
       "      <th>arrival_time</th>\n",
       "      <th>destination_city</th>\n",
       "      <th>class</th>\n",
       "      <th>duration</th>\n",
       "      <th>days_left</th>\n",
       "      <th>price</th>\n",
       "    </tr>\n",
       "  </thead>\n",
       "  <tbody>\n",
       "    <tr>\n",
       "      <th>0</th>\n",
       "      <td>0</td>\n",
       "      <td>SpiceJet</td>\n",
       "      <td>SG-8709</td>\n",
       "      <td>Delhi</td>\n",
       "      <td>Evening</td>\n",
       "      <td>zero</td>\n",
       "      <td>Night</td>\n",
       "      <td>Mumbai</td>\n",
       "      <td>Economy</td>\n",
       "      <td>2.17</td>\n",
       "      <td>1</td>\n",
       "      <td>5953</td>\n",
       "    </tr>\n",
       "    <tr>\n",
       "      <th>1</th>\n",
       "      <td>1</td>\n",
       "      <td>SpiceJet</td>\n",
       "      <td>SG-8157</td>\n",
       "      <td>Delhi</td>\n",
       "      <td>Early_Morning</td>\n",
       "      <td>zero</td>\n",
       "      <td>Morning</td>\n",
       "      <td>Mumbai</td>\n",
       "      <td>Economy</td>\n",
       "      <td>2.33</td>\n",
       "      <td>1</td>\n",
       "      <td>5953</td>\n",
       "    </tr>\n",
       "    <tr>\n",
       "      <th>2</th>\n",
       "      <td>2</td>\n",
       "      <td>AirAsia</td>\n",
       "      <td>I5-764</td>\n",
       "      <td>Delhi</td>\n",
       "      <td>Early_Morning</td>\n",
       "      <td>zero</td>\n",
       "      <td>Early_Morning</td>\n",
       "      <td>Mumbai</td>\n",
       "      <td>Economy</td>\n",
       "      <td>2.17</td>\n",
       "      <td>1</td>\n",
       "      <td>5956</td>\n",
       "    </tr>\n",
       "    <tr>\n",
       "      <th>3</th>\n",
       "      <td>3</td>\n",
       "      <td>Vistara</td>\n",
       "      <td>UK-995</td>\n",
       "      <td>Delhi</td>\n",
       "      <td>Morning</td>\n",
       "      <td>zero</td>\n",
       "      <td>Afternoon</td>\n",
       "      <td>Mumbai</td>\n",
       "      <td>Economy</td>\n",
       "      <td>2.25</td>\n",
       "      <td>1</td>\n",
       "      <td>5955</td>\n",
       "    </tr>\n",
       "    <tr>\n",
       "      <th>4</th>\n",
       "      <td>4</td>\n",
       "      <td>Vistara</td>\n",
       "      <td>UK-963</td>\n",
       "      <td>Delhi</td>\n",
       "      <td>Morning</td>\n",
       "      <td>zero</td>\n",
       "      <td>Morning</td>\n",
       "      <td>Mumbai</td>\n",
       "      <td>Economy</td>\n",
       "      <td>2.33</td>\n",
       "      <td>1</td>\n",
       "      <td>5955</td>\n",
       "    </tr>\n",
       "  </tbody>\n",
       "</table>\n",
       "</div>"
      ],
      "text/plain": [
       "   Unnamed: 0   airline   flight source_city departure_time stops  \\\n",
       "0           0  SpiceJet  SG-8709       Delhi        Evening  zero   \n",
       "1           1  SpiceJet  SG-8157       Delhi  Early_Morning  zero   \n",
       "2           2   AirAsia   I5-764       Delhi  Early_Morning  zero   \n",
       "3           3   Vistara   UK-995       Delhi        Morning  zero   \n",
       "4           4   Vistara   UK-963       Delhi        Morning  zero   \n",
       "\n",
       "    arrival_time destination_city    class  duration  days_left  price  \n",
       "0          Night           Mumbai  Economy      2.17          1   5953  \n",
       "1        Morning           Mumbai  Economy      2.33          1   5953  \n",
       "2  Early_Morning           Mumbai  Economy      2.17          1   5956  \n",
       "3      Afternoon           Mumbai  Economy      2.25          1   5955  \n",
       "4        Morning           Mumbai  Economy      2.33          1   5955  "
      ]
     },
     "execution_count": 232,
     "metadata": {},
     "output_type": "execute_result"
    }
   ],
   "source": [
    "df = pd.read_csv(r'C:\\Users\\Omen\\Desktop\\Hacktiv8\\P1\\Milestone 2\\Clean_Dataset.csv')\n",
    "df.head()"
   ]
  },
  {
   "cell_type": "code",
   "execution_count": 233,
   "metadata": {},
   "outputs": [
    {
     "data": {
      "text/html": [
       "<div>\n",
       "<style scoped>\n",
       "    .dataframe tbody tr th:only-of-type {\n",
       "        vertical-align: middle;\n",
       "    }\n",
       "\n",
       "    .dataframe tbody tr th {\n",
       "        vertical-align: top;\n",
       "    }\n",
       "\n",
       "    .dataframe thead th {\n",
       "        text-align: right;\n",
       "    }\n",
       "</style>\n",
       "<table border=\"1\" class=\"dataframe\">\n",
       "  <thead>\n",
       "    <tr style=\"text-align: right;\">\n",
       "      <th></th>\n",
       "      <th>Unnamed: 0</th>\n",
       "      <th>airline</th>\n",
       "      <th>flight</th>\n",
       "      <th>source_city</th>\n",
       "      <th>departure_time</th>\n",
       "      <th>stops</th>\n",
       "      <th>arrival_time</th>\n",
       "      <th>destination_city</th>\n",
       "      <th>class</th>\n",
       "      <th>duration</th>\n",
       "      <th>days_left</th>\n",
       "      <th>price</th>\n",
       "    </tr>\n",
       "  </thead>\n",
       "  <tbody>\n",
       "    <tr>\n",
       "      <th>300148</th>\n",
       "      <td>300148</td>\n",
       "      <td>Vistara</td>\n",
       "      <td>UK-822</td>\n",
       "      <td>Chennai</td>\n",
       "      <td>Morning</td>\n",
       "      <td>one</td>\n",
       "      <td>Evening</td>\n",
       "      <td>Hyderabad</td>\n",
       "      <td>Business</td>\n",
       "      <td>10.08</td>\n",
       "      <td>49</td>\n",
       "      <td>69265</td>\n",
       "    </tr>\n",
       "    <tr>\n",
       "      <th>300149</th>\n",
       "      <td>300149</td>\n",
       "      <td>Vistara</td>\n",
       "      <td>UK-826</td>\n",
       "      <td>Chennai</td>\n",
       "      <td>Afternoon</td>\n",
       "      <td>one</td>\n",
       "      <td>Night</td>\n",
       "      <td>Hyderabad</td>\n",
       "      <td>Business</td>\n",
       "      <td>10.42</td>\n",
       "      <td>49</td>\n",
       "      <td>77105</td>\n",
       "    </tr>\n",
       "    <tr>\n",
       "      <th>300150</th>\n",
       "      <td>300150</td>\n",
       "      <td>Vistara</td>\n",
       "      <td>UK-832</td>\n",
       "      <td>Chennai</td>\n",
       "      <td>Early_Morning</td>\n",
       "      <td>one</td>\n",
       "      <td>Night</td>\n",
       "      <td>Hyderabad</td>\n",
       "      <td>Business</td>\n",
       "      <td>13.83</td>\n",
       "      <td>49</td>\n",
       "      <td>79099</td>\n",
       "    </tr>\n",
       "    <tr>\n",
       "      <th>300151</th>\n",
       "      <td>300151</td>\n",
       "      <td>Vistara</td>\n",
       "      <td>UK-828</td>\n",
       "      <td>Chennai</td>\n",
       "      <td>Early_Morning</td>\n",
       "      <td>one</td>\n",
       "      <td>Evening</td>\n",
       "      <td>Hyderabad</td>\n",
       "      <td>Business</td>\n",
       "      <td>10.00</td>\n",
       "      <td>49</td>\n",
       "      <td>81585</td>\n",
       "    </tr>\n",
       "    <tr>\n",
       "      <th>300152</th>\n",
       "      <td>300152</td>\n",
       "      <td>Vistara</td>\n",
       "      <td>UK-822</td>\n",
       "      <td>Chennai</td>\n",
       "      <td>Morning</td>\n",
       "      <td>one</td>\n",
       "      <td>Evening</td>\n",
       "      <td>Hyderabad</td>\n",
       "      <td>Business</td>\n",
       "      <td>10.08</td>\n",
       "      <td>49</td>\n",
       "      <td>81585</td>\n",
       "    </tr>\n",
       "  </tbody>\n",
       "</table>\n",
       "</div>"
      ],
      "text/plain": [
       "        Unnamed: 0  airline  flight source_city departure_time stops  \\\n",
       "300148      300148  Vistara  UK-822     Chennai        Morning   one   \n",
       "300149      300149  Vistara  UK-826     Chennai      Afternoon   one   \n",
       "300150      300150  Vistara  UK-832     Chennai  Early_Morning   one   \n",
       "300151      300151  Vistara  UK-828     Chennai  Early_Morning   one   \n",
       "300152      300152  Vistara  UK-822     Chennai        Morning   one   \n",
       "\n",
       "       arrival_time destination_city     class  duration  days_left  price  \n",
       "300148      Evening        Hyderabad  Business     10.08         49  69265  \n",
       "300149        Night        Hyderabad  Business     10.42         49  77105  \n",
       "300150        Night        Hyderabad  Business     13.83         49  79099  \n",
       "300151      Evening        Hyderabad  Business     10.00         49  81585  \n",
       "300152      Evening        Hyderabad  Business     10.08         49  81585  "
      ]
     },
     "execution_count": 233,
     "metadata": {},
     "output_type": "execute_result"
    }
   ],
   "source": [
    "df.tail()"
   ]
  },
  {
   "cell_type": "markdown",
   "metadata": {},
   "source": [
    "Copy data ke variabel baru"
   ]
  },
  {
   "cell_type": "code",
   "execution_count": 234,
   "metadata": {},
   "outputs": [],
   "source": [
    "dfc = df.copy()"
   ]
  },
  {
   "cell_type": "code",
   "execution_count": 235,
   "metadata": {},
   "outputs": [
    {
     "data": {
      "text/html": [
       "<div>\n",
       "<style scoped>\n",
       "    .dataframe tbody tr th:only-of-type {\n",
       "        vertical-align: middle;\n",
       "    }\n",
       "\n",
       "    .dataframe tbody tr th {\n",
       "        vertical-align: top;\n",
       "    }\n",
       "\n",
       "    .dataframe thead th {\n",
       "        text-align: right;\n",
       "    }\n",
       "</style>\n",
       "<table border=\"1\" class=\"dataframe\">\n",
       "  <thead>\n",
       "    <tr style=\"text-align: right;\">\n",
       "      <th></th>\n",
       "      <th>Unnamed: 0</th>\n",
       "      <th>airline</th>\n",
       "      <th>flight</th>\n",
       "      <th>source_city</th>\n",
       "      <th>departure_time</th>\n",
       "      <th>stops</th>\n",
       "      <th>arrival_time</th>\n",
       "      <th>destination_city</th>\n",
       "      <th>class</th>\n",
       "      <th>duration</th>\n",
       "      <th>days_left</th>\n",
       "      <th>price</th>\n",
       "    </tr>\n",
       "  </thead>\n",
       "  <tbody>\n",
       "    <tr>\n",
       "      <th>3</th>\n",
       "      <td>3</td>\n",
       "      <td>Vistara</td>\n",
       "      <td>UK-995</td>\n",
       "      <td>Delhi</td>\n",
       "      <td>Morning</td>\n",
       "      <td>zero</td>\n",
       "      <td>Afternoon</td>\n",
       "      <td>Mumbai</td>\n",
       "      <td>Economy</td>\n",
       "      <td>2.25</td>\n",
       "      <td>1</td>\n",
       "      <td>5955</td>\n",
       "    </tr>\n",
       "    <tr>\n",
       "      <th>4</th>\n",
       "      <td>4</td>\n",
       "      <td>Vistara</td>\n",
       "      <td>UK-963</td>\n",
       "      <td>Delhi</td>\n",
       "      <td>Morning</td>\n",
       "      <td>zero</td>\n",
       "      <td>Morning</td>\n",
       "      <td>Mumbai</td>\n",
       "      <td>Economy</td>\n",
       "      <td>2.33</td>\n",
       "      <td>1</td>\n",
       "      <td>5955</td>\n",
       "    </tr>\n",
       "    <tr>\n",
       "      <th>5</th>\n",
       "      <td>5</td>\n",
       "      <td>Vistara</td>\n",
       "      <td>UK-945</td>\n",
       "      <td>Delhi</td>\n",
       "      <td>Morning</td>\n",
       "      <td>zero</td>\n",
       "      <td>Afternoon</td>\n",
       "      <td>Mumbai</td>\n",
       "      <td>Economy</td>\n",
       "      <td>2.33</td>\n",
       "      <td>1</td>\n",
       "      <td>5955</td>\n",
       "    </tr>\n",
       "    <tr>\n",
       "      <th>6</th>\n",
       "      <td>6</td>\n",
       "      <td>Vistara</td>\n",
       "      <td>UK-927</td>\n",
       "      <td>Delhi</td>\n",
       "      <td>Morning</td>\n",
       "      <td>zero</td>\n",
       "      <td>Morning</td>\n",
       "      <td>Mumbai</td>\n",
       "      <td>Economy</td>\n",
       "      <td>2.08</td>\n",
       "      <td>1</td>\n",
       "      <td>6060</td>\n",
       "    </tr>\n",
       "    <tr>\n",
       "      <th>7</th>\n",
       "      <td>7</td>\n",
       "      <td>Vistara</td>\n",
       "      <td>UK-951</td>\n",
       "      <td>Delhi</td>\n",
       "      <td>Afternoon</td>\n",
       "      <td>zero</td>\n",
       "      <td>Evening</td>\n",
       "      <td>Mumbai</td>\n",
       "      <td>Economy</td>\n",
       "      <td>2.17</td>\n",
       "      <td>1</td>\n",
       "      <td>6060</td>\n",
       "    </tr>\n",
       "  </tbody>\n",
       "</table>\n",
       "</div>"
      ],
      "text/plain": [
       "   Unnamed: 0  airline  flight source_city departure_time stops arrival_time  \\\n",
       "3           3  Vistara  UK-995       Delhi        Morning  zero    Afternoon   \n",
       "4           4  Vistara  UK-963       Delhi        Morning  zero      Morning   \n",
       "5           5  Vistara  UK-945       Delhi        Morning  zero    Afternoon   \n",
       "6           6  Vistara  UK-927       Delhi        Morning  zero      Morning   \n",
       "7           7  Vistara  UK-951       Delhi      Afternoon  zero      Evening   \n",
       "\n",
       "  destination_city    class  duration  days_left  price  \n",
       "3           Mumbai  Economy      2.25          1   5955  \n",
       "4           Mumbai  Economy      2.33          1   5955  \n",
       "5           Mumbai  Economy      2.33          1   5955  \n",
       "6           Mumbai  Economy      2.08          1   6060  \n",
       "7           Mumbai  Economy      2.17          1   6060  "
      ]
     },
     "execution_count": 235,
     "metadata": {},
     "output_type": "execute_result"
    }
   ],
   "source": [
    "df = df.loc[(df.airline == \"Vistara\")]\n",
    "df.head()"
   ]
  },
  {
   "cell_type": "code",
   "execution_count": 236,
   "metadata": {},
   "outputs": [
    {
     "data": {
      "text/html": [
       "<div>\n",
       "<style scoped>\n",
       "    .dataframe tbody tr th:only-of-type {\n",
       "        vertical-align: middle;\n",
       "    }\n",
       "\n",
       "    .dataframe tbody tr th {\n",
       "        vertical-align: top;\n",
       "    }\n",
       "\n",
       "    .dataframe thead th {\n",
       "        text-align: right;\n",
       "    }\n",
       "</style>\n",
       "<table border=\"1\" class=\"dataframe\">\n",
       "  <thead>\n",
       "    <tr style=\"text-align: right;\">\n",
       "      <th></th>\n",
       "      <th>Unnamed: 0</th>\n",
       "      <th>airline</th>\n",
       "      <th>flight</th>\n",
       "      <th>source_city</th>\n",
       "      <th>departure_time</th>\n",
       "      <th>stops</th>\n",
       "      <th>arrival_time</th>\n",
       "      <th>destination_city</th>\n",
       "      <th>class</th>\n",
       "      <th>duration</th>\n",
       "      <th>days_left</th>\n",
       "      <th>price</th>\n",
       "    </tr>\n",
       "  </thead>\n",
       "  <tbody>\n",
       "    <tr>\n",
       "      <th>0</th>\n",
       "      <td>3</td>\n",
       "      <td>Vistara</td>\n",
       "      <td>UK-995</td>\n",
       "      <td>Delhi</td>\n",
       "      <td>Morning</td>\n",
       "      <td>zero</td>\n",
       "      <td>Afternoon</td>\n",
       "      <td>Mumbai</td>\n",
       "      <td>Economy</td>\n",
       "      <td>2.25</td>\n",
       "      <td>1</td>\n",
       "      <td>5955</td>\n",
       "    </tr>\n",
       "    <tr>\n",
       "      <th>1</th>\n",
       "      <td>4</td>\n",
       "      <td>Vistara</td>\n",
       "      <td>UK-963</td>\n",
       "      <td>Delhi</td>\n",
       "      <td>Morning</td>\n",
       "      <td>zero</td>\n",
       "      <td>Morning</td>\n",
       "      <td>Mumbai</td>\n",
       "      <td>Economy</td>\n",
       "      <td>2.33</td>\n",
       "      <td>1</td>\n",
       "      <td>5955</td>\n",
       "    </tr>\n",
       "    <tr>\n",
       "      <th>2</th>\n",
       "      <td>5</td>\n",
       "      <td>Vistara</td>\n",
       "      <td>UK-945</td>\n",
       "      <td>Delhi</td>\n",
       "      <td>Morning</td>\n",
       "      <td>zero</td>\n",
       "      <td>Afternoon</td>\n",
       "      <td>Mumbai</td>\n",
       "      <td>Economy</td>\n",
       "      <td>2.33</td>\n",
       "      <td>1</td>\n",
       "      <td>5955</td>\n",
       "    </tr>\n",
       "    <tr>\n",
       "      <th>3</th>\n",
       "      <td>6</td>\n",
       "      <td>Vistara</td>\n",
       "      <td>UK-927</td>\n",
       "      <td>Delhi</td>\n",
       "      <td>Morning</td>\n",
       "      <td>zero</td>\n",
       "      <td>Morning</td>\n",
       "      <td>Mumbai</td>\n",
       "      <td>Economy</td>\n",
       "      <td>2.08</td>\n",
       "      <td>1</td>\n",
       "      <td>6060</td>\n",
       "    </tr>\n",
       "    <tr>\n",
       "      <th>4</th>\n",
       "      <td>7</td>\n",
       "      <td>Vistara</td>\n",
       "      <td>UK-951</td>\n",
       "      <td>Delhi</td>\n",
       "      <td>Afternoon</td>\n",
       "      <td>zero</td>\n",
       "      <td>Evening</td>\n",
       "      <td>Mumbai</td>\n",
       "      <td>Economy</td>\n",
       "      <td>2.17</td>\n",
       "      <td>1</td>\n",
       "      <td>6060</td>\n",
       "    </tr>\n",
       "  </tbody>\n",
       "</table>\n",
       "</div>"
      ],
      "text/plain": [
       "   Unnamed: 0  airline  flight source_city departure_time stops arrival_time  \\\n",
       "0           3  Vistara  UK-995       Delhi        Morning  zero    Afternoon   \n",
       "1           4  Vistara  UK-963       Delhi        Morning  zero      Morning   \n",
       "2           5  Vistara  UK-945       Delhi        Morning  zero    Afternoon   \n",
       "3           6  Vistara  UK-927       Delhi        Morning  zero      Morning   \n",
       "4           7  Vistara  UK-951       Delhi      Afternoon  zero      Evening   \n",
       "\n",
       "  destination_city    class  duration  days_left  price  \n",
       "0           Mumbai  Economy      2.25          1   5955  \n",
       "1           Mumbai  Economy      2.33          1   5955  \n",
       "2           Mumbai  Economy      2.33          1   5955  \n",
       "3           Mumbai  Economy      2.08          1   6060  \n",
       "4           Mumbai  Economy      2.17          1   6060  "
      ]
     },
     "execution_count": 236,
     "metadata": {},
     "output_type": "execute_result"
    }
   ],
   "source": [
    "df.reset_index(drop=True, inplace=True)\n",
    "df.head()"
   ]
  },
  {
   "cell_type": "markdown",
   "metadata": {},
   "source": [
    "Save dataset yang hanya berisi Vistara airline"
   ]
  },
  {
   "cell_type": "code",
   "execution_count": 237,
   "metadata": {},
   "outputs": [],
   "source": [
    "df.to_csv('Vistara.csv')"
   ]
  },
  {
   "cell_type": "markdown",
   "metadata": {
    "id": "w9g9FUqe0rZJ"
   },
   "source": [
    "# 4 - Exploratory Data Analysis (EDA)"
   ]
  },
  {
   "cell_type": "code",
   "execution_count": 238,
   "metadata": {},
   "outputs": [
    {
     "name": "stdout",
     "output_type": "stream",
     "text": [
      "<class 'pandas.core.frame.DataFrame'>\n",
      "RangeIndex: 127859 entries, 0 to 127858\n",
      "Data columns (total 12 columns):\n",
      " #   Column            Non-Null Count   Dtype  \n",
      "---  ------            --------------   -----  \n",
      " 0   Unnamed: 0        127859 non-null  int64  \n",
      " 1   airline           127859 non-null  object \n",
      " 2   flight            127859 non-null  object \n",
      " 3   source_city       127859 non-null  object \n",
      " 4   departure_time    127859 non-null  object \n",
      " 5   stops             127859 non-null  object \n",
      " 6   arrival_time      127859 non-null  object \n",
      " 7   destination_city  127859 non-null  object \n",
      " 8   class             127859 non-null  object \n",
      " 9   duration          127859 non-null  float64\n",
      " 10  days_left         127859 non-null  int64  \n",
      " 11  price             127859 non-null  int64  \n",
      "dtypes: float64(1), int64(3), object(8)\n",
      "memory usage: 11.7+ MB\n"
     ]
    }
   ],
   "source": [
    "df.info(null_counts=True)"
   ]
  },
  {
   "cell_type": "markdown",
   "metadata": {},
   "source": [
    "Tidak ada missing value"
   ]
  },
  {
   "cell_type": "markdown",
   "metadata": {},
   "source": [
    "lihat unique value tiap kolom"
   ]
  },
  {
   "cell_type": "code",
   "execution_count": 239,
   "metadata": {},
   "outputs": [
    {
     "data": {
      "text/plain": [
       "array(['Delhi', 'Mumbai', 'Bangalore', 'Kolkata', 'Hyderabad', 'Chennai'],\n",
       "      dtype=object)"
      ]
     },
     "execution_count": 239,
     "metadata": {},
     "output_type": "execute_result"
    }
   ],
   "source": [
    "df['source_city'].unique()"
   ]
  },
  {
   "cell_type": "code",
   "execution_count": 240,
   "metadata": {},
   "outputs": [
    {
     "data": {
      "text/plain": [
       "array(['Mumbai', 'Bangalore', 'Kolkata', 'Hyderabad', 'Chennai', 'Delhi'],\n",
       "      dtype=object)"
      ]
     },
     "execution_count": 240,
     "metadata": {},
     "output_type": "execute_result"
    }
   ],
   "source": [
    "df['destination_city'].unique()"
   ]
  },
  {
   "cell_type": "code",
   "execution_count": 241,
   "metadata": {},
   "outputs": [
    {
     "data": {
      "text/plain": [
       "array([ 1,  2,  3,  4,  5,  6,  7,  8,  9, 10, 11, 12, 13, 14, 15, 16, 17,\n",
       "       18, 19, 20, 21, 22, 23, 24, 25, 26, 27, 28, 29, 30, 31, 32, 33, 34,\n",
       "       35, 36, 37, 38, 39, 40, 41, 42, 43, 44, 45, 46, 47, 48, 49],\n",
       "      dtype=int64)"
      ]
     },
     "execution_count": 241,
     "metadata": {},
     "output_type": "execute_result"
    }
   ],
   "source": [
    "df['days_left'].unique()"
   ]
  },
  {
   "cell_type": "code",
   "execution_count": 242,
   "metadata": {},
   "outputs": [
    {
     "data": {
      "text/plain": [
       "array(['zero', 'one', 'two_or_more'], dtype=object)"
      ]
     },
     "execution_count": 242,
     "metadata": {},
     "output_type": "execute_result"
    }
   ],
   "source": [
    "df['stops'].unique()"
   ]
  },
  {
   "cell_type": "code",
   "execution_count": 243,
   "metadata": {},
   "outputs": [
    {
     "data": {
      "text/plain": [
       "array(['Afternoon', 'Morning', 'Evening', 'Night', 'Early_Morning',\n",
       "       'Late_Night'], dtype=object)"
      ]
     },
     "execution_count": 243,
     "metadata": {},
     "output_type": "execute_result"
    }
   ],
   "source": [
    "df['arrival_time'].unique()"
   ]
  },
  {
   "cell_type": "code",
   "execution_count": 244,
   "metadata": {},
   "outputs": [
    {
     "data": {
      "text/plain": [
       "array(['Economy', 'Business'], dtype=object)"
      ]
     },
     "execution_count": 244,
     "metadata": {},
     "output_type": "execute_result"
    }
   ],
   "source": [
    "df['class'].unique()"
   ]
  },
  {
   "cell_type": "code",
   "execution_count": 245,
   "metadata": {},
   "outputs": [
    {
     "data": {
      "text/plain": [
       "47.08"
      ]
     },
     "execution_count": 245,
     "metadata": {},
     "output_type": "execute_result"
    }
   ],
   "source": [
    "df['duration'].max()"
   ]
  },
  {
   "cell_type": "code",
   "execution_count": 246,
   "metadata": {},
   "outputs": [
    {
     "data": {
      "text/plain": [
       "array(['Morning', 'Afternoon', 'Evening', 'Early_Morning', 'Night'],\n",
       "      dtype=object)"
      ]
     },
     "execution_count": 246,
     "metadata": {},
     "output_type": "execute_result"
    }
   ],
   "source": [
    "df['departure_time'].unique()"
   ]
  },
  {
   "cell_type": "markdown",
   "metadata": {},
   "source": [
    "Cek korelasi dengan spearman"
   ]
  },
  {
   "cell_type": "code",
   "execution_count": 247,
   "metadata": {},
   "outputs": [
    {
     "data": {
      "text/html": [
       "<div>\n",
       "<style scoped>\n",
       "    .dataframe tbody tr th:only-of-type {\n",
       "        vertical-align: middle;\n",
       "    }\n",
       "\n",
       "    .dataframe tbody tr th {\n",
       "        vertical-align: top;\n",
       "    }\n",
       "\n",
       "    .dataframe thead th {\n",
       "        text-align: right;\n",
       "    }\n",
       "</style>\n",
       "<table border=\"1\" class=\"dataframe\">\n",
       "  <thead>\n",
       "    <tr style=\"text-align: right;\">\n",
       "      <th></th>\n",
       "      <th>Unnamed: 0</th>\n",
       "      <th>duration</th>\n",
       "      <th>days_left</th>\n",
       "      <th>price</th>\n",
       "    </tr>\n",
       "  </thead>\n",
       "  <tbody>\n",
       "    <tr>\n",
       "      <th>Unnamed: 0</th>\n",
       "      <td>1.000000</td>\n",
       "      <td>0.071752</td>\n",
       "      <td>0.032562</td>\n",
       "      <td>0.787599</td>\n",
       "    </tr>\n",
       "    <tr>\n",
       "      <th>duration</th>\n",
       "      <td>0.071752</td>\n",
       "      <td>1.000000</td>\n",
       "      <td>-0.032839</td>\n",
       "      <td>0.057582</td>\n",
       "    </tr>\n",
       "    <tr>\n",
       "      <th>days_left</th>\n",
       "      <td>0.032562</td>\n",
       "      <td>-0.032839</td>\n",
       "      <td>1.000000</td>\n",
       "      <td>-0.068856</td>\n",
       "    </tr>\n",
       "    <tr>\n",
       "      <th>price</th>\n",
       "      <td>0.787599</td>\n",
       "      <td>0.057582</td>\n",
       "      <td>-0.068856</td>\n",
       "      <td>1.000000</td>\n",
       "    </tr>\n",
       "  </tbody>\n",
       "</table>\n",
       "</div>"
      ],
      "text/plain": [
       "            Unnamed: 0  duration  days_left     price\n",
       "Unnamed: 0    1.000000  0.071752   0.032562  0.787599\n",
       "duration      0.071752  1.000000  -0.032839  0.057582\n",
       "days_left     0.032562 -0.032839   1.000000 -0.068856\n",
       "price         0.787599  0.057582  -0.068856  1.000000"
      ]
     },
     "execution_count": 247,
     "metadata": {},
     "output_type": "execute_result"
    }
   ],
   "source": [
    "df.corr()"
   ]
  },
  {
   "cell_type": "markdown",
   "metadata": {},
   "source": [
    "Perbandingan penerbangan kelas ekonomi dan bisnis"
   ]
  },
  {
   "cell_type": "code",
   "execution_count": 248,
   "metadata": {},
   "outputs": [
    {
     "data": {
      "image/png": "[encoded data removed]",
      "text/plain": [
       "<Figure size 1000x600 with 1 Axes>"
      ]
     },
     "metadata": {},
     "output_type": "display_data"
    }
   ],
   "source": [
    "plt.figure(figsize =(10,6))\n",
    "plt.title('Percentage of Economy and Business class Flights', fontsize=15, color='Blue')\n",
    "df['class'].value_counts().plot(kind='pie', autopct='%1.1f%%')\n",
    "plt.ylabel('')\n",
    "plt.show()"
   ]
  },
  {
   "cell_type": "markdown",
   "metadata": {},
   "source": [
    "Kelas ekonomi lebih banyak sekitar 15% dari kelas bisnis\n"
   ]
  },
  {
   "cell_type": "markdown",
   "metadata": {},
   "source": [
    "Lihat lineplot pengaruh seilisih hari keberangkatan dengan harga tiket\n"
   ]
  },
  {
   "cell_type": "code",
   "execution_count": 249,
   "metadata": {},
   "outputs": [
    {
     "data": {
      "image/png": "[encoded data removed]",
      "text/plain": [
       "<Figure size 1500x500 with 1 Axes>"
      ]
     },
     "metadata": {},
     "output_type": "display_data"
    }
   ],
   "source": [
    "plt.figure(figsize=(15,5))\n",
    "sns.lineplot(data=df,x='days_left',y='price',color='blue')\n",
    "plt.title('Days Left For Departure Versus Ticket Price',fontsize=15)\n",
    "plt.xlabel('Days Left for Departure',fontsize=15)\n",
    "plt.ylabel('Price',fontsize=15)\n",
    "plt.show()"
   ]
  },
  {
   "cell_type": "markdown",
   "metadata": {},
   "source": [
    "Bisa dilihat, semakin jauh dari hari keberangkatan, semakin murah harga tiket."
   ]
  },
  {
   "cell_type": "markdown",
   "metadata": {},
   "source": [
    "Lihat harga tiket berdasarkan waktu keberangkatan"
   ]
  },
  {
   "cell_type": "code",
   "execution_count": 250,
   "metadata": {},
   "outputs": [
    {
     "data": {
      "image/png": "[encoded data removed]",
      "text/plain": [
       "<Figure size 1200x650 with 1 Axes>"
      ]
     },
     "metadata": {},
     "output_type": "display_data"
    }
   ],
   "source": [
    "sns.catplot(data=df, kind=\"bar\", x=\"departure_time\", y=\"price\", height=6.5, aspect=12/6.5 ,palette='Paired')\n",
    "plt.title('Ticket price based on the Departure time',fontsize=15)\n",
    "plt.xlabel('Departure Time',fontsize=15)\n",
    "plt.ylabel('Price',fontsize=15)\n",
    "plt.show()"
   ]
  },
  {
   "cell_type": "markdown",
   "metadata": {},
   "source": [
    "Hanya ada sedikit perbedaan antar waktu keberangkatan dengan harga tiket"
   ]
  },
  {
   "cell_type": "markdown",
   "metadata": {},
   "source": [
    "Lihat barplot harga tiket berdasarkan lokasi tujuan"
   ]
  },
  {
   "cell_type": "code",
   "execution_count": 251,
   "metadata": {},
   "outputs": [
    {
     "data": {
      "image/png": "[encoded data removed]",
      "text/plain": [
       "<Figure size 1200x650 with 1 Axes>"
      ]
     },
     "metadata": {},
     "output_type": "display_data"
    }
   ],
   "source": [
    "sns.catplot(data=df, kind=\"bar\", x=\"destination_city\", y=\"price\", height=6.5, aspect=12/6.5 ,palette='Paired')\n",
    "plt.title('Ticket price based on the Destinantion City',fontsize=15)\n",
    "plt.xlabel('Destinantion City',fontsize=15)\n",
    "plt.ylabel('Price',fontsize=15)\n",
    "plt.show()"
   ]
  },
  {
   "cell_type": "markdown",
   "metadata": {},
   "source": [
    "Paling murah adalah penerbangan ke Hyderabad dan paling mahal ke Kolkata"
   ]
  },
  {
   "cell_type": "markdown",
   "metadata": {},
   "source": [
    "Lihat barplot harga tiket berdasarkan lokasi keberangkatan"
   ]
  },
  {
   "cell_type": "code",
   "execution_count": 252,
   "metadata": {},
   "outputs": [
    {
     "data": {
      "image/png": "[encoded data removed]",
      "text/plain": [
       "<Figure size 1200x650 with 1 Axes>"
      ]
     },
     "metadata": {},
     "output_type": "display_data"
    }
   ],
   "source": [
    "sns.catplot(data=df, kind=\"bar\", x=\"source_city\", y=\"price\", height=6.5, aspect=12/6.5 ,palette='Paired')\n",
    "plt.title('Ticket price based on source_city',fontsize=15)\n",
    "plt.xlabel('source_city',fontsize=15)\n",
    "plt.ylabel('Price',fontsize=15)\n",
    "plt.show()"
   ]
  },
  {
   "cell_type": "markdown",
   "metadata": {},
   "source": [
    "Paling murah adalah penerbangan dari Delhi dan paling mahal dari Kolkata"
   ]
  },
  {
   "cell_type": "markdown",
   "metadata": {},
   "source": [
    "Lihat plot harga tiket berdasarkan jumlah transit"
   ]
  },
  {
   "cell_type": "code",
   "execution_count": 253,
   "metadata": {},
   "outputs": [
    {
     "data": {
      "image/png": "[encoded data removed]",
      "text/plain": [
       "<Figure size 1200x650 with 1 Axes>"
      ]
     },
     "metadata": {},
     "output_type": "display_data"
    }
   ],
   "source": [
    "sns.catplot(data=df, kind=\"bar\", x=\"stops\", y=\"price\", height=6.5, aspect=12/6.5 ,palette='Paired')\n",
    "plt.title('Ticket price based on stops',fontsize=15)\n",
    "plt.xlabel('Stops',fontsize=15)\n",
    "plt.ylabel('Price',fontsize=15)\n",
    "plt.show()"
   ]
  },
  {
   "cell_type": "markdown",
   "metadata": {},
   "source": [
    "Harga tiket jauh lebih mahal jika penerbangan melakukan 1x transit daripada tidak transit atau transit 2x atau lebih."
   ]
  },
  {
   "cell_type": "markdown",
   "metadata": {
    "id": "DBw_XhNn2iVE"
   },
   "source": [
    "# 5 - Data Preprocessing"
   ]
  },
  {
   "cell_type": "markdown",
   "metadata": {},
   "source": [
    "Drop kolom Airlines, unnamed dan flight karena tidak relevan"
   ]
  },
  {
   "cell_type": "code",
   "execution_count": 254,
   "metadata": {},
   "outputs": [],
   "source": [
    "df = df.drop(['Unnamed: 0','flight','airline'], axis = 1)"
   ]
  },
  {
   "cell_type": "code",
   "execution_count": 255,
   "metadata": {},
   "outputs": [
    {
     "data": {
      "text/html": [
       "<div>\n",
       "<style scoped>\n",
       "    .dataframe tbody tr th:only-of-type {\n",
       "        vertical-align: middle;\n",
       "    }\n",
       "\n",
       "    .dataframe tbody tr th {\n",
       "        vertical-align: top;\n",
       "    }\n",
       "\n",
       "    .dataframe thead th {\n",
       "        text-align: right;\n",
       "    }\n",
       "</style>\n",
       "<table border=\"1\" class=\"dataframe\">\n",
       "  <thead>\n",
       "    <tr style=\"text-align: right;\">\n",
       "      <th></th>\n",
       "      <th>source_city</th>\n",
       "      <th>departure_time</th>\n",
       "      <th>stops</th>\n",
       "      <th>arrival_time</th>\n",
       "      <th>destination_city</th>\n",
       "      <th>class</th>\n",
       "      <th>duration</th>\n",
       "      <th>days_left</th>\n",
       "      <th>price</th>\n",
       "    </tr>\n",
       "  </thead>\n",
       "  <tbody>\n",
       "    <tr>\n",
       "      <th>0</th>\n",
       "      <td>Delhi</td>\n",
       "      <td>Morning</td>\n",
       "      <td>zero</td>\n",
       "      <td>Afternoon</td>\n",
       "      <td>Mumbai</td>\n",
       "      <td>Economy</td>\n",
       "      <td>2.25</td>\n",
       "      <td>1</td>\n",
       "      <td>5955</td>\n",
       "    </tr>\n",
       "    <tr>\n",
       "      <th>1</th>\n",
       "      <td>Delhi</td>\n",
       "      <td>Morning</td>\n",
       "      <td>zero</td>\n",
       "      <td>Morning</td>\n",
       "      <td>Mumbai</td>\n",
       "      <td>Economy</td>\n",
       "      <td>2.33</td>\n",
       "      <td>1</td>\n",
       "      <td>5955</td>\n",
       "    </tr>\n",
       "    <tr>\n",
       "      <th>2</th>\n",
       "      <td>Delhi</td>\n",
       "      <td>Morning</td>\n",
       "      <td>zero</td>\n",
       "      <td>Afternoon</td>\n",
       "      <td>Mumbai</td>\n",
       "      <td>Economy</td>\n",
       "      <td>2.33</td>\n",
       "      <td>1</td>\n",
       "      <td>5955</td>\n",
       "    </tr>\n",
       "    <tr>\n",
       "      <th>3</th>\n",
       "      <td>Delhi</td>\n",
       "      <td>Morning</td>\n",
       "      <td>zero</td>\n",
       "      <td>Morning</td>\n",
       "      <td>Mumbai</td>\n",
       "      <td>Economy</td>\n",
       "      <td>2.08</td>\n",
       "      <td>1</td>\n",
       "      <td>6060</td>\n",
       "    </tr>\n",
       "    <tr>\n",
       "      <th>4</th>\n",
       "      <td>Delhi</td>\n",
       "      <td>Afternoon</td>\n",
       "      <td>zero</td>\n",
       "      <td>Evening</td>\n",
       "      <td>Mumbai</td>\n",
       "      <td>Economy</td>\n",
       "      <td>2.17</td>\n",
       "      <td>1</td>\n",
       "      <td>6060</td>\n",
       "    </tr>\n",
       "  </tbody>\n",
       "</table>\n",
       "</div>"
      ],
      "text/plain": [
       "  source_city departure_time stops arrival_time destination_city    class  \\\n",
       "0       Delhi        Morning  zero    Afternoon           Mumbai  Economy   \n",
       "1       Delhi        Morning  zero      Morning           Mumbai  Economy   \n",
       "2       Delhi        Morning  zero    Afternoon           Mumbai  Economy   \n",
       "3       Delhi        Morning  zero      Morning           Mumbai  Economy   \n",
       "4       Delhi      Afternoon  zero      Evening           Mumbai  Economy   \n",
       "\n",
       "   duration  days_left  price  \n",
       "0      2.25          1   5955  \n",
       "1      2.33          1   5955  \n",
       "2      2.33          1   5955  \n",
       "3      2.08          1   6060  \n",
       "4      2.17          1   6060  "
      ]
     },
     "execution_count": 255,
     "metadata": {},
     "output_type": "execute_result"
    }
   ],
   "source": [
    "df.head()"
   ]
  },
  {
   "cell_type": "markdown",
   "metadata": {},
   "source": [
    "Dapatkan data untuk model inference"
   ]
  },
  {
   "cell_type": "code",
   "execution_count": 256,
   "metadata": {},
   "outputs": [
    {
     "data": {
      "text/html": [
       "<div>\n",
       "<style scoped>\n",
       "    .dataframe tbody tr th:only-of-type {\n",
       "        vertical-align: middle;\n",
       "    }\n",
       "\n",
       "    .dataframe tbody tr th {\n",
       "        vertical-align: top;\n",
       "    }\n",
       "\n",
       "    .dataframe thead th {\n",
       "        text-align: right;\n",
       "    }\n",
       "</style>\n",
       "<table border=\"1\" class=\"dataframe\">\n",
       "  <thead>\n",
       "    <tr style=\"text-align: right;\">\n",
       "      <th></th>\n",
       "      <th>source_city</th>\n",
       "      <th>departure_time</th>\n",
       "      <th>stops</th>\n",
       "      <th>arrival_time</th>\n",
       "      <th>destination_city</th>\n",
       "      <th>class</th>\n",
       "      <th>duration</th>\n",
       "      <th>days_left</th>\n",
       "      <th>price</th>\n",
       "    </tr>\n",
       "  </thead>\n",
       "  <tbody>\n",
       "    <tr>\n",
       "      <th>74204</th>\n",
       "      <td>Delhi</td>\n",
       "      <td>Night</td>\n",
       "      <td>zero</td>\n",
       "      <td>Night</td>\n",
       "      <td>Kolkata</td>\n",
       "      <td>Business</td>\n",
       "      <td>2.25</td>\n",
       "      <td>36</td>\n",
       "      <td>27976</td>\n",
       "    </tr>\n",
       "    <tr>\n",
       "      <th>34919</th>\n",
       "      <td>Bangalore</td>\n",
       "      <td>Evening</td>\n",
       "      <td>one</td>\n",
       "      <td>Morning</td>\n",
       "      <td>Hyderabad</td>\n",
       "      <td>Economy</td>\n",
       "      <td>13.75</td>\n",
       "      <td>44</td>\n",
       "      <td>6133</td>\n",
       "    </tr>\n",
       "    <tr>\n",
       "      <th>58683</th>\n",
       "      <td>Chennai</td>\n",
       "      <td>Afternoon</td>\n",
       "      <td>one</td>\n",
       "      <td>Night</td>\n",
       "      <td>Delhi</td>\n",
       "      <td>Economy</td>\n",
       "      <td>11.25</td>\n",
       "      <td>26</td>\n",
       "      <td>8803</td>\n",
       "    </tr>\n",
       "    <tr>\n",
       "      <th>75704</th>\n",
       "      <td>Delhi</td>\n",
       "      <td>Morning</td>\n",
       "      <td>one</td>\n",
       "      <td>Night</td>\n",
       "      <td>Hyderabad</td>\n",
       "      <td>Business</td>\n",
       "      <td>12.08</td>\n",
       "      <td>28</td>\n",
       "      <td>53937</td>\n",
       "    </tr>\n",
       "    <tr>\n",
       "      <th>18071</th>\n",
       "      <td>Mumbai</td>\n",
       "      <td>Morning</td>\n",
       "      <td>one</td>\n",
       "      <td>Night</td>\n",
       "      <td>Kolkata</td>\n",
       "      <td>Economy</td>\n",
       "      <td>12.33</td>\n",
       "      <td>8</td>\n",
       "      <td>11129</td>\n",
       "    </tr>\n",
       "    <tr>\n",
       "      <th>111698</th>\n",
       "      <td>Hyderabad</td>\n",
       "      <td>Afternoon</td>\n",
       "      <td>one</td>\n",
       "      <td>Evening</td>\n",
       "      <td>Delhi</td>\n",
       "      <td>Business</td>\n",
       "      <td>5.17</td>\n",
       "      <td>24</td>\n",
       "      <td>51875</td>\n",
       "    </tr>\n",
       "    <tr>\n",
       "      <th>34351</th>\n",
       "      <td>Bangalore</td>\n",
       "      <td>Early_Morning</td>\n",
       "      <td>one</td>\n",
       "      <td>Evening</td>\n",
       "      <td>Hyderabad</td>\n",
       "      <td>Economy</td>\n",
       "      <td>10.33</td>\n",
       "      <td>33</td>\n",
       "      <td>5871</td>\n",
       "    </tr>\n",
       "    <tr>\n",
       "      <th>65993</th>\n",
       "      <td>Chennai</td>\n",
       "      <td>Morning</td>\n",
       "      <td>one</td>\n",
       "      <td>Evening</td>\n",
       "      <td>Hyderabad</td>\n",
       "      <td>Economy</td>\n",
       "      <td>10.17</td>\n",
       "      <td>11</td>\n",
       "      <td>15563</td>\n",
       "    </tr>\n",
       "    <tr>\n",
       "      <th>89659</th>\n",
       "      <td>Mumbai</td>\n",
       "      <td>Morning</td>\n",
       "      <td>one</td>\n",
       "      <td>Evening</td>\n",
       "      <td>Chennai</td>\n",
       "      <td>Business</td>\n",
       "      <td>5.92</td>\n",
       "      <td>22</td>\n",
       "      <td>61933</td>\n",
       "    </tr>\n",
       "    <tr>\n",
       "      <th>23398</th>\n",
       "      <td>Mumbai</td>\n",
       "      <td>Afternoon</td>\n",
       "      <td>one</td>\n",
       "      <td>Night</td>\n",
       "      <td>Chennai</td>\n",
       "      <td>Economy</td>\n",
       "      <td>10.33</td>\n",
       "      <td>13</td>\n",
       "      <td>11129</td>\n",
       "    </tr>\n",
       "  </tbody>\n",
       "</table>\n",
       "</div>"
      ],
      "text/plain": [
       "       source_city departure_time stops arrival_time destination_city  \\\n",
       "74204        Delhi          Night  zero        Night          Kolkata   \n",
       "34919    Bangalore        Evening   one      Morning        Hyderabad   \n",
       "58683      Chennai      Afternoon   one        Night            Delhi   \n",
       "75704        Delhi        Morning   one        Night        Hyderabad   \n",
       "18071       Mumbai        Morning   one        Night          Kolkata   \n",
       "111698   Hyderabad      Afternoon   one      Evening            Delhi   \n",
       "34351    Bangalore  Early_Morning   one      Evening        Hyderabad   \n",
       "65993      Chennai        Morning   one      Evening        Hyderabad   \n",
       "89659       Mumbai        Morning   one      Evening          Chennai   \n",
       "23398       Mumbai      Afternoon   one        Night          Chennai   \n",
       "\n",
       "           class  duration  days_left  price  \n",
       "74204   Business      2.25         36  27976  \n",
       "34919    Economy     13.75         44   6133  \n",
       "58683    Economy     11.25         26   8803  \n",
       "75704   Business     12.08         28  53937  \n",
       "18071    Economy     12.33          8  11129  \n",
       "111698  Business      5.17         24  51875  \n",
       "34351    Economy     10.33         33   5871  \n",
       "65993    Economy     10.17         11  15563  \n",
       "89659   Business      5.92         22  61933  \n",
       "23398    Economy     10.33         13  11129  "
      ]
     },
     "execution_count": 256,
     "metadata": {},
     "output_type": "execute_result"
    }
   ],
   "source": [
    "data_inf = df.sample(10, random_state=1)\n",
    "data_inf"
   ]
  },
  {
   "cell_type": "markdown",
   "metadata": {},
   "source": [
    "Hapus data yang dijadikan inference set dari data yang akan digunakan sebagai model train-test"
   ]
  },
  {
   "cell_type": "code",
   "execution_count": 257,
   "metadata": {},
   "outputs": [
    {
     "data": {
      "text/html": [
       "<div>\n",
       "<style scoped>\n",
       "    .dataframe tbody tr th:only-of-type {\n",
       "        vertical-align: middle;\n",
       "    }\n",
       "\n",
       "    .dataframe tbody tr th {\n",
       "        vertical-align: top;\n",
       "    }\n",
       "\n",
       "    .dataframe thead th {\n",
       "        text-align: right;\n",
       "    }\n",
       "</style>\n",
       "<table border=\"1\" class=\"dataframe\">\n",
       "  <thead>\n",
       "    <tr style=\"text-align: right;\">\n",
       "      <th></th>\n",
       "      <th>source_city</th>\n",
       "      <th>departure_time</th>\n",
       "      <th>stops</th>\n",
       "      <th>arrival_time</th>\n",
       "      <th>destination_city</th>\n",
       "      <th>class</th>\n",
       "      <th>duration</th>\n",
       "      <th>days_left</th>\n",
       "      <th>price</th>\n",
       "    </tr>\n",
       "  </thead>\n",
       "  <tbody>\n",
       "    <tr>\n",
       "      <th>0</th>\n",
       "      <td>Delhi</td>\n",
       "      <td>Morning</td>\n",
       "      <td>zero</td>\n",
       "      <td>Afternoon</td>\n",
       "      <td>Mumbai</td>\n",
       "      <td>Economy</td>\n",
       "      <td>2.25</td>\n",
       "      <td>1</td>\n",
       "      <td>5955</td>\n",
       "    </tr>\n",
       "    <tr>\n",
       "      <th>1</th>\n",
       "      <td>Delhi</td>\n",
       "      <td>Morning</td>\n",
       "      <td>zero</td>\n",
       "      <td>Morning</td>\n",
       "      <td>Mumbai</td>\n",
       "      <td>Economy</td>\n",
       "      <td>2.33</td>\n",
       "      <td>1</td>\n",
       "      <td>5955</td>\n",
       "    </tr>\n",
       "    <tr>\n",
       "      <th>2</th>\n",
       "      <td>Delhi</td>\n",
       "      <td>Morning</td>\n",
       "      <td>zero</td>\n",
       "      <td>Afternoon</td>\n",
       "      <td>Mumbai</td>\n",
       "      <td>Economy</td>\n",
       "      <td>2.33</td>\n",
       "      <td>1</td>\n",
       "      <td>5955</td>\n",
       "    </tr>\n",
       "    <tr>\n",
       "      <th>3</th>\n",
       "      <td>Delhi</td>\n",
       "      <td>Morning</td>\n",
       "      <td>zero</td>\n",
       "      <td>Morning</td>\n",
       "      <td>Mumbai</td>\n",
       "      <td>Economy</td>\n",
       "      <td>2.08</td>\n",
       "      <td>1</td>\n",
       "      <td>6060</td>\n",
       "    </tr>\n",
       "    <tr>\n",
       "      <th>4</th>\n",
       "      <td>Delhi</td>\n",
       "      <td>Afternoon</td>\n",
       "      <td>zero</td>\n",
       "      <td>Evening</td>\n",
       "      <td>Mumbai</td>\n",
       "      <td>Economy</td>\n",
       "      <td>2.17</td>\n",
       "      <td>1</td>\n",
       "      <td>6060</td>\n",
       "    </tr>\n",
       "  </tbody>\n",
       "</table>\n",
       "</div>"
      ],
      "text/plain": [
       "  source_city departure_time stops arrival_time destination_city    class  \\\n",
       "0       Delhi        Morning  zero    Afternoon           Mumbai  Economy   \n",
       "1       Delhi        Morning  zero      Morning           Mumbai  Economy   \n",
       "2       Delhi        Morning  zero    Afternoon           Mumbai  Economy   \n",
       "3       Delhi        Morning  zero      Morning           Mumbai  Economy   \n",
       "4       Delhi      Afternoon  zero      Evening           Mumbai  Economy   \n",
       "\n",
       "   duration  days_left  price  \n",
       "0      2.25          1   5955  \n",
       "1      2.33          1   5955  \n",
       "2      2.33          1   5955  \n",
       "3      2.08          1   6060  \n",
       "4      2.17          1   6060  "
      ]
     },
     "execution_count": 257,
     "metadata": {},
     "output_type": "execute_result"
    }
   ],
   "source": [
    "data_train_test = df.drop(data_inf.index)\n",
    "data_train_test.head()"
   ]
  },
  {
   "cell_type": "markdown",
   "metadata": {},
   "source": [
    "Reset index"
   ]
  },
  {
   "cell_type": "code",
   "execution_count": 258,
   "metadata": {},
   "outputs": [],
   "source": [
    "data_train_test.reset_index(drop=True, inplace=True)\n",
    "data_inf.reset_index(drop=True, inplace=True)"
   ]
  },
  {
   "cell_type": "markdown",
   "metadata": {},
   "source": [
    "Split X dan y (drop kolom feature yang saling berkorelasi)"
   ]
  },
  {
   "cell_type": "code",
   "execution_count": 259,
   "metadata": {},
   "outputs": [],
   "source": [
    "X = data_train_test.drop(['price'], axis=1)\n",
    "y = data_train_test['price']"
   ]
  },
  {
   "cell_type": "markdown",
   "metadata": {},
   "source": [
    "Split data sebagai Train set dan Test set"
   ]
  },
  {
   "cell_type": "code",
   "execution_count": 260,
   "metadata": {},
   "outputs": [
    {
     "name": "stdout",
     "output_type": "stream",
     "text": [
      "Train Size :  (102279, 8)\n",
      "Test Size  :  (25570, 8)\n"
     ]
    }
   ],
   "source": [
    "X_train, X_test, y_train, y_test = train_test_split(X, y, test_size=0.2, random_state=101)\n",
    "print('Train Size : ', X_train.shape)\n",
    "print('Test Size  : ', X_test.shape)"
   ]
  },
  {
   "cell_type": "markdown",
   "metadata": {
    "id": "Lqa1SJb8IInd"
   },
   "source": [
    "# 6 - Model Definition"
   ]
  },
  {
   "cell_type": "markdown",
   "metadata": {},
   "source": [
    "Buat column tranform untuk dimasukkan ke dalam pipeline<br>\n",
    "\n",
    "ct1 berisi :\n",
    " * OneHotEncoder untuk encoding kolom 'source_city','destination_city','class','departure_time','arrival_time'\n",
    " * OrdinalEncoder untuk encoding kolom 'stops'\n",
    " * PowerTransformer untuk normalize kolom 'duration'\n",
    "\n",
    "ct2 berisi :\n",
    " * StandardScaler untuk scaling kolom 'days_left'\n",
    "\n",
    "ct3 berisi :\n",
    " * RandomForestRegressor()\n",
    "\n",
    "ct4 berisi :\n",
    " * LinearRegression()\n",
    "\n",
    "ct5 berisi :\n",
    " * DecisionTreeRegressor()\n",
    "\n",
    "ct6 berisi :\n",
    " * Lasso()"
   ]
  },
  {
   "cell_type": "code",
   "execution_count": 261,
   "metadata": {},
   "outputs": [],
   "source": [
    "ct1=ColumnTransformer(transformers=[\n",
    "    ('ohe',OneHotEncoder(drop='first',sparse=False,handle_unknown='ignore'),['source_city','destination_city','class','departure_time','arrival_time']),\n",
    "    ('oes',OrdinalEncoder(categories=[['zero','one','two_or_more']],handle_unknown='use_encoded_value',unknown_value=3),['stops']),\n",
    "    ('pt',PowerTransformer(),['duration']),\n",
    "],remainder='passthrough')"
   ]
  },
  {
   "cell_type": "code",
   "execution_count": 262,
   "metadata": {},
   "outputs": [],
   "source": [
    "ct2=ColumnTransformer(transformers=[\n",
    "    ('scaler',StandardScaler(),[7])\n",
    "],remainder='passthrough')"
   ]
  },
  {
   "cell_type": "code",
   "execution_count": 263,
   "metadata": {},
   "outputs": [],
   "source": [
    "ct3=RandomForestRegressor()\n",
    "ct4=LinearRegression()\n",
    "ct5=DecisionTreeRegressor()\n",
    "ct6=Lasso()"
   ]
  },
  {
   "cell_type": "markdown",
   "metadata": {},
   "source": [
    "Jadikan pipelien untuk tiap model"
   ]
  },
  {
   "cell_type": "code",
   "execution_count": 264,
   "metadata": {},
   "outputs": [],
   "source": [
    "pipe1=Pipeline([\n",
    "    ('ct1',ct1),\n",
    "    ('ct2',ct2),\n",
    "    ('ct3',ct3)\n",
    "])\n",
    "pipe2=Pipeline([\n",
    "    ('ct1',ct1),\n",
    "    ('ct2',ct2),\n",
    "    ('ct4',ct4)\n",
    "])\n",
    "pipe3=Pipeline([\n",
    "    ('ct1',ct1),\n",
    "    ('ct2',ct2),\n",
    "    ('ct5',ct5)\n",
    "])\n",
    "pipe4=Pipeline([\n",
    "    ('ct1',ct1),\n",
    "    ('ct2',ct2),\n",
    "    ('ct6',ct6)\n",
    "])"
   ]
  },
  {
   "cell_type": "markdown",
   "metadata": {
    "id": "BzBfDMM6JAh_"
   },
   "source": [
    "# 7 - Model Training"
   ]
  },
  {
   "cell_type": "markdown",
   "metadata": {},
   "source": [
    "Train tiap model "
   ]
  },
  {
   "cell_type": "code",
   "execution_count": 265,
   "metadata": {},
   "outputs": [
    {
     "data": {
      "text/html": [
       "<style>#sk-b2f037a0-c90c-404f-b87a-f36ec5aadab5 {color: black;background-color: white;}#sk-b2f037a0-c90c-404f-b87a-f36ec5aadab5 pre{padding: 0;}#sk-b2f037a0-c90c-404f-b87a-f36ec5aadab5 div.sk-toggleable {background-color: white;}#sk-b2f037a0-c90c-404f-b87a-f36ec5aadab5 label.sk-toggleable__label {cursor: pointer;display: block;width: 100%;margin-bottom: 0;padding: 0.3em;box-sizing: border-box;text-align: center;}#sk-b2f037a0-c90c-404f-b87a-f36ec5aadab5 label.sk-toggleable__label-arrow:before {content: \"▸\";float: left;margin-right: 0.25em;color: #696969;}#sk-b2f037a0-c90c-404f-b87a-f36ec5aadab5 label.sk-toggleable__label-arrow:hover:before {color: black;}#sk-b2f037a0-c90c-404f-b87a-f36ec5aadab5 div.sk-estimator:hover label.sk-toggleable__label-arrow:before {color: black;}#sk-b2f037a0-c90c-404f-b87a-f36ec5aadab5 div.sk-toggleable__content {max-height: 0;max-width: 0;overflow: hidden;text-align: left;background-color: #f0f8ff;}#sk-b2f037a0-c90c-404f-b87a-f36ec5aadab5 div.sk-toggleable__content pre {margin: 0.2em;color: black;border-radius: 0.25em;background-color: #f0f8ff;}#sk-b2f037a0-c90c-404f-b87a-f36ec5aadab5 input.sk-toggleable__control:checked~div.sk-toggleable__content {max-height: 200px;max-width: 100%;overflow: auto;}#sk-b2f037a0-c90c-404f-b87a-f36ec5aadab5 input.sk-toggleable__control:checked~label.sk-toggleable__label-arrow:before {content: \"▾\";}#sk-b2f037a0-c90c-404f-b87a-f36ec5aadab5 div.sk-estimator input.sk-toggleable__control:checked~label.sk-toggleable__label {background-color: #d4ebff;}#sk-b2f037a0-c90c-404f-b87a-f36ec5aadab5 div.sk-label input.sk-toggleable__control:checked~label.sk-toggleable__label {background-color: #d4ebff;}#sk-b2f037a0-c90c-404f-b87a-f36ec5aadab5 input.sk-hidden--visually {border: 0;clip: rect(1px 1px 1px 1px);clip: rect(1px, 1px, 1px, 1px);height: 1px;margin: -1px;overflow: hidden;padding: 0;position: absolute;width: 1px;}#sk-b2f037a0-c90c-404f-b87a-f36ec5aadab5 div.sk-estimator {font-family: monospace;background-color: #f0f8ff;border: 1px dotted black;border-radius: 0.25em;box-sizing: border-box;margin-bottom: 0.5em;}#sk-b2f037a0-c90c-404f-b87a-f36ec5aadab5 div.sk-estimator:hover {background-color: #d4ebff;}#sk-b2f037a0-c90c-404f-b87a-f36ec5aadab5 div.sk-parallel-item::after {content: \"\";width: 100%;border-bottom: 1px solid gray;flex-grow: 1;}#sk-b2f037a0-c90c-404f-b87a-f36ec5aadab5 div.sk-label:hover label.sk-toggleable__label {background-color: #d4ebff;}#sk-b2f037a0-c90c-404f-b87a-f36ec5aadab5 div.sk-serial::before {content: \"\";position: absolute;border-left: 1px solid gray;box-sizing: border-box;top: 2em;bottom: 0;left: 50%;}#sk-b2f037a0-c90c-404f-b87a-f36ec5aadab5 div.sk-serial {display: flex;flex-direction: column;align-items: center;background-color: white;padding-right: 0.2em;padding-left: 0.2em;}#sk-b2f037a0-c90c-404f-b87a-f36ec5aadab5 div.sk-item {z-index: 1;}#sk-b2f037a0-c90c-404f-b87a-f36ec5aadab5 div.sk-parallel {display: flex;align-items: stretch;justify-content: center;background-color: white;}#sk-b2f037a0-c90c-404f-b87a-f36ec5aadab5 div.sk-parallel::before {content: \"\";position: absolute;border-left: 1px solid gray;box-sizing: border-box;top: 2em;bottom: 0;left: 50%;}#sk-b2f037a0-c90c-404f-b87a-f36ec5aadab5 div.sk-parallel-item {display: flex;flex-direction: column;position: relative;background-color: white;}#sk-b2f037a0-c90c-404f-b87a-f36ec5aadab5 div.sk-parallel-item:first-child::after {align-self: flex-end;width: 50%;}#sk-b2f037a0-c90c-404f-b87a-f36ec5aadab5 div.sk-parallel-item:last-child::after {align-self: flex-start;width: 50%;}#sk-b2f037a0-c90c-404f-b87a-f36ec5aadab5 div.sk-parallel-item:only-child::after {width: 0;}#sk-b2f037a0-c90c-404f-b87a-f36ec5aadab5 div.sk-dashed-wrapped {border: 1px dashed gray;margin: 0 0.4em 0.5em 0.4em;box-sizing: border-box;padding-bottom: 0.4em;background-color: white;position: relative;}#sk-b2f037a0-c90c-404f-b87a-f36ec5aadab5 div.sk-label label {font-family: monospace;font-weight: bold;background-color: white;display: inline-block;line-height: 1.2em;}#sk-b2f037a0-c90c-404f-b87a-f36ec5aadab5 div.sk-label-container {position: relative;z-index: 2;text-align: center;}#sk-b2f037a0-c90c-404f-b87a-f36ec5aadab5 div.sk-container {/* jupyter's `normalize.less` sets `[hidden] { display: none; }` but bootstrap.min.css set `[hidden] { display: none !important; }` so we also need the `!important` here to be able to override the default hidden behavior on the sphinx rendered scikit-learn.org. See: https://github.com/scikit-learn/scikit-learn/issues/21755 */display: inline-block !important;position: relative;}#sk-b2f037a0-c90c-404f-b87a-f36ec5aadab5 div.sk-text-repr-fallback {display: none;}</style><div id=\"sk-b2f037a0-c90c-404f-b87a-f36ec5aadab5\" class=\"sk-top-container\"><div class=\"sk-text-repr-fallback\"><pre>Pipeline(steps=[(&#x27;ct1&#x27;,\n",
       "                 ColumnTransformer(remainder=&#x27;passthrough&#x27;,\n",
       "                                   transformers=[(&#x27;ohe&#x27;,\n",
       "                                                  OneHotEncoder(drop=&#x27;first&#x27;,\n",
       "                                                                handle_unknown=&#x27;ignore&#x27;,\n",
       "                                                                sparse=False),\n",
       "                                                  [&#x27;source_city&#x27;,\n",
       "                                                   &#x27;destination_city&#x27;, &#x27;class&#x27;,\n",
       "                                                   &#x27;departure_time&#x27;,\n",
       "                                                   &#x27;arrival_time&#x27;]),\n",
       "                                                 (&#x27;oes&#x27;,\n",
       "                                                  OrdinalEncoder(categories=[[&#x27;zero&#x27;,\n",
       "                                                                              &#x27;one&#x27;,\n",
       "                                                                              &#x27;two_or_more&#x27;]],\n",
       "                                                                 handle_unknown=&#x27;use_encoded_value&#x27;,\n",
       "                                                                 unknown_value=3),\n",
       "                                                  [&#x27;stops&#x27;]),\n",
       "                                                 (&#x27;pt&#x27;, PowerTransformer(),\n",
       "                                                  [&#x27;duration&#x27;])])),\n",
       "                (&#x27;ct2&#x27;,\n",
       "                 ColumnTransformer(remainder=&#x27;passthrough&#x27;,\n",
       "                                   transformers=[(&#x27;scaler&#x27;, StandardScaler(),\n",
       "                                                  [7])])),\n",
       "                (&#x27;ct3&#x27;, RandomForestRegressor())])</pre><b>Please rerun this cell to show the HTML repr or trust the notebook.</b></div><div class=\"sk-container\" hidden><div class=\"sk-item sk-dashed-wrapped\"><div class=\"sk-label-container\"><div class=\"sk-label sk-toggleable\"><input class=\"sk-toggleable__control sk-hidden--visually\" id=\"087ede10-9d6b-453c-b2a6-82383bd0fcf4\" type=\"checkbox\" ><label for=\"087ede10-9d6b-453c-b2a6-82383bd0fcf4\" class=\"sk-toggleable__label sk-toggleable__label-arrow\">Pipeline</label><div class=\"sk-toggleable__content\"><pre>Pipeline(steps=[(&#x27;ct1&#x27;,\n",
       "                 ColumnTransformer(remainder=&#x27;passthrough&#x27;,\n",
       "                                   transformers=[(&#x27;ohe&#x27;,\n",
       "                                                  OneHotEncoder(drop=&#x27;first&#x27;,\n",
       "                                                                handle_unknown=&#x27;ignore&#x27;,\n",
       "                                                                sparse=False),\n",
       "                                                  [&#x27;source_city&#x27;,\n",
       "                                                   &#x27;destination_city&#x27;, &#x27;class&#x27;,\n",
       "                                                   &#x27;departure_time&#x27;,\n",
       "                                                   &#x27;arrival_time&#x27;]),\n",
       "                                                 (&#x27;oes&#x27;,\n",
       "                                                  OrdinalEncoder(categories=[[&#x27;zero&#x27;,\n",
       "                                                                              &#x27;one&#x27;,\n",
       "                                                                              &#x27;two_or_more&#x27;]],\n",
       "                                                                 handle_unknown=&#x27;use_encoded_value&#x27;,\n",
       "                                                                 unknown_value=3),\n",
       "                                                  [&#x27;stops&#x27;]),\n",
       "                                                 (&#x27;pt&#x27;, PowerTransformer(),\n",
       "                                                  [&#x27;duration&#x27;])])),\n",
       "                (&#x27;ct2&#x27;,\n",
       "                 ColumnTransformer(remainder=&#x27;passthrough&#x27;,\n",
       "                                   transformers=[(&#x27;scaler&#x27;, StandardScaler(),\n",
       "                                                  [7])])),\n",
       "                (&#x27;ct3&#x27;, RandomForestRegressor())])</pre></div></div></div><div class=\"sk-serial\"><div class=\"sk-item sk-dashed-wrapped\"><div class=\"sk-label-container\"><div class=\"sk-label sk-toggleable\"><input class=\"sk-toggleable__control sk-hidden--visually\" id=\"9d6b9548-ae38-4a34-b094-4268e59cc94d\" type=\"checkbox\" ><label for=\"9d6b9548-ae38-4a34-b094-4268e59cc94d\" class=\"sk-toggleable__label sk-toggleable__label-arrow\">ct1: ColumnTransformer</label><div class=\"sk-toggleable__content\"><pre>ColumnTransformer(remainder=&#x27;passthrough&#x27;,\n",
       "                  transformers=[(&#x27;ohe&#x27;,\n",
       "                                 OneHotEncoder(drop=&#x27;first&#x27;,\n",
       "                                               handle_unknown=&#x27;ignore&#x27;,\n",
       "                                               sparse=False),\n",
       "                                 [&#x27;source_city&#x27;, &#x27;destination_city&#x27;, &#x27;class&#x27;,\n",
       "                                  &#x27;departure_time&#x27;, &#x27;arrival_time&#x27;]),\n",
       "                                (&#x27;oes&#x27;,\n",
       "                                 OrdinalEncoder(categories=[[&#x27;zero&#x27;, &#x27;one&#x27;,\n",
       "                                                             &#x27;two_or_more&#x27;]],\n",
       "                                                handle_unknown=&#x27;use_encoded_value&#x27;,\n",
       "                                                unknown_value=3),\n",
       "                                 [&#x27;stops&#x27;]),\n",
       "                                (&#x27;pt&#x27;, PowerTransformer(), [&#x27;duration&#x27;])])</pre></div></div></div><div class=\"sk-parallel\"><div class=\"sk-parallel-item\"><div class=\"sk-item\"><div class=\"sk-label-container\"><div class=\"sk-label sk-toggleable\"><input class=\"sk-toggleable__control sk-hidden--visually\" id=\"a52955b5-8a01-4efd-b230-e0aadf9b7ed3\" type=\"checkbox\" ><label for=\"a52955b5-8a01-4efd-b230-e0aadf9b7ed3\" class=\"sk-toggleable__label sk-toggleable__label-arrow\">ohe</label><div class=\"sk-toggleable__content\"><pre>[&#x27;source_city&#x27;, &#x27;destination_city&#x27;, &#x27;class&#x27;, &#x27;departure_time&#x27;, &#x27;arrival_time&#x27;]</pre></div></div></div><div class=\"sk-serial\"><div class=\"sk-item\"><div class=\"sk-estimator sk-toggleable\"><input class=\"sk-toggleable__control sk-hidden--visually\" id=\"f0ca3ae0-682d-458e-b7fe-7f64ee3f1c7e\" type=\"checkbox\" ><label for=\"f0ca3ae0-682d-458e-b7fe-7f64ee3f1c7e\" class=\"sk-toggleable__label sk-toggleable__label-arrow\">OneHotEncoder</label><div class=\"sk-toggleable__content\"><pre>OneHotEncoder(drop=&#x27;first&#x27;, handle_unknown=&#x27;ignore&#x27;, sparse=False)</pre></div></div></div></div></div></div><div class=\"sk-parallel-item\"><div class=\"sk-item\"><div class=\"sk-label-container\"><div class=\"sk-label sk-toggleable\"><input class=\"sk-toggleable__control sk-hidden--visually\" id=\"784b1a49-89cf-4ac8-a85e-87b6fa38fb0c\" type=\"checkbox\" ><label for=\"784b1a49-89cf-4ac8-a85e-87b6fa38fb0c\" class=\"sk-toggleable__label sk-toggleable__label-arrow\">oes</label><div class=\"sk-toggleable__content\"><pre>[&#x27;stops&#x27;]</pre></div></div></div><div class=\"sk-serial\"><div class=\"sk-item\"><div class=\"sk-estimator sk-toggleable\"><input class=\"sk-toggleable__control sk-hidden--visually\" id=\"1258beb1-076c-49bd-93bc-0a8e5d34d6be\" type=\"checkbox\" ><label for=\"1258beb1-076c-49bd-93bc-0a8e5d34d6be\" class=\"sk-toggleable__label sk-toggleable__label-arrow\">OrdinalEncoder</label><div class=\"sk-toggleable__content\"><pre>OrdinalEncoder(categories=[[&#x27;zero&#x27;, &#x27;one&#x27;, &#x27;two_or_more&#x27;]],\n",
       "               handle_unknown=&#x27;use_encoded_value&#x27;, unknown_value=3)</pre></div></div></div></div></div></div><div class=\"sk-parallel-item\"><div class=\"sk-item\"><div class=\"sk-label-container\"><div class=\"sk-label sk-toggleable\"><input class=\"sk-toggleable__control sk-hidden--visually\" id=\"40f438c7-8c17-4745-93e3-d1d3710386c6\" type=\"checkbox\" ><label for=\"40f438c7-8c17-4745-93e3-d1d3710386c6\" class=\"sk-toggleable__label sk-toggleable__label-arrow\">pt</label><div class=\"sk-toggleable__content\"><pre>[&#x27;duration&#x27;]</pre></div></div></div><div class=\"sk-serial\"><div class=\"sk-item\"><div class=\"sk-estimator sk-toggleable\"><input class=\"sk-toggleable__control sk-hidden--visually\" id=\"3ec68b08-7e3b-41b5-888d-f692ec2d69ac\" type=\"checkbox\" ><label for=\"3ec68b08-7e3b-41b5-888d-f692ec2d69ac\" class=\"sk-toggleable__label sk-toggleable__label-arrow\">PowerTransformer</label><div class=\"sk-toggleable__content\"><pre>PowerTransformer()</pre></div></div></div></div></div></div><div class=\"sk-parallel-item\"><div class=\"sk-item\"><div class=\"sk-label-container\"><div class=\"sk-label sk-toggleable\"><input class=\"sk-toggleable__control sk-hidden--visually\" id=\"3c19c06b-f678-4487-9b8a-f23eb368a8e4\" type=\"checkbox\" ><label for=\"3c19c06b-f678-4487-9b8a-f23eb368a8e4\" class=\"sk-toggleable__label sk-toggleable__label-arrow\">remainder</label><div class=\"sk-toggleable__content\"><pre>[&#x27;days_left&#x27;]</pre></div></div></div><div class=\"sk-serial\"><div class=\"sk-item\"><div class=\"sk-estimator sk-toggleable\"><input class=\"sk-toggleable__control sk-hidden--visually\" id=\"57ba785a-0258-481c-8b73-68e3ea69fd3e\" type=\"checkbox\" ><label for=\"57ba785a-0258-481c-8b73-68e3ea69fd3e\" class=\"sk-toggleable__label sk-toggleable__label-arrow\">passthrough</label><div class=\"sk-toggleable__content\"><pre>passthrough</pre></div></div></div></div></div></div></div></div><div class=\"sk-item sk-dashed-wrapped\"><div class=\"sk-label-container\"><div class=\"sk-label sk-toggleable\"><input class=\"sk-toggleable__control sk-hidden--visually\" id=\"e9d07a5e-566a-4b78-b327-125f40ad48c4\" type=\"checkbox\" ><label for=\"e9d07a5e-566a-4b78-b327-125f40ad48c4\" class=\"sk-toggleable__label sk-toggleable__label-arrow\">ct2: ColumnTransformer</label><div class=\"sk-toggleable__content\"><pre>ColumnTransformer(remainder=&#x27;passthrough&#x27;,\n",
       "                  transformers=[(&#x27;scaler&#x27;, StandardScaler(), [7])])</pre></div></div></div><div class=\"sk-parallel\"><div class=\"sk-parallel-item\"><div class=\"sk-item\"><div class=\"sk-label-container\"><div class=\"sk-label sk-toggleable\"><input class=\"sk-toggleable__control sk-hidden--visually\" id=\"dc9208c9-7435-4e1e-84cf-482b618be4ac\" type=\"checkbox\" ><label for=\"dc9208c9-7435-4e1e-84cf-482b618be4ac\" class=\"sk-toggleable__label sk-toggleable__label-arrow\">scaler</label><div class=\"sk-toggleable__content\"><pre>[7]</pre></div></div></div><div class=\"sk-serial\"><div class=\"sk-item\"><div class=\"sk-estimator sk-toggleable\"><input class=\"sk-toggleable__control sk-hidden--visually\" id=\"db0dbdb4-5405-44e1-84cd-f3735bad340b\" type=\"checkbox\" ><label for=\"db0dbdb4-5405-44e1-84cd-f3735bad340b\" class=\"sk-toggleable__label sk-toggleable__label-arrow\">StandardScaler</label><div class=\"sk-toggleable__content\"><pre>StandardScaler()</pre></div></div></div></div></div></div><div class=\"sk-parallel-item\"><div class=\"sk-item\"><div class=\"sk-label-container\"><div class=\"sk-label sk-toggleable\"><input class=\"sk-toggleable__control sk-hidden--visually\" id=\"175b31a2-c61d-45b8-8784-aa5fb22bcde6\" type=\"checkbox\" ><label for=\"175b31a2-c61d-45b8-8784-aa5fb22bcde6\" class=\"sk-toggleable__label sk-toggleable__label-arrow\">remainder</label><div class=\"sk-toggleable__content\"><pre>[0, 1, 2, 3, 4, 5, 6, 8, 9, 10, 11, 12, 13, 14, 15, 16, 17, 18, 19, 20, 21, 22]</pre></div></div></div><div class=\"sk-serial\"><div class=\"sk-item\"><div class=\"sk-estimator sk-toggleable\"><input class=\"sk-toggleable__control sk-hidden--visually\" id=\"a7586b5f-4ac1-4813-ba18-01bcea6f6527\" type=\"checkbox\" ><label for=\"a7586b5f-4ac1-4813-ba18-01bcea6f6527\" class=\"sk-toggleable__label sk-toggleable__label-arrow\">passthrough</label><div class=\"sk-toggleable__content\"><pre>passthrough</pre></div></div></div></div></div></div></div></div><div class=\"sk-item\"><div class=\"sk-estimator sk-toggleable\"><input class=\"sk-toggleable__control sk-hidden--visually\" id=\"3f3f349a-3f12-4c8a-8af8-7d4036bc6082\" type=\"checkbox\" ><label for=\"3f3f349a-3f12-4c8a-8af8-7d4036bc6082\" class=\"sk-toggleable__label sk-toggleable__label-arrow\">RandomForestRegressor</label><div class=\"sk-toggleable__content\"><pre>RandomForestRegressor()</pre></div></div></div></div></div></div></div>"
      ],
      "text/plain": [
       "Pipeline(steps=[('ct1',\n",
       "                 ColumnTransformer(remainder='passthrough',\n",
       "                                   transformers=[('ohe',\n",
       "                                                  OneHotEncoder(drop='first',\n",
       "                                                                handle_unknown='ignore',\n",
       "                                                                sparse=False),\n",
       "                                                  ['source_city',\n",
       "                                                   'destination_city', 'class',\n",
       "                                                   'departure_time',\n",
       "                                                   'arrival_time']),\n",
       "                                                 ('oes',\n",
       "                                                  OrdinalEncoder(categories=[['zero',\n",
       "                                                                              'one',\n",
       "                                                                              'two_or_more']],\n",
       "                                                                 handle_unknown='use_encoded_value',\n",
       "                                                                 unknown_value=3),\n",
       "                                                  ['stops']),\n",
       "                                                 ('pt', PowerTransformer(),\n",
       "                                                  ['duration'])])),\n",
       "                ('ct2',\n",
       "                 ColumnTransformer(remainder='passthrough',\n",
       "                                   transformers=[('scaler', StandardScaler(),\n",
       "                                                  [7])])),\n",
       "                ('ct3', RandomForestRegressor())])"
      ]
     },
     "execution_count": 265,
     "metadata": {},
     "output_type": "execute_result"
    }
   ],
   "source": [
    "set_config(display='diagram')\n",
    "pipe1.fit(X_train,y_train)"
   ]
  },
  {
   "cell_type": "code",
   "execution_count": 266,
   "metadata": {},
   "outputs": [
    {
     "data": {
      "text/html": [
       "<style>#sk-9599746e-9359-4af9-94bd-e6b9e78e1b8b {color: black;background-color: white;}#sk-9599746e-9359-4af9-94bd-e6b9e78e1b8b pre{padding: 0;}#sk-9599746e-9359-4af9-94bd-e6b9e78e1b8b div.sk-toggleable {background-color: white;}#sk-9599746e-9359-4af9-94bd-e6b9e78e1b8b label.sk-toggleable__label {cursor: pointer;display: block;width: 100%;margin-bottom: 0;padding: 0.3em;box-sizing: border-box;text-align: center;}#sk-9599746e-9359-4af9-94bd-e6b9e78e1b8b label.sk-toggleable__label-arrow:before {content: \"▸\";float: left;margin-right: 0.25em;color: #696969;}#sk-9599746e-9359-4af9-94bd-e6b9e78e1b8b label.sk-toggleable__label-arrow:hover:before {color: black;}#sk-9599746e-9359-4af9-94bd-e6b9e78e1b8b div.sk-estimator:hover label.sk-toggleable__label-arrow:before {color: black;}#sk-9599746e-9359-4af9-94bd-e6b9e78e1b8b div.sk-toggleable__content {max-height: 0;max-width: 0;overflow: hidden;text-align: left;background-color: #f0f8ff;}#sk-9599746e-9359-4af9-94bd-e6b9e78e1b8b div.sk-toggleable__content pre {margin: 0.2em;color: black;border-radius: 0.25em;background-color: #f0f8ff;}#sk-9599746e-9359-4af9-94bd-e6b9e78e1b8b input.sk-toggleable__control:checked~div.sk-toggleable__content {max-height: 200px;max-width: 100%;overflow: auto;}#sk-9599746e-9359-4af9-94bd-e6b9e78e1b8b input.sk-toggleable__control:checked~label.sk-toggleable__label-arrow:before {content: \"▾\";}#sk-9599746e-9359-4af9-94bd-e6b9e78e1b8b div.sk-estimator input.sk-toggleable__control:checked~label.sk-toggleable__label {background-color: #d4ebff;}#sk-9599746e-9359-4af9-94bd-e6b9e78e1b8b div.sk-label input.sk-toggleable__control:checked~label.sk-toggleable__label {background-color: #d4ebff;}#sk-9599746e-9359-4af9-94bd-e6b9e78e1b8b input.sk-hidden--visually {border: 0;clip: rect(1px 1px 1px 1px);clip: rect(1px, 1px, 1px, 1px);height: 1px;margin: -1px;overflow: hidden;padding: 0;position: absolute;width: 1px;}#sk-9599746e-9359-4af9-94bd-e6b9e78e1b8b div.sk-estimator {font-family: monospace;background-color: #f0f8ff;border: 1px dotted black;border-radius: 0.25em;box-sizing: border-box;margin-bottom: 0.5em;}#sk-9599746e-9359-4af9-94bd-e6b9e78e1b8b div.sk-estimator:hover {background-color: #d4ebff;}#sk-9599746e-9359-4af9-94bd-e6b9e78e1b8b div.sk-parallel-item::after {content: \"\";width: 100%;border-bottom: 1px solid gray;flex-grow: 1;}#sk-9599746e-9359-4af9-94bd-e6b9e78e1b8b div.sk-label:hover label.sk-toggleable__label {background-color: #d4ebff;}#sk-9599746e-9359-4af9-94bd-e6b9e78e1b8b div.sk-serial::before {content: \"\";position: absolute;border-left: 1px solid gray;box-sizing: border-box;top: 2em;bottom: 0;left: 50%;}#sk-9599746e-9359-4af9-94bd-e6b9e78e1b8b div.sk-serial {display: flex;flex-direction: column;align-items: center;background-color: white;padding-right: 0.2em;padding-left: 0.2em;}#sk-9599746e-9359-4af9-94bd-e6b9e78e1b8b div.sk-item {z-index: 1;}#sk-9599746e-9359-4af9-94bd-e6b9e78e1b8b div.sk-parallel {display: flex;align-items: stretch;justify-content: center;background-color: white;}#sk-9599746e-9359-4af9-94bd-e6b9e78e1b8b div.sk-parallel::before {content: \"\";position: absolute;border-left: 1px solid gray;box-sizing: border-box;top: 2em;bottom: 0;left: 50%;}#sk-9599746e-9359-4af9-94bd-e6b9e78e1b8b div.sk-parallel-item {display: flex;flex-direction: column;position: relative;background-color: white;}#sk-9599746e-9359-4af9-94bd-e6b9e78e1b8b div.sk-parallel-item:first-child::after {align-self: flex-end;width: 50%;}#sk-9599746e-9359-4af9-94bd-e6b9e78e1b8b div.sk-parallel-item:last-child::after {align-self: flex-start;width: 50%;}#sk-9599746e-9359-4af9-94bd-e6b9e78e1b8b div.sk-parallel-item:only-child::after {width: 0;}#sk-9599746e-9359-4af9-94bd-e6b9e78e1b8b div.sk-dashed-wrapped {border: 1px dashed gray;margin: 0 0.4em 0.5em 0.4em;box-sizing: border-box;padding-bottom: 0.4em;background-color: white;position: relative;}#sk-9599746e-9359-4af9-94bd-e6b9e78e1b8b div.sk-label label {font-family: monospace;font-weight: bold;background-color: white;display: inline-block;line-height: 1.2em;}#sk-9599746e-9359-4af9-94bd-e6b9e78e1b8b div.sk-label-container {position: relative;z-index: 2;text-align: center;}#sk-9599746e-9359-4af9-94bd-e6b9e78e1b8b div.sk-container {/* jupyter's `normalize.less` sets `[hidden] { display: none; }` but bootstrap.min.css set `[hidden] { display: none !important; }` so we also need the `!important` here to be able to override the default hidden behavior on the sphinx rendered scikit-learn.org. See: https://github.com/scikit-learn/scikit-learn/issues/21755 */display: inline-block !important;position: relative;}#sk-9599746e-9359-4af9-94bd-e6b9e78e1b8b div.sk-text-repr-fallback {display: none;}</style><div id=\"sk-9599746e-9359-4af9-94bd-e6b9e78e1b8b\" class=\"sk-top-container\"><div class=\"sk-text-repr-fallback\"><pre>Pipeline(steps=[(&#x27;ct1&#x27;,\n",
       "                 ColumnTransformer(remainder=&#x27;passthrough&#x27;,\n",
       "                                   transformers=[(&#x27;ohe&#x27;,\n",
       "                                                  OneHotEncoder(drop=&#x27;first&#x27;,\n",
       "                                                                handle_unknown=&#x27;ignore&#x27;,\n",
       "                                                                sparse=False),\n",
       "                                                  [&#x27;source_city&#x27;,\n",
       "                                                   &#x27;destination_city&#x27;, &#x27;class&#x27;,\n",
       "                                                   &#x27;departure_time&#x27;,\n",
       "                                                   &#x27;arrival_time&#x27;]),\n",
       "                                                 (&#x27;oes&#x27;,\n",
       "                                                  OrdinalEncoder(categories=[[&#x27;zero&#x27;,\n",
       "                                                                              &#x27;one&#x27;,\n",
       "                                                                              &#x27;two_or_more&#x27;]],\n",
       "                                                                 handle_unknown=&#x27;use_encoded_value&#x27;,\n",
       "                                                                 unknown_value=3),\n",
       "                                                  [&#x27;stops&#x27;]),\n",
       "                                                 (&#x27;pt&#x27;, PowerTransformer(),\n",
       "                                                  [&#x27;duration&#x27;])])),\n",
       "                (&#x27;ct2&#x27;,\n",
       "                 ColumnTransformer(remainder=&#x27;passthrough&#x27;,\n",
       "                                   transformers=[(&#x27;scaler&#x27;, StandardScaler(),\n",
       "                                                  [7])])),\n",
       "                (&#x27;ct4&#x27;, LinearRegression())])</pre><b>Please rerun this cell to show the HTML repr or trust the notebook.</b></div><div class=\"sk-container\" hidden><div class=\"sk-item sk-dashed-wrapped\"><div class=\"sk-label-container\"><div class=\"sk-label sk-toggleable\"><input class=\"sk-toggleable__control sk-hidden--visually\" id=\"c296e1b2-5455-4ce0-b740-2a436746772c\" type=\"checkbox\" ><label for=\"c296e1b2-5455-4ce0-b740-2a436746772c\" class=\"sk-toggleable__label sk-toggleable__label-arrow\">Pipeline</label><div class=\"sk-toggleable__content\"><pre>Pipeline(steps=[(&#x27;ct1&#x27;,\n",
       "                 ColumnTransformer(remainder=&#x27;passthrough&#x27;,\n",
       "                                   transformers=[(&#x27;ohe&#x27;,\n",
       "                                                  OneHotEncoder(drop=&#x27;first&#x27;,\n",
       "                                                                handle_unknown=&#x27;ignore&#x27;,\n",
       "                                                                sparse=False),\n",
       "                                                  [&#x27;source_city&#x27;,\n",
       "                                                   &#x27;destination_city&#x27;, &#x27;class&#x27;,\n",
       "                                                   &#x27;departure_time&#x27;,\n",
       "                                                   &#x27;arrival_time&#x27;]),\n",
       "                                                 (&#x27;oes&#x27;,\n",
       "                                                  OrdinalEncoder(categories=[[&#x27;zero&#x27;,\n",
       "                                                                              &#x27;one&#x27;,\n",
       "                                                                              &#x27;two_or_more&#x27;]],\n",
       "                                                                 handle_unknown=&#x27;use_encoded_value&#x27;,\n",
       "                                                                 unknown_value=3),\n",
       "                                                  [&#x27;stops&#x27;]),\n",
       "                                                 (&#x27;pt&#x27;, PowerTransformer(),\n",
       "                                                  [&#x27;duration&#x27;])])),\n",
       "                (&#x27;ct2&#x27;,\n",
       "                 ColumnTransformer(remainder=&#x27;passthrough&#x27;,\n",
       "                                   transformers=[(&#x27;scaler&#x27;, StandardScaler(),\n",
       "                                                  [7])])),\n",
       "                (&#x27;ct4&#x27;, LinearRegression())])</pre></div></div></div><div class=\"sk-serial\"><div class=\"sk-item sk-dashed-wrapped\"><div class=\"sk-label-container\"><div class=\"sk-label sk-toggleable\"><input class=\"sk-toggleable__control sk-hidden--visually\" id=\"3ef5a843-b921-4a89-b082-d902e90f1acd\" type=\"checkbox\" ><label for=\"3ef5a843-b921-4a89-b082-d902e90f1acd\" class=\"sk-toggleable__label sk-toggleable__label-arrow\">ct1: ColumnTransformer</label><div class=\"sk-toggleable__content\"><pre>ColumnTransformer(remainder=&#x27;passthrough&#x27;,\n",
       "                  transformers=[(&#x27;ohe&#x27;,\n",
       "                                 OneHotEncoder(drop=&#x27;first&#x27;,\n",
       "                                               handle_unknown=&#x27;ignore&#x27;,\n",
       "                                               sparse=False),\n",
       "                                 [&#x27;source_city&#x27;, &#x27;destination_city&#x27;, &#x27;class&#x27;,\n",
       "                                  &#x27;departure_time&#x27;, &#x27;arrival_time&#x27;]),\n",
       "                                (&#x27;oes&#x27;,\n",
       "                                 OrdinalEncoder(categories=[[&#x27;zero&#x27;, &#x27;one&#x27;,\n",
       "                                                             &#x27;two_or_more&#x27;]],\n",
       "                                                handle_unknown=&#x27;use_encoded_value&#x27;,\n",
       "                                                unknown_value=3),\n",
       "                                 [&#x27;stops&#x27;]),\n",
       "                                (&#x27;pt&#x27;, PowerTransformer(), [&#x27;duration&#x27;])])</pre></div></div></div><div class=\"sk-parallel\"><div class=\"sk-parallel-item\"><div class=\"sk-item\"><div class=\"sk-label-container\"><div class=\"sk-label sk-toggleable\"><input class=\"sk-toggleable__control sk-hidden--visually\" id=\"9f352bd1-53b1-4b6a-983c-af857d4a4d32\" type=\"checkbox\" ><label for=\"9f352bd1-53b1-4b6a-983c-af857d4a4d32\" class=\"sk-toggleable__label sk-toggleable__label-arrow\">ohe</label><div class=\"sk-toggleable__content\"><pre>[&#x27;source_city&#x27;, &#x27;destination_city&#x27;, &#x27;class&#x27;, &#x27;departure_time&#x27;, &#x27;arrival_time&#x27;]</pre></div></div></div><div class=\"sk-serial\"><div class=\"sk-item\"><div class=\"sk-estimator sk-toggleable\"><input class=\"sk-toggleable__control sk-hidden--visually\" id=\"e6777b7a-a0f2-426f-88ee-f39a6a599516\" type=\"checkbox\" ><label for=\"e6777b7a-a0f2-426f-88ee-f39a6a599516\" class=\"sk-toggleable__label sk-toggleable__label-arrow\">OneHotEncoder</label><div class=\"sk-toggleable__content\"><pre>OneHotEncoder(drop=&#x27;first&#x27;, handle_unknown=&#x27;ignore&#x27;, sparse=False)</pre></div></div></div></div></div></div><div class=\"sk-parallel-item\"><div class=\"sk-item\"><div class=\"sk-label-container\"><div class=\"sk-label sk-toggleable\"><input class=\"sk-toggleable__control sk-hidden--visually\" id=\"2a0560a3-b5e4-4d1f-b28d-895ed6f545f8\" type=\"checkbox\" ><label for=\"2a0560a3-b5e4-4d1f-b28d-895ed6f545f8\" class=\"sk-toggleable__label sk-toggleable__label-arrow\">oes</label><div class=\"sk-toggleable__content\"><pre>[&#x27;stops&#x27;]</pre></div></div></div><div class=\"sk-serial\"><div class=\"sk-item\"><div class=\"sk-estimator sk-toggleable\"><input class=\"sk-toggleable__control sk-hidden--visually\" id=\"e48a9b6b-d84f-4925-9da3-22578d58ed61\" type=\"checkbox\" ><label for=\"e48a9b6b-d84f-4925-9da3-22578d58ed61\" class=\"sk-toggleable__label sk-toggleable__label-arrow\">OrdinalEncoder</label><div class=\"sk-toggleable__content\"><pre>OrdinalEncoder(categories=[[&#x27;zero&#x27;, &#x27;one&#x27;, &#x27;two_or_more&#x27;]],\n",
       "               handle_unknown=&#x27;use_encoded_value&#x27;, unknown_value=3)</pre></div></div></div></div></div></div><div class=\"sk-parallel-item\"><div class=\"sk-item\"><div class=\"sk-label-container\"><div class=\"sk-label sk-toggleable\"><input class=\"sk-toggleable__control sk-hidden--visually\" id=\"8b26d4b8-4c97-444c-863f-21d16a9053b9\" type=\"checkbox\" ><label for=\"8b26d4b8-4c97-444c-863f-21d16a9053b9\" class=\"sk-toggleable__label sk-toggleable__label-arrow\">pt</label><div class=\"sk-toggleable__content\"><pre>[&#x27;duration&#x27;]</pre></div></div></div><div class=\"sk-serial\"><div class=\"sk-item\"><div class=\"sk-estimator sk-toggleable\"><input class=\"sk-toggleable__control sk-hidden--visually\" id=\"aa974f5c-c2c2-453c-b361-10ad61f54bc9\" type=\"checkbox\" ><label for=\"aa974f5c-c2c2-453c-b361-10ad61f54bc9\" class=\"sk-toggleable__label sk-toggleable__label-arrow\">PowerTransformer</label><div class=\"sk-toggleable__content\"><pre>PowerTransformer()</pre></div></div></div></div></div></div><div class=\"sk-parallel-item\"><div class=\"sk-item\"><div class=\"sk-label-container\"><div class=\"sk-label sk-toggleable\"><input class=\"sk-toggleable__control sk-hidden--visually\" id=\"af21ae15-1361-4ec9-b3e5-42390d7d580b\" type=\"checkbox\" ><label for=\"af21ae15-1361-4ec9-b3e5-42390d7d580b\" class=\"sk-toggleable__label sk-toggleable__label-arrow\">remainder</label><div class=\"sk-toggleable__content\"><pre>[&#x27;days_left&#x27;]</pre></div></div></div><div class=\"sk-serial\"><div class=\"sk-item\"><div class=\"sk-estimator sk-toggleable\"><input class=\"sk-toggleable__control sk-hidden--visually\" id=\"e2ec3674-b94e-4993-906a-0deadce19417\" type=\"checkbox\" ><label for=\"e2ec3674-b94e-4993-906a-0deadce19417\" class=\"sk-toggleable__label sk-toggleable__label-arrow\">passthrough</label><div class=\"sk-toggleable__content\"><pre>passthrough</pre></div></div></div></div></div></div></div></div><div class=\"sk-item sk-dashed-wrapped\"><div class=\"sk-label-container\"><div class=\"sk-label sk-toggleable\"><input class=\"sk-toggleable__control sk-hidden--visually\" id=\"55fe7cd1-18c0-4c2a-86f1-4b1d837507ef\" type=\"checkbox\" ><label for=\"55fe7cd1-18c0-4c2a-86f1-4b1d837507ef\" class=\"sk-toggleable__label sk-toggleable__label-arrow\">ct2: ColumnTransformer</label><div class=\"sk-toggleable__content\"><pre>ColumnTransformer(remainder=&#x27;passthrough&#x27;,\n",
       "                  transformers=[(&#x27;scaler&#x27;, StandardScaler(), [7])])</pre></div></div></div><div class=\"sk-parallel\"><div class=\"sk-parallel-item\"><div class=\"sk-item\"><div class=\"sk-label-container\"><div class=\"sk-label sk-toggleable\"><input class=\"sk-toggleable__control sk-hidden--visually\" id=\"ee4978ff-3325-40cf-8a99-199e9778f22d\" type=\"checkbox\" ><label for=\"ee4978ff-3325-40cf-8a99-199e9778f22d\" class=\"sk-toggleable__label sk-toggleable__label-arrow\">scaler</label><div class=\"sk-toggleable__content\"><pre>[7]</pre></div></div></div><div class=\"sk-serial\"><div class=\"sk-item\"><div class=\"sk-estimator sk-toggleable\"><input class=\"sk-toggleable__control sk-hidden--visually\" id=\"ddf485ba-20a7-44c2-8169-71e96f7120d3\" type=\"checkbox\" ><label for=\"ddf485ba-20a7-44c2-8169-71e96f7120d3\" class=\"sk-toggleable__label sk-toggleable__label-arrow\">StandardScaler</label><div class=\"sk-toggleable__content\"><pre>StandardScaler()</pre></div></div></div></div></div></div><div class=\"sk-parallel-item\"><div class=\"sk-item\"><div class=\"sk-label-container\"><div class=\"sk-label sk-toggleable\"><input class=\"sk-toggleable__control sk-hidden--visually\" id=\"1a6eff8f-68ee-4c12-a452-3eb0cd4d1361\" type=\"checkbox\" ><label for=\"1a6eff8f-68ee-4c12-a452-3eb0cd4d1361\" class=\"sk-toggleable__label sk-toggleable__label-arrow\">remainder</label><div class=\"sk-toggleable__content\"><pre>[0, 1, 2, 3, 4, 5, 6, 8, 9, 10, 11, 12, 13, 14, 15, 16, 17, 18, 19, 20, 21, 22]</pre></div></div></div><div class=\"sk-serial\"><div class=\"sk-item\"><div class=\"sk-estimator sk-toggleable\"><input class=\"sk-toggleable__control sk-hidden--visually\" id=\"7bfd5686-c4fb-4160-94ef-db827e45a63b\" type=\"checkbox\" ><label for=\"7bfd5686-c4fb-4160-94ef-db827e45a63b\" class=\"sk-toggleable__label sk-toggleable__label-arrow\">passthrough</label><div class=\"sk-toggleable__content\"><pre>passthrough</pre></div></div></div></div></div></div></div></div><div class=\"sk-item\"><div class=\"sk-estimator sk-toggleable\"><input class=\"sk-toggleable__control sk-hidden--visually\" id=\"5d05adec-a937-4a18-9dd9-959dd02c1b9d\" type=\"checkbox\" ><label for=\"5d05adec-a937-4a18-9dd9-959dd02c1b9d\" class=\"sk-toggleable__label sk-toggleable__label-arrow\">LinearRegression</label><div class=\"sk-toggleable__content\"><pre>LinearRegression()</pre></div></div></div></div></div></div></div>"
      ],
      "text/plain": [
       "Pipeline(steps=[('ct1',\n",
       "                 ColumnTransformer(remainder='passthrough',\n",
       "                                   transformers=[('ohe',\n",
       "                                                  OneHotEncoder(drop='first',\n",
       "                                                                handle_unknown='ignore',\n",
       "                                                                sparse=False),\n",
       "                                                  ['source_city',\n",
       "                                                   'destination_city', 'class',\n",
       "                                                   'departure_time',\n",
       "                                                   'arrival_time']),\n",
       "                                                 ('oes',\n",
       "                                                  OrdinalEncoder(categories=[['zero',\n",
       "                                                                              'one',\n",
       "                                                                              'two_or_more']],\n",
       "                                                                 handle_unknown='use_encoded_value',\n",
       "                                                                 unknown_value=3),\n",
       "                                                  ['stops']),\n",
       "                                                 ('pt', PowerTransformer(),\n",
       "                                                  ['duration'])])),\n",
       "                ('ct2',\n",
       "                 ColumnTransformer(remainder='passthrough',\n",
       "                                   transformers=[('scaler', StandardScaler(),\n",
       "                                                  [7])])),\n",
       "                ('ct4', LinearRegression())])"
      ]
     },
     "execution_count": 266,
     "metadata": {},
     "output_type": "execute_result"
    }
   ],
   "source": [
    "set_config(display='diagram')\n",
    "pipe2.fit(X_train,y_train)"
   ]
  },
  {
   "cell_type": "code",
   "execution_count": 267,
   "metadata": {},
   "outputs": [
    {
     "data": {
      "text/html": [
       "<style>#sk-2e186446-9861-4f3e-b23a-dc04dfc9e9e3 {color: black;background-color: white;}#sk-2e186446-9861-4f3e-b23a-dc04dfc9e9e3 pre{padding: 0;}#sk-2e186446-9861-4f3e-b23a-dc04dfc9e9e3 div.sk-toggleable {background-color: white;}#sk-2e186446-9861-4f3e-b23a-dc04dfc9e9e3 label.sk-toggleable__label {cursor: pointer;display: block;width: 100%;margin-bottom: 0;padding: 0.3em;box-sizing: border-box;text-align: center;}#sk-2e186446-9861-4f3e-b23a-dc04dfc9e9e3 label.sk-toggleable__label-arrow:before {content: \"▸\";float: left;margin-right: 0.25em;color: #696969;}#sk-2e186446-9861-4f3e-b23a-dc04dfc9e9e3 label.sk-toggleable__label-arrow:hover:before {color: black;}#sk-2e186446-9861-4f3e-b23a-dc04dfc9e9e3 div.sk-estimator:hover label.sk-toggleable__label-arrow:before {color: black;}#sk-2e186446-9861-4f3e-b23a-dc04dfc9e9e3 div.sk-toggleable__content {max-height: 0;max-width: 0;overflow: hidden;text-align: left;background-color: #f0f8ff;}#sk-2e186446-9861-4f3e-b23a-dc04dfc9e9e3 div.sk-toggleable__content pre {margin: 0.2em;color: black;border-radius: 0.25em;background-color: #f0f8ff;}#sk-2e186446-9861-4f3e-b23a-dc04dfc9e9e3 input.sk-toggleable__control:checked~div.sk-toggleable__content {max-height: 200px;max-width: 100%;overflow: auto;}#sk-2e186446-9861-4f3e-b23a-dc04dfc9e9e3 input.sk-toggleable__control:checked~label.sk-toggleable__label-arrow:before {content: \"▾\";}#sk-2e186446-9861-4f3e-b23a-dc04dfc9e9e3 div.sk-estimator input.sk-toggleable__control:checked~label.sk-toggleable__label {background-color: #d4ebff;}#sk-2e186446-9861-4f3e-b23a-dc04dfc9e9e3 div.sk-label input.sk-toggleable__control:checked~label.sk-toggleable__label {background-color: #d4ebff;}#sk-2e186446-9861-4f3e-b23a-dc04dfc9e9e3 input.sk-hidden--visually {border: 0;clip: rect(1px 1px 1px 1px);clip: rect(1px, 1px, 1px, 1px);height: 1px;margin: -1px;overflow: hidden;padding: 0;position: absolute;width: 1px;}#sk-2e186446-9861-4f3e-b23a-dc04dfc9e9e3 div.sk-estimator {font-family: monospace;background-color: #f0f8ff;border: 1px dotted black;border-radius: 0.25em;box-sizing: border-box;margin-bottom: 0.5em;}#sk-2e186446-9861-4f3e-b23a-dc04dfc9e9e3 div.sk-estimator:hover {background-color: #d4ebff;}#sk-2e186446-9861-4f3e-b23a-dc04dfc9e9e3 div.sk-parallel-item::after {content: \"\";width: 100%;border-bottom: 1px solid gray;flex-grow: 1;}#sk-2e186446-9861-4f3e-b23a-dc04dfc9e9e3 div.sk-label:hover label.sk-toggleable__label {background-color: #d4ebff;}#sk-2e186446-9861-4f3e-b23a-dc04dfc9e9e3 div.sk-serial::before {content: \"\";position: absolute;border-left: 1px solid gray;box-sizing: border-box;top: 2em;bottom: 0;left: 50%;}#sk-2e186446-9861-4f3e-b23a-dc04dfc9e9e3 div.sk-serial {display: flex;flex-direction: column;align-items: center;background-color: white;padding-right: 0.2em;padding-left: 0.2em;}#sk-2e186446-9861-4f3e-b23a-dc04dfc9e9e3 div.sk-item {z-index: 1;}#sk-2e186446-9861-4f3e-b23a-dc04dfc9e9e3 div.sk-parallel {display: flex;align-items: stretch;justify-content: center;background-color: white;}#sk-2e186446-9861-4f3e-b23a-dc04dfc9e9e3 div.sk-parallel::before {content: \"\";position: absolute;border-left: 1px solid gray;box-sizing: border-box;top: 2em;bottom: 0;left: 50%;}#sk-2e186446-9861-4f3e-b23a-dc04dfc9e9e3 div.sk-parallel-item {display: flex;flex-direction: column;position: relative;background-color: white;}#sk-2e186446-9861-4f3e-b23a-dc04dfc9e9e3 div.sk-parallel-item:first-child::after {align-self: flex-end;width: 50%;}#sk-2e186446-9861-4f3e-b23a-dc04dfc9e9e3 div.sk-parallel-item:last-child::after {align-self: flex-start;width: 50%;}#sk-2e186446-9861-4f3e-b23a-dc04dfc9e9e3 div.sk-parallel-item:only-child::after {width: 0;}#sk-2e186446-9861-4f3e-b23a-dc04dfc9e9e3 div.sk-dashed-wrapped {border: 1px dashed gray;margin: 0 0.4em 0.5em 0.4em;box-sizing: border-box;padding-bottom: 0.4em;background-color: white;position: relative;}#sk-2e186446-9861-4f3e-b23a-dc04dfc9e9e3 div.sk-label label {font-family: monospace;font-weight: bold;background-color: white;display: inline-block;line-height: 1.2em;}#sk-2e186446-9861-4f3e-b23a-dc04dfc9e9e3 div.sk-label-container {position: relative;z-index: 2;text-align: center;}#sk-2e186446-9861-4f3e-b23a-dc04dfc9e9e3 div.sk-container {/* jupyter's `normalize.less` sets `[hidden] { display: none; }` but bootstrap.min.css set `[hidden] { display: none !important; }` so we also need the `!important` here to be able to override the default hidden behavior on the sphinx rendered scikit-learn.org. See: https://github.com/scikit-learn/scikit-learn/issues/21755 */display: inline-block !important;position: relative;}#sk-2e186446-9861-4f3e-b23a-dc04dfc9e9e3 div.sk-text-repr-fallback {display: none;}</style><div id=\"sk-2e186446-9861-4f3e-b23a-dc04dfc9e9e3\" class=\"sk-top-container\"><div class=\"sk-text-repr-fallback\"><pre>Pipeline(steps=[(&#x27;ct1&#x27;,\n",
       "                 ColumnTransformer(remainder=&#x27;passthrough&#x27;,\n",
       "                                   transformers=[(&#x27;ohe&#x27;,\n",
       "                                                  OneHotEncoder(drop=&#x27;first&#x27;,\n",
       "                                                                handle_unknown=&#x27;ignore&#x27;,\n",
       "                                                                sparse=False),\n",
       "                                                  [&#x27;source_city&#x27;,\n",
       "                                                   &#x27;destination_city&#x27;, &#x27;class&#x27;,\n",
       "                                                   &#x27;departure_time&#x27;,\n",
       "                                                   &#x27;arrival_time&#x27;]),\n",
       "                                                 (&#x27;oes&#x27;,\n",
       "                                                  OrdinalEncoder(categories=[[&#x27;zero&#x27;,\n",
       "                                                                              &#x27;one&#x27;,\n",
       "                                                                              &#x27;two_or_more&#x27;]],\n",
       "                                                                 handle_unknown=&#x27;use_encoded_value&#x27;,\n",
       "                                                                 unknown_value=3),\n",
       "                                                  [&#x27;stops&#x27;]),\n",
       "                                                 (&#x27;pt&#x27;, PowerTransformer(),\n",
       "                                                  [&#x27;duration&#x27;])])),\n",
       "                (&#x27;ct2&#x27;,\n",
       "                 ColumnTransformer(remainder=&#x27;passthrough&#x27;,\n",
       "                                   transformers=[(&#x27;scaler&#x27;, StandardScaler(),\n",
       "                                                  [7])])),\n",
       "                (&#x27;ct5&#x27;, DecisionTreeRegressor())])</pre><b>Please rerun this cell to show the HTML repr or trust the notebook.</b></div><div class=\"sk-container\" hidden><div class=\"sk-item sk-dashed-wrapped\"><div class=\"sk-label-container\"><div class=\"sk-label sk-toggleable\"><input class=\"sk-toggleable__control sk-hidden--visually\" id=\"51c66288-4a0b-4bdc-8d5b-73615c5c5a45\" type=\"checkbox\" ><label for=\"51c66288-4a0b-4bdc-8d5b-73615c5c5a45\" class=\"sk-toggleable__label sk-toggleable__label-arrow\">Pipeline</label><div class=\"sk-toggleable__content\"><pre>Pipeline(steps=[(&#x27;ct1&#x27;,\n",
       "                 ColumnTransformer(remainder=&#x27;passthrough&#x27;,\n",
       "                                   transformers=[(&#x27;ohe&#x27;,\n",
       "                                                  OneHotEncoder(drop=&#x27;first&#x27;,\n",
       "                                                                handle_unknown=&#x27;ignore&#x27;,\n",
       "                                                                sparse=False),\n",
       "                                                  [&#x27;source_city&#x27;,\n",
       "                                                   &#x27;destination_city&#x27;, &#x27;class&#x27;,\n",
       "                                                   &#x27;departure_time&#x27;,\n",
       "                                                   &#x27;arrival_time&#x27;]),\n",
       "                                                 (&#x27;oes&#x27;,\n",
       "                                                  OrdinalEncoder(categories=[[&#x27;zero&#x27;,\n",
       "                                                                              &#x27;one&#x27;,\n",
       "                                                                              &#x27;two_or_more&#x27;]],\n",
       "                                                                 handle_unknown=&#x27;use_encoded_value&#x27;,\n",
       "                                                                 unknown_value=3),\n",
       "                                                  [&#x27;stops&#x27;]),\n",
       "                                                 (&#x27;pt&#x27;, PowerTransformer(),\n",
       "                                                  [&#x27;duration&#x27;])])),\n",
       "                (&#x27;ct2&#x27;,\n",
       "                 ColumnTransformer(remainder=&#x27;passthrough&#x27;,\n",
       "                                   transformers=[(&#x27;scaler&#x27;, StandardScaler(),\n",
       "                                                  [7])])),\n",
       "                (&#x27;ct5&#x27;, DecisionTreeRegressor())])</pre></div></div></div><div class=\"sk-serial\"><div class=\"sk-item sk-dashed-wrapped\"><div class=\"sk-label-container\"><div class=\"sk-label sk-toggleable\"><input class=\"sk-toggleable__control sk-hidden--visually\" id=\"330600d6-40bf-4749-a9d7-e572c890dd3a\" type=\"checkbox\" ><label for=\"330600d6-40bf-4749-a9d7-e572c890dd3a\" class=\"sk-toggleable__label sk-toggleable__label-arrow\">ct1: ColumnTransformer</label><div class=\"sk-toggleable__content\"><pre>ColumnTransformer(remainder=&#x27;passthrough&#x27;,\n",
       "                  transformers=[(&#x27;ohe&#x27;,\n",
       "                                 OneHotEncoder(drop=&#x27;first&#x27;,\n",
       "                                               handle_unknown=&#x27;ignore&#x27;,\n",
       "                                               sparse=False),\n",
       "                                 [&#x27;source_city&#x27;, &#x27;destination_city&#x27;, &#x27;class&#x27;,\n",
       "                                  &#x27;departure_time&#x27;, &#x27;arrival_time&#x27;]),\n",
       "                                (&#x27;oes&#x27;,\n",
       "                                 OrdinalEncoder(categories=[[&#x27;zero&#x27;, &#x27;one&#x27;,\n",
       "                                                             &#x27;two_or_more&#x27;]],\n",
       "                                                handle_unknown=&#x27;use_encoded_value&#x27;,\n",
       "                                                unknown_value=3),\n",
       "                                 [&#x27;stops&#x27;]),\n",
       "                                (&#x27;pt&#x27;, PowerTransformer(), [&#x27;duration&#x27;])])</pre></div></div></div><div class=\"sk-parallel\"><div class=\"sk-parallel-item\"><div class=\"sk-item\"><div class=\"sk-label-container\"><div class=\"sk-label sk-toggleable\"><input class=\"sk-toggleable__control sk-hidden--visually\" id=\"6753090d-5d2c-4c71-a5f4-0925c5e83bad\" type=\"checkbox\" ><label for=\"6753090d-5d2c-4c71-a5f4-0925c5e83bad\" class=\"sk-toggleable__label sk-toggleable__label-arrow\">ohe</label><div class=\"sk-toggleable__content\"><pre>[&#x27;source_city&#x27;, &#x27;destination_city&#x27;, &#x27;class&#x27;, &#x27;departure_time&#x27;, &#x27;arrival_time&#x27;]</pre></div></div></div><div class=\"sk-serial\"><div class=\"sk-item\"><div class=\"sk-estimator sk-toggleable\"><input class=\"sk-toggleable__control sk-hidden--visually\" id=\"2b068a1e-a6aa-43d3-ab27-bfbc4f80f352\" type=\"checkbox\" ><label for=\"2b068a1e-a6aa-43d3-ab27-bfbc4f80f352\" class=\"sk-toggleable__label sk-toggleable__label-arrow\">OneHotEncoder</label><div class=\"sk-toggleable__content\"><pre>OneHotEncoder(drop=&#x27;first&#x27;, handle_unknown=&#x27;ignore&#x27;, sparse=False)</pre></div></div></div></div></div></div><div class=\"sk-parallel-item\"><div class=\"sk-item\"><div class=\"sk-label-container\"><div class=\"sk-label sk-toggleable\"><input class=\"sk-toggleable__control sk-hidden--visually\" id=\"7a019095-f13b-41fd-abb8-c65902ad8343\" type=\"checkbox\" ><label for=\"7a019095-f13b-41fd-abb8-c65902ad8343\" class=\"sk-toggleable__label sk-toggleable__label-arrow\">oes</label><div class=\"sk-toggleable__content\"><pre>[&#x27;stops&#x27;]</pre></div></div></div><div class=\"sk-serial\"><div class=\"sk-item\"><div class=\"sk-estimator sk-toggleable\"><input class=\"sk-toggleable__control sk-hidden--visually\" id=\"235f48ec-c24a-4c16-807b-45da7a102ba5\" type=\"checkbox\" ><label for=\"235f48ec-c24a-4c16-807b-45da7a102ba5\" class=\"sk-toggleable__label sk-toggleable__label-arrow\">OrdinalEncoder</label><div class=\"sk-toggleable__content\"><pre>OrdinalEncoder(categories=[[&#x27;zero&#x27;, &#x27;one&#x27;, &#x27;two_or_more&#x27;]],\n",
       "               handle_unknown=&#x27;use_encoded_value&#x27;, unknown_value=3)</pre></div></div></div></div></div></div><div class=\"sk-parallel-item\"><div class=\"sk-item\"><div class=\"sk-label-container\"><div class=\"sk-label sk-toggleable\"><input class=\"sk-toggleable__control sk-hidden--visually\" id=\"d65e9e8a-2b61-4bee-b7f3-0d8d76a7ef34\" type=\"checkbox\" ><label for=\"d65e9e8a-2b61-4bee-b7f3-0d8d76a7ef34\" class=\"sk-toggleable__label sk-toggleable__label-arrow\">pt</label><div class=\"sk-toggleable__content\"><pre>[&#x27;duration&#x27;]</pre></div></div></div><div class=\"sk-serial\"><div class=\"sk-item\"><div class=\"sk-estimator sk-toggleable\"><input class=\"sk-toggleable__control sk-hidden--visually\" id=\"5f7a832f-a0c6-40e6-b741-c0fafe6f051b\" type=\"checkbox\" ><label for=\"5f7a832f-a0c6-40e6-b741-c0fafe6f051b\" class=\"sk-toggleable__label sk-toggleable__label-arrow\">PowerTransformer</label><div class=\"sk-toggleable__content\"><pre>PowerTransformer()</pre></div></div></div></div></div></div><div class=\"sk-parallel-item\"><div class=\"sk-item\"><div class=\"sk-label-container\"><div class=\"sk-label sk-toggleable\"><input class=\"sk-toggleable__control sk-hidden--visually\" id=\"d4e26095-3e43-4d55-8af6-ac4a1f4d8427\" type=\"checkbox\" ><label for=\"d4e26095-3e43-4d55-8af6-ac4a1f4d8427\" class=\"sk-toggleable__label sk-toggleable__label-arrow\">remainder</label><div class=\"sk-toggleable__content\"><pre>[&#x27;days_left&#x27;]</pre></div></div></div><div class=\"sk-serial\"><div class=\"sk-item\"><div class=\"sk-estimator sk-toggleable\"><input class=\"sk-toggleable__control sk-hidden--visually\" id=\"12be090f-0f3c-4061-af56-c531f5c9256b\" type=\"checkbox\" ><label for=\"12be090f-0f3c-4061-af56-c531f5c9256b\" class=\"sk-toggleable__label sk-toggleable__label-arrow\">passthrough</label><div class=\"sk-toggleable__content\"><pre>passthrough</pre></div></div></div></div></div></div></div></div><div class=\"sk-item sk-dashed-wrapped\"><div class=\"sk-label-container\"><div class=\"sk-label sk-toggleable\"><input class=\"sk-toggleable__control sk-hidden--visually\" id=\"57514b75-f146-4cfc-a453-636c96ca8763\" type=\"checkbox\" ><label for=\"57514b75-f146-4cfc-a453-636c96ca8763\" class=\"sk-toggleable__label sk-toggleable__label-arrow\">ct2: ColumnTransformer</label><div class=\"sk-toggleable__content\"><pre>ColumnTransformer(remainder=&#x27;passthrough&#x27;,\n",
       "                  transformers=[(&#x27;scaler&#x27;, StandardScaler(), [7])])</pre></div></div></div><div class=\"sk-parallel\"><div class=\"sk-parallel-item\"><div class=\"sk-item\"><div class=\"sk-label-container\"><div class=\"sk-label sk-toggleable\"><input class=\"sk-toggleable__control sk-hidden--visually\" id=\"bc1f5f6b-3ca7-4b70-be71-69d64f4472e4\" type=\"checkbox\" ><label for=\"bc1f5f6b-3ca7-4b70-be71-69d64f4472e4\" class=\"sk-toggleable__label sk-toggleable__label-arrow\">scaler</label><div class=\"sk-toggleable__content\"><pre>[7]</pre></div></div></div><div class=\"sk-serial\"><div class=\"sk-item\"><div class=\"sk-estimator sk-toggleable\"><input class=\"sk-toggleable__control sk-hidden--visually\" id=\"72038ca7-71c8-4bf2-a141-da46e9c5c2af\" type=\"checkbox\" ><label for=\"72038ca7-71c8-4bf2-a141-da46e9c5c2af\" class=\"sk-toggleable__label sk-toggleable__label-arrow\">StandardScaler</label><div class=\"sk-toggleable__content\"><pre>StandardScaler()</pre></div></div></div></div></div></div><div class=\"sk-parallel-item\"><div class=\"sk-item\"><div class=\"sk-label-container\"><div class=\"sk-label sk-toggleable\"><input class=\"sk-toggleable__control sk-hidden--visually\" id=\"b5e13794-12ca-4cc8-af5e-81976b640e2f\" type=\"checkbox\" ><label for=\"b5e13794-12ca-4cc8-af5e-81976b640e2f\" class=\"sk-toggleable__label sk-toggleable__label-arrow\">remainder</label><div class=\"sk-toggleable__content\"><pre>[0, 1, 2, 3, 4, 5, 6, 8, 9, 10, 11, 12, 13, 14, 15, 16, 17, 18, 19, 20, 21, 22]</pre></div></div></div><div class=\"sk-serial\"><div class=\"sk-item\"><div class=\"sk-estimator sk-toggleable\"><input class=\"sk-toggleable__control sk-hidden--visually\" id=\"49093862-a2e3-421a-9248-6d0515be6165\" type=\"checkbox\" ><label for=\"49093862-a2e3-421a-9248-6d0515be6165\" class=\"sk-toggleable__label sk-toggleable__label-arrow\">passthrough</label><div class=\"sk-toggleable__content\"><pre>passthrough</pre></div></div></div></div></div></div></div></div><div class=\"sk-item\"><div class=\"sk-estimator sk-toggleable\"><input class=\"sk-toggleable__control sk-hidden--visually\" id=\"63e023a3-08b8-44da-8928-3ef8167ae9d3\" type=\"checkbox\" ><label for=\"63e023a3-08b8-44da-8928-3ef8167ae9d3\" class=\"sk-toggleable__label sk-toggleable__label-arrow\">DecisionTreeRegressor</label><div class=\"sk-toggleable__content\"><pre>DecisionTreeRegressor()</pre></div></div></div></div></div></div></div>"
      ],
      "text/plain": [
       "Pipeline(steps=[('ct1',\n",
       "                 ColumnTransformer(remainder='passthrough',\n",
       "                                   transformers=[('ohe',\n",
       "                                                  OneHotEncoder(drop='first',\n",
       "                                                                handle_unknown='ignore',\n",
       "                                                                sparse=False),\n",
       "                                                  ['source_city',\n",
       "                                                   'destination_city', 'class',\n",
       "                                                   'departure_time',\n",
       "                                                   'arrival_time']),\n",
       "                                                 ('oes',\n",
       "                                                  OrdinalEncoder(categories=[['zero',\n",
       "                                                                              'one',\n",
       "                                                                              'two_or_more']],\n",
       "                                                                 handle_unknown='use_encoded_value',\n",
       "                                                                 unknown_value=3),\n",
       "                                                  ['stops']),\n",
       "                                                 ('pt', PowerTransformer(),\n",
       "                                                  ['duration'])])),\n",
       "                ('ct2',\n",
       "                 ColumnTransformer(remainder='passthrough',\n",
       "                                   transformers=[('scaler', StandardScaler(),\n",
       "                                                  [7])])),\n",
       "                ('ct5', DecisionTreeRegressor())])"
      ]
     },
     "execution_count": 267,
     "metadata": {},
     "output_type": "execute_result"
    }
   ],
   "source": [
    "set_config(display='diagram')\n",
    "pipe3.fit(X_train,y_train)"
   ]
  },
  {
   "cell_type": "code",
   "execution_count": 268,
   "metadata": {},
   "outputs": [
    {
     "data": {
      "text/html": [
       "<style>#sk-834f6424-530e-4c6f-8804-724ace6be452 {color: black;background-color: white;}#sk-834f6424-530e-4c6f-8804-724ace6be452 pre{padding: 0;}#sk-834f6424-530e-4c6f-8804-724ace6be452 div.sk-toggleable {background-color: white;}#sk-834f6424-530e-4c6f-8804-724ace6be452 label.sk-toggleable__label {cursor: pointer;display: block;width: 100%;margin-bottom: 0;padding: 0.3em;box-sizing: border-box;text-align: center;}#sk-834f6424-530e-4c6f-8804-724ace6be452 label.sk-toggleable__label-arrow:before {content: \"▸\";float: left;margin-right: 0.25em;color: #696969;}#sk-834f6424-530e-4c6f-8804-724ace6be452 label.sk-toggleable__label-arrow:hover:before {color: black;}#sk-834f6424-530e-4c6f-8804-724ace6be452 div.sk-estimator:hover label.sk-toggleable__label-arrow:before {color: black;}#sk-834f6424-530e-4c6f-8804-724ace6be452 div.sk-toggleable__content {max-height: 0;max-width: 0;overflow: hidden;text-align: left;background-color: #f0f8ff;}#sk-834f6424-530e-4c6f-8804-724ace6be452 div.sk-toggleable__content pre {margin: 0.2em;color: black;border-radius: 0.25em;background-color: #f0f8ff;}#sk-834f6424-530e-4c6f-8804-724ace6be452 input.sk-toggleable__control:checked~div.sk-toggleable__content {max-height: 200px;max-width: 100%;overflow: auto;}#sk-834f6424-530e-4c6f-8804-724ace6be452 input.sk-toggleable__control:checked~label.sk-toggleable__label-arrow:before {content: \"▾\";}#sk-834f6424-530e-4c6f-8804-724ace6be452 div.sk-estimator input.sk-toggleable__control:checked~label.sk-toggleable__label {background-color: #d4ebff;}#sk-834f6424-530e-4c6f-8804-724ace6be452 div.sk-label input.sk-toggleable__control:checked~label.sk-toggleable__label {background-color: #d4ebff;}#sk-834f6424-530e-4c6f-8804-724ace6be452 input.sk-hidden--visually {border: 0;clip: rect(1px 1px 1px 1px);clip: rect(1px, 1px, 1px, 1px);height: 1px;margin: -1px;overflow: hidden;padding: 0;position: absolute;width: 1px;}#sk-834f6424-530e-4c6f-8804-724ace6be452 div.sk-estimator {font-family: monospace;background-color: #f0f8ff;border: 1px dotted black;border-radius: 0.25em;box-sizing: border-box;margin-bottom: 0.5em;}#sk-834f6424-530e-4c6f-8804-724ace6be452 div.sk-estimator:hover {background-color: #d4ebff;}#sk-834f6424-530e-4c6f-8804-724ace6be452 div.sk-parallel-item::after {content: \"\";width: 100%;border-bottom: 1px solid gray;flex-grow: 1;}#sk-834f6424-530e-4c6f-8804-724ace6be452 div.sk-label:hover label.sk-toggleable__label {background-color: #d4ebff;}#sk-834f6424-530e-4c6f-8804-724ace6be452 div.sk-serial::before {content: \"\";position: absolute;border-left: 1px solid gray;box-sizing: border-box;top: 2em;bottom: 0;left: 50%;}#sk-834f6424-530e-4c6f-8804-724ace6be452 div.sk-serial {display: flex;flex-direction: column;align-items: center;background-color: white;padding-right: 0.2em;padding-left: 0.2em;}#sk-834f6424-530e-4c6f-8804-724ace6be452 div.sk-item {z-index: 1;}#sk-834f6424-530e-4c6f-8804-724ace6be452 div.sk-parallel {display: flex;align-items: stretch;justify-content: center;background-color: white;}#sk-834f6424-530e-4c6f-8804-724ace6be452 div.sk-parallel::before {content: \"\";position: absolute;border-left: 1px solid gray;box-sizing: border-box;top: 2em;bottom: 0;left: 50%;}#sk-834f6424-530e-4c6f-8804-724ace6be452 div.sk-parallel-item {display: flex;flex-direction: column;position: relative;background-color: white;}#sk-834f6424-530e-4c6f-8804-724ace6be452 div.sk-parallel-item:first-child::after {align-self: flex-end;width: 50%;}#sk-834f6424-530e-4c6f-8804-724ace6be452 div.sk-parallel-item:last-child::after {align-self: flex-start;width: 50%;}#sk-834f6424-530e-4c6f-8804-724ace6be452 div.sk-parallel-item:only-child::after {width: 0;}#sk-834f6424-530e-4c6f-8804-724ace6be452 div.sk-dashed-wrapped {border: 1px dashed gray;margin: 0 0.4em 0.5em 0.4em;box-sizing: border-box;padding-bottom: 0.4em;background-color: white;position: relative;}#sk-834f6424-530e-4c6f-8804-724ace6be452 div.sk-label label {font-family: monospace;font-weight: bold;background-color: white;display: inline-block;line-height: 1.2em;}#sk-834f6424-530e-4c6f-8804-724ace6be452 div.sk-label-container {position: relative;z-index: 2;text-align: center;}#sk-834f6424-530e-4c6f-8804-724ace6be452 div.sk-container {/* jupyter's `normalize.less` sets `[hidden] { display: none; }` but bootstrap.min.css set `[hidden] { display: none !important; }` so we also need the `!important` here to be able to override the default hidden behavior on the sphinx rendered scikit-learn.org. See: https://github.com/scikit-learn/scikit-learn/issues/21755 */display: inline-block !important;position: relative;}#sk-834f6424-530e-4c6f-8804-724ace6be452 div.sk-text-repr-fallback {display: none;}</style><div id=\"sk-834f6424-530e-4c6f-8804-724ace6be452\" class=\"sk-top-container\"><div class=\"sk-text-repr-fallback\"><pre>Pipeline(steps=[(&#x27;ct1&#x27;,\n",
       "                 ColumnTransformer(remainder=&#x27;passthrough&#x27;,\n",
       "                                   transformers=[(&#x27;ohe&#x27;,\n",
       "                                                  OneHotEncoder(drop=&#x27;first&#x27;,\n",
       "                                                                handle_unknown=&#x27;ignore&#x27;,\n",
       "                                                                sparse=False),\n",
       "                                                  [&#x27;source_city&#x27;,\n",
       "                                                   &#x27;destination_city&#x27;, &#x27;class&#x27;,\n",
       "                                                   &#x27;departure_time&#x27;,\n",
       "                                                   &#x27;arrival_time&#x27;]),\n",
       "                                                 (&#x27;oes&#x27;,\n",
       "                                                  OrdinalEncoder(categories=[[&#x27;zero&#x27;,\n",
       "                                                                              &#x27;one&#x27;,\n",
       "                                                                              &#x27;two_or_more&#x27;]],\n",
       "                                                                 handle_unknown=&#x27;use_encoded_value&#x27;,\n",
       "                                                                 unknown_value=3),\n",
       "                                                  [&#x27;stops&#x27;]),\n",
       "                                                 (&#x27;pt&#x27;, PowerTransformer(),\n",
       "                                                  [&#x27;duration&#x27;])])),\n",
       "                (&#x27;ct2&#x27;,\n",
       "                 ColumnTransformer(remainder=&#x27;passthrough&#x27;,\n",
       "                                   transformers=[(&#x27;scaler&#x27;, StandardScaler(),\n",
       "                                                  [7])])),\n",
       "                (&#x27;ct6&#x27;, Lasso())])</pre><b>Please rerun this cell to show the HTML repr or trust the notebook.</b></div><div class=\"sk-container\" hidden><div class=\"sk-item sk-dashed-wrapped\"><div class=\"sk-label-container\"><div class=\"sk-label sk-toggleable\"><input class=\"sk-toggleable__control sk-hidden--visually\" id=\"888ff617-69ea-43df-b43f-4b44bd6b1dc5\" type=\"checkbox\" ><label for=\"888ff617-69ea-43df-b43f-4b44bd6b1dc5\" class=\"sk-toggleable__label sk-toggleable__label-arrow\">Pipeline</label><div class=\"sk-toggleable__content\"><pre>Pipeline(steps=[(&#x27;ct1&#x27;,\n",
       "                 ColumnTransformer(remainder=&#x27;passthrough&#x27;,\n",
       "                                   transformers=[(&#x27;ohe&#x27;,\n",
       "                                                  OneHotEncoder(drop=&#x27;first&#x27;,\n",
       "                                                                handle_unknown=&#x27;ignore&#x27;,\n",
       "                                                                sparse=False),\n",
       "                                                  [&#x27;source_city&#x27;,\n",
       "                                                   &#x27;destination_city&#x27;, &#x27;class&#x27;,\n",
       "                                                   &#x27;departure_time&#x27;,\n",
       "                                                   &#x27;arrival_time&#x27;]),\n",
       "                                                 (&#x27;oes&#x27;,\n",
       "                                                  OrdinalEncoder(categories=[[&#x27;zero&#x27;,\n",
       "                                                                              &#x27;one&#x27;,\n",
       "                                                                              &#x27;two_or_more&#x27;]],\n",
       "                                                                 handle_unknown=&#x27;use_encoded_value&#x27;,\n",
       "                                                                 unknown_value=3),\n",
       "                                                  [&#x27;stops&#x27;]),\n",
       "                                                 (&#x27;pt&#x27;, PowerTransformer(),\n",
       "                                                  [&#x27;duration&#x27;])])),\n",
       "                (&#x27;ct2&#x27;,\n",
       "                 ColumnTransformer(remainder=&#x27;passthrough&#x27;,\n",
       "                                   transformers=[(&#x27;scaler&#x27;, StandardScaler(),\n",
       "                                                  [7])])),\n",
       "                (&#x27;ct6&#x27;, Lasso())])</pre></div></div></div><div class=\"sk-serial\"><div class=\"sk-item sk-dashed-wrapped\"><div class=\"sk-label-container\"><div class=\"sk-label sk-toggleable\"><input class=\"sk-toggleable__control sk-hidden--visually\" id=\"08337aed-dc02-47c6-a8f3-26cba5615b68\" type=\"checkbox\" ><label for=\"08337aed-dc02-47c6-a8f3-26cba5615b68\" class=\"sk-toggleable__label sk-toggleable__label-arrow\">ct1: ColumnTransformer</label><div class=\"sk-toggleable__content\"><pre>ColumnTransformer(remainder=&#x27;passthrough&#x27;,\n",
       "                  transformers=[(&#x27;ohe&#x27;,\n",
       "                                 OneHotEncoder(drop=&#x27;first&#x27;,\n",
       "                                               handle_unknown=&#x27;ignore&#x27;,\n",
       "                                               sparse=False),\n",
       "                                 [&#x27;source_city&#x27;, &#x27;destination_city&#x27;, &#x27;class&#x27;,\n",
       "                                  &#x27;departure_time&#x27;, &#x27;arrival_time&#x27;]),\n",
       "                                (&#x27;oes&#x27;,\n",
       "                                 OrdinalEncoder(categories=[[&#x27;zero&#x27;, &#x27;one&#x27;,\n",
       "                                                             &#x27;two_or_more&#x27;]],\n",
       "                                                handle_unknown=&#x27;use_encoded_value&#x27;,\n",
       "                                                unknown_value=3),\n",
       "                                 [&#x27;stops&#x27;]),\n",
       "                                (&#x27;pt&#x27;, PowerTransformer(), [&#x27;duration&#x27;])])</pre></div></div></div><div class=\"sk-parallel\"><div class=\"sk-parallel-item\"><div class=\"sk-item\"><div class=\"sk-label-container\"><div class=\"sk-label sk-toggleable\"><input class=\"sk-toggleable__control sk-hidden--visually\" id=\"d395090b-b5e7-41ea-b6c1-f5b6bbe18213\" type=\"checkbox\" ><label for=\"d395090b-b5e7-41ea-b6c1-f5b6bbe18213\" class=\"sk-toggleable__label sk-toggleable__label-arrow\">ohe</label><div class=\"sk-toggleable__content\"><pre>[&#x27;source_city&#x27;, &#x27;destination_city&#x27;, &#x27;class&#x27;, &#x27;departure_time&#x27;, &#x27;arrival_time&#x27;]</pre></div></div></div><div class=\"sk-serial\"><div class=\"sk-item\"><div class=\"sk-estimator sk-toggleable\"><input class=\"sk-toggleable__control sk-hidden--visually\" id=\"073352a8-d10a-4d96-82c0-8164db10c9b2\" type=\"checkbox\" ><label for=\"073352a8-d10a-4d96-82c0-8164db10c9b2\" class=\"sk-toggleable__label sk-toggleable__label-arrow\">OneHotEncoder</label><div class=\"sk-toggleable__content\"><pre>OneHotEncoder(drop=&#x27;first&#x27;, handle_unknown=&#x27;ignore&#x27;, sparse=False)</pre></div></div></div></div></div></div><div class=\"sk-parallel-item\"><div class=\"sk-item\"><div class=\"sk-label-container\"><div class=\"sk-label sk-toggleable\"><input class=\"sk-toggleable__control sk-hidden--visually\" id=\"36e054a5-3fad-42c9-8b0f-5c406e992dcd\" type=\"checkbox\" ><label for=\"36e054a5-3fad-42c9-8b0f-5c406e992dcd\" class=\"sk-toggleable__label sk-toggleable__label-arrow\">oes</label><div class=\"sk-toggleable__content\"><pre>[&#x27;stops&#x27;]</pre></div></div></div><div class=\"sk-serial\"><div class=\"sk-item\"><div class=\"sk-estimator sk-toggleable\"><input class=\"sk-toggleable__control sk-hidden--visually\" id=\"864d76f9-fd93-4980-862d-42a5378cae4d\" type=\"checkbox\" ><label for=\"864d76f9-fd93-4980-862d-42a5378cae4d\" class=\"sk-toggleable__label sk-toggleable__label-arrow\">OrdinalEncoder</label><div class=\"sk-toggleable__content\"><pre>OrdinalEncoder(categories=[[&#x27;zero&#x27;, &#x27;one&#x27;, &#x27;two_or_more&#x27;]],\n",
       "               handle_unknown=&#x27;use_encoded_value&#x27;, unknown_value=3)</pre></div></div></div></div></div></div><div class=\"sk-parallel-item\"><div class=\"sk-item\"><div class=\"sk-label-container\"><div class=\"sk-label sk-toggleable\"><input class=\"sk-toggleable__control sk-hidden--visually\" id=\"78f3469d-45dd-4c90-a191-f29ef786fb2f\" type=\"checkbox\" ><label for=\"78f3469d-45dd-4c90-a191-f29ef786fb2f\" class=\"sk-toggleable__label sk-toggleable__label-arrow\">pt</label><div class=\"sk-toggleable__content\"><pre>[&#x27;duration&#x27;]</pre></div></div></div><div class=\"sk-serial\"><div class=\"sk-item\"><div class=\"sk-estimator sk-toggleable\"><input class=\"sk-toggleable__control sk-hidden--visually\" id=\"8da4775e-e336-4a45-9488-f6d27c84d00b\" type=\"checkbox\" ><label for=\"8da4775e-e336-4a45-9488-f6d27c84d00b\" class=\"sk-toggleable__label sk-toggleable__label-arrow\">PowerTransformer</label><div class=\"sk-toggleable__content\"><pre>PowerTransformer()</pre></div></div></div></div></div></div><div class=\"sk-parallel-item\"><div class=\"sk-item\"><div class=\"sk-label-container\"><div class=\"sk-label sk-toggleable\"><input class=\"sk-toggleable__control sk-hidden--visually\" id=\"a055be18-346d-4e40-851a-82791c625d1b\" type=\"checkbox\" ><label for=\"a055be18-346d-4e40-851a-82791c625d1b\" class=\"sk-toggleable__label sk-toggleable__label-arrow\">remainder</label><div class=\"sk-toggleable__content\"><pre>[&#x27;days_left&#x27;]</pre></div></div></div><div class=\"sk-serial\"><div class=\"sk-item\"><div class=\"sk-estimator sk-toggleable\"><input class=\"sk-toggleable__control sk-hidden--visually\" id=\"d9a95183-3bee-4037-b6f2-cfd04754c00d\" type=\"checkbox\" ><label for=\"d9a95183-3bee-4037-b6f2-cfd04754c00d\" class=\"sk-toggleable__label sk-toggleable__label-arrow\">passthrough</label><div class=\"sk-toggleable__content\"><pre>passthrough</pre></div></div></div></div></div></div></div></div><div class=\"sk-item sk-dashed-wrapped\"><div class=\"sk-label-container\"><div class=\"sk-label sk-toggleable\"><input class=\"sk-toggleable__control sk-hidden--visually\" id=\"a6af047d-e180-4190-bae9-c1f0fb48c5db\" type=\"checkbox\" ><label for=\"a6af047d-e180-4190-bae9-c1f0fb48c5db\" class=\"sk-toggleable__label sk-toggleable__label-arrow\">ct2: ColumnTransformer</label><div class=\"sk-toggleable__content\"><pre>ColumnTransformer(remainder=&#x27;passthrough&#x27;,\n",
       "                  transformers=[(&#x27;scaler&#x27;, StandardScaler(), [7])])</pre></div></div></div><div class=\"sk-parallel\"><div class=\"sk-parallel-item\"><div class=\"sk-item\"><div class=\"sk-label-container\"><div class=\"sk-label sk-toggleable\"><input class=\"sk-toggleable__control sk-hidden--visually\" id=\"ef1c0cb0-e668-400c-9a2c-4a79dca1674d\" type=\"checkbox\" ><label for=\"ef1c0cb0-e668-400c-9a2c-4a79dca1674d\" class=\"sk-toggleable__label sk-toggleable__label-arrow\">scaler</label><div class=\"sk-toggleable__content\"><pre>[7]</pre></div></div></div><div class=\"sk-serial\"><div class=\"sk-item\"><div class=\"sk-estimator sk-toggleable\"><input class=\"sk-toggleable__control sk-hidden--visually\" id=\"771feaa7-7c1d-404c-99d1-95cd9451ad71\" type=\"checkbox\" ><label for=\"771feaa7-7c1d-404c-99d1-95cd9451ad71\" class=\"sk-toggleable__label sk-toggleable__label-arrow\">StandardScaler</label><div class=\"sk-toggleable__content\"><pre>StandardScaler()</pre></div></div></div></div></div></div><div class=\"sk-parallel-item\"><div class=\"sk-item\"><div class=\"sk-label-container\"><div class=\"sk-label sk-toggleable\"><input class=\"sk-toggleable__control sk-hidden--visually\" id=\"157b0b9e-8340-4618-a85a-8e2653787afe\" type=\"checkbox\" ><label for=\"157b0b9e-8340-4618-a85a-8e2653787afe\" class=\"sk-toggleable__label sk-toggleable__label-arrow\">remainder</label><div class=\"sk-toggleable__content\"><pre>[0, 1, 2, 3, 4, 5, 6, 8, 9, 10, 11, 12, 13, 14, 15, 16, 17, 18, 19, 20, 21, 22]</pre></div></div></div><div class=\"sk-serial\"><div class=\"sk-item\"><div class=\"sk-estimator sk-toggleable\"><input class=\"sk-toggleable__control sk-hidden--visually\" id=\"7fe4a541-cac7-4031-9923-3311cc7c9ff5\" type=\"checkbox\" ><label for=\"7fe4a541-cac7-4031-9923-3311cc7c9ff5\" class=\"sk-toggleable__label sk-toggleable__label-arrow\">passthrough</label><div class=\"sk-toggleable__content\"><pre>passthrough</pre></div></div></div></div></div></div></div></div><div class=\"sk-item\"><div class=\"sk-estimator sk-toggleable\"><input class=\"sk-toggleable__control sk-hidden--visually\" id=\"3eff2c4d-c938-4ea7-abc4-adaf7f575332\" type=\"checkbox\" ><label for=\"3eff2c4d-c938-4ea7-abc4-adaf7f575332\" class=\"sk-toggleable__label sk-toggleable__label-arrow\">Lasso</label><div class=\"sk-toggleable__content\"><pre>Lasso()</pre></div></div></div></div></div></div></div>"
      ],
      "text/plain": [
       "Pipeline(steps=[('ct1',\n",
       "                 ColumnTransformer(remainder='passthrough',\n",
       "                                   transformers=[('ohe',\n",
       "                                                  OneHotEncoder(drop='first',\n",
       "                                                                handle_unknown='ignore',\n",
       "                                                                sparse=False),\n",
       "                                                  ['source_city',\n",
       "                                                   'destination_city', 'class',\n",
       "                                                   'departure_time',\n",
       "                                                   'arrival_time']),\n",
       "                                                 ('oes',\n",
       "                                                  OrdinalEncoder(categories=[['zero',\n",
       "                                                                              'one',\n",
       "                                                                              'two_or_more']],\n",
       "                                                                 handle_unknown='use_encoded_value',\n",
       "                                                                 unknown_value=3),\n",
       "                                                  ['stops']),\n",
       "                                                 ('pt', PowerTransformer(),\n",
       "                                                  ['duration'])])),\n",
       "                ('ct2',\n",
       "                 ColumnTransformer(remainder='passthrough',\n",
       "                                   transformers=[('scaler', StandardScaler(),\n",
       "                                                  [7])])),\n",
       "                ('ct6', Lasso())])"
      ]
     },
     "execution_count": 268,
     "metadata": {},
     "output_type": "execute_result"
    }
   ],
   "source": [
    "set_config(display='diagram')\n",
    "pipe4.fit(X_train,y_train)"
   ]
  },
  {
   "cell_type": "markdown",
   "metadata": {
    "id": "jQJlDTxhJ40S"
   },
   "source": [
    "# 8 - Model Evaluation"
   ]
  },
  {
   "cell_type": "markdown",
   "metadata": {},
   "source": [
    "Evaluasi hasil tiap model"
   ]
  },
  {
   "cell_type": "code",
   "execution_count": 269,
   "metadata": {},
   "outputs": [
    {
     "data": {
      "text/plain": [
       "array([ 6895.5 ,  6647.18, 63979.  , ..., 66928.  , 69175.17, 16648.  ])"
      ]
     },
     "execution_count": 269,
     "metadata": {},
     "output_type": "execute_result"
    }
   ],
   "source": [
    "y_pred_train_rf = pipe1.predict(X_train)\n",
    "y_pred_test_rf = pipe1.predict(X_test)\n",
    "\n",
    "y_pred_train_rf"
   ]
  },
  {
   "cell_type": "code",
   "execution_count": 270,
   "metadata": {},
   "outputs": [
    {
     "name": "stdout",
     "output_type": "stream",
     "text": [
      "r2_score - Train Set :  0.9962074783255872\n",
      "r2_score - Test Set  :  0.978533155826299\n",
      "RMSE - Train Set :  1580.3883140587345\n",
      "RMSE - Test Set  :  3741.4592043721414\n"
     ]
    }
   ],
   "source": [
    "print('r2_score - Train Set : ', r2_score(y_train, y_pred_train_rf))\n",
    "print('r2_score - Test Set  : ', r2_score(y_test, y_pred_test_rf))\n",
    "print('RMSE - Train Set : ', mean_squared_error(y_train, y_pred_train_rf,squared = False))\n",
    "print('RMSE - Test Set  : ', mean_squared_error(y_test, y_pred_test_rf,squared = False))"
   ]
  },
  {
   "cell_type": "markdown",
   "metadata": {},
   "source": [
    "r2 score yang didapatkan dari data train dan test mirip sehingga bisa dibilang goodfit. nilai r2 score sangat bagus, hampir mendekati 1 yang berarti errornya sangat kecil. RMSE menandakan adanya error dalam prediksi yang berakibat harga yang terprediksi bisa menyimpang lebih atau kurang dari nilai RMSE."
   ]
  },
  {
   "cell_type": "code",
   "execution_count": 271,
   "metadata": {},
   "outputs": [
    {
     "data": {
      "text/plain": [
       "array([ 9545.99024335, 10235.27562843, 57227.39930865, ...,\n",
       "       54502.31123957, 54871.85493225, 11983.97646192])"
      ]
     },
     "execution_count": 271,
     "metadata": {},
     "output_type": "execute_result"
    }
   ],
   "source": [
    "y_pred_train_lr = pipe2.predict(X_train)\n",
    "y_pred_test_lr = pipe2.predict(X_test)\n",
    "\n",
    "y_pred_train_lr"
   ]
  },
  {
   "cell_type": "code",
   "execution_count": 272,
   "metadata": {},
   "outputs": [
    {
     "name": "stdout",
     "output_type": "stream",
     "text": [
      "r2_score - Train Set :  0.8998907230817789\n",
      "r2_score - Test Set  :  0.9006086695104116\n",
      "RMSE - Train Set :  8119.643025678151\n",
      "RMSE - Test Set  :  8050.654045091466\n"
     ]
    }
   ],
   "source": [
    "print('r2_score - Train Set : ', r2_score(y_train, y_pred_train_lr))\n",
    "print('r2_score - Test Set  : ', r2_score(y_test, y_pred_test_lr))\n",
    "print('RMSE - Train Set : ', mean_squared_error(y_train, y_pred_train_lr, squared = False))\n",
    "print('RMSE - Test Set  : ', mean_squared_error(y_test, y_pred_test_lr, squared = False))"
   ]
  },
  {
   "cell_type": "markdown",
   "metadata": {},
   "source": [
    "r2 score yang didapatkan dari data train dan test mirip sehingga bisa dibilang goodfit. nilai r2 score bagus, mendekati 1 yang berarti errornya sangat kecil. RMSE menandakan adanya error dalam prediksi yang berakibat harga yang terprediksi bisa menyimpang lebih atau kurang dari nilai RMSE."
   ]
  },
  {
   "cell_type": "code",
   "execution_count": 273,
   "metadata": {},
   "outputs": [
    {
     "data": {
      "text/plain": [
       "array([ 7025.,  6450., 63979., ..., 66928., 69168., 16169.])"
      ]
     },
     "execution_count": 273,
     "metadata": {},
     "output_type": "execute_result"
    }
   ],
   "source": [
    "y_pred_train_dt = pipe3.predict(X_train)\n",
    "y_pred_test_dt = pipe3.predict(X_test)\n",
    "\n",
    "y_pred_train_dt"
   ]
  },
  {
   "cell_type": "code",
   "execution_count": 274,
   "metadata": {},
   "outputs": [
    {
     "name": "stdout",
     "output_type": "stream",
     "text": [
      "r2_score - Train Set :  0.9987300659436597\n",
      "r2_score - Test Set  :  0.9660872771704844\n",
      "RMSE - Train Set :  914.5140013103534\n",
      "RMSE - Test Set  :  4702.6021976918755\n"
     ]
    }
   ],
   "source": [
    "print('r2_score - Train Set : ', r2_score(y_train, y_pred_train_dt))\n",
    "print('r2_score - Test Set  : ', r2_score(y_test, y_pred_test_dt))\n",
    "print('RMSE - Train Set : ', mean_squared_error(y_train, y_pred_train_dt, squared = False))\n",
    "print('RMSE - Test Set  : ', mean_squared_error(y_test, y_pred_test_dt, squared = False))"
   ]
  },
  {
   "cell_type": "markdown",
   "metadata": {},
   "source": [
    "r2 score yang didapatkan dari data train dan test mirip sehingga bisa dibilang goodfit. nilai r2 score sangat bagus, hampir mendekati 1 yang berarti errornya sangat kecil. RMSE menandakan adanya error dalam prediksi yang berakibat harga yang terprediksi bisa menyimpang lebih atau kurang dari nilai RMSE."
   ]
  },
  {
   "cell_type": "code",
   "execution_count": 275,
   "metadata": {},
   "outputs": [
    {
     "data": {
      "text/plain": [
       "array([ 9547.43727948, 10235.66549851, 57202.25564237, ...,\n",
       "       54530.42888283, 54863.08318367, 11984.74034698])"
      ]
     },
     "execution_count": 275,
     "metadata": {},
     "output_type": "execute_result"
    }
   ],
   "source": [
    "y_pred_train_las = pipe4.predict(X_train)\n",
    "y_pred_test_las = pipe4.predict(X_test)\n",
    "\n",
    "y_pred_train_las"
   ]
  },
  {
   "cell_type": "code",
   "execution_count": 276,
   "metadata": {},
   "outputs": [
    {
     "name": "stdout",
     "output_type": "stream",
     "text": [
      "r2_score - Train Set :  0.8998901113431229\n",
      "r2_score - Test Set  :  0.9006131158736554\n",
      "RMSE - Train Set :  8119.667834027969\n",
      "RMSE - Test Set  :  8050.473966344103\n"
     ]
    }
   ],
   "source": [
    "print('r2_score - Train Set : ', r2_score(y_train, y_pred_train_las))\n",
    "print('r2_score - Test Set  : ', r2_score(y_test, y_pred_test_las))\n",
    "print('RMSE - Train Set : ', mean_squared_error(y_train, y_pred_train_las, squared = False))\n",
    "print('RMSE - Test Set  : ', mean_squared_error(y_test, y_pred_test_las, squared = False))"
   ]
  },
  {
   "cell_type": "markdown",
   "metadata": {},
   "source": [
    "r2 score yang didapatkan dari data train dan test mirip sehingga bisa dibilang goodfit. nilai r2 score bagus, hampir mendekati 1 yang berarti errornya sangat kecil. RMSE menandakan adanya error dalam prediksi yang berakibat harga yang terprediksi bisa menyimpang lebih atau kurang dari nilai RMSE."
   ]
  },
  {
   "cell_type": "markdown",
   "metadata": {},
   "source": [
    "# Tuning"
   ]
  },
  {
   "cell_type": "markdown",
   "metadata": {},
   "source": [
    "Tune model lasso karena memiliki r2 score paling buruk dari model lainnya (walaupun masih bisa dibilang bagus)"
   ]
  },
  {
   "cell_type": "markdown",
   "metadata": {},
   "source": [
    "pilih hyperparameter alpha yang akan di tune"
   ]
  },
  {
   "cell_type": "code",
   "execution_count": 277,
   "metadata": {},
   "outputs": [],
   "source": [
    "param_grid = {'ct6__alpha': [1e-5, 1e-4, 1e-3, 1e-2, 1e-1, 1, 10, 100]}"
   ]
  },
  {
   "cell_type": "markdown",
   "metadata": {},
   "source": [
    "lakukan gridsearch"
   ]
  },
  {
   "cell_type": "code",
   "execution_count": 278,
   "metadata": {},
   "outputs": [],
   "source": [
    "grid = GridSearchCV(pipe4, param_grid=param_grid, cv=5)"
   ]
  },
  {
   "cell_type": "markdown",
   "metadata": {},
   "source": [
    "train model yang sudah di tune "
   ]
  },
  {
   "cell_type": "code",
   "execution_count": 279,
   "metadata": {},
   "outputs": [
    {
     "data": {
      "text/html": [
       "<style>#sk-28c4c159-45f1-4c44-be0e-31e7780c9be5 {color: black;background-color: white;}#sk-28c4c159-45f1-4c44-be0e-31e7780c9be5 pre{padding: 0;}#sk-28c4c159-45f1-4c44-be0e-31e7780c9be5 div.sk-toggleable {background-color: white;}#sk-28c4c159-45f1-4c44-be0e-31e7780c9be5 label.sk-toggleable__label {cursor: pointer;display: block;width: 100%;margin-bottom: 0;padding: 0.3em;box-sizing: border-box;text-align: center;}#sk-28c4c159-45f1-4c44-be0e-31e7780c9be5 label.sk-toggleable__label-arrow:before {content: \"▸\";float: left;margin-right: 0.25em;color: #696969;}#sk-28c4c159-45f1-4c44-be0e-31e7780c9be5 label.sk-toggleable__label-arrow:hover:before {color: black;}#sk-28c4c159-45f1-4c44-be0e-31e7780c9be5 div.sk-estimator:hover label.sk-toggleable__label-arrow:before {color: black;}#sk-28c4c159-45f1-4c44-be0e-31e7780c9be5 div.sk-toggleable__content {max-height: 0;max-width: 0;overflow: hidden;text-align: left;background-color: #f0f8ff;}#sk-28c4c159-45f1-4c44-be0e-31e7780c9be5 div.sk-toggleable__content pre {margin: 0.2em;color: black;border-radius: 0.25em;background-color: #f0f8ff;}#sk-28c4c159-45f1-4c44-be0e-31e7780c9be5 input.sk-toggleable__control:checked~div.sk-toggleable__content {max-height: 200px;max-width: 100%;overflow: auto;}#sk-28c4c159-45f1-4c44-be0e-31e7780c9be5 input.sk-toggleable__control:checked~label.sk-toggleable__label-arrow:before {content: \"▾\";}#sk-28c4c159-45f1-4c44-be0e-31e7780c9be5 div.sk-estimator input.sk-toggleable__control:checked~label.sk-toggleable__label {background-color: #d4ebff;}#sk-28c4c159-45f1-4c44-be0e-31e7780c9be5 div.sk-label input.sk-toggleable__control:checked~label.sk-toggleable__label {background-color: #d4ebff;}#sk-28c4c159-45f1-4c44-be0e-31e7780c9be5 input.sk-hidden--visually {border: 0;clip: rect(1px 1px 1px 1px);clip: rect(1px, 1px, 1px, 1px);height: 1px;margin: -1px;overflow: hidden;padding: 0;position: absolute;width: 1px;}#sk-28c4c159-45f1-4c44-be0e-31e7780c9be5 div.sk-estimator {font-family: monospace;background-color: #f0f8ff;border: 1px dotted black;border-radius: 0.25em;box-sizing: border-box;margin-bottom: 0.5em;}#sk-28c4c159-45f1-4c44-be0e-31e7780c9be5 div.sk-estimator:hover {background-color: #d4ebff;}#sk-28c4c159-45f1-4c44-be0e-31e7780c9be5 div.sk-parallel-item::after {content: \"\";width: 100%;border-bottom: 1px solid gray;flex-grow: 1;}#sk-28c4c159-45f1-4c44-be0e-31e7780c9be5 div.sk-label:hover label.sk-toggleable__label {background-color: #d4ebff;}#sk-28c4c159-45f1-4c44-be0e-31e7780c9be5 div.sk-serial::before {content: \"\";position: absolute;border-left: 1px solid gray;box-sizing: border-box;top: 2em;bottom: 0;left: 50%;}#sk-28c4c159-45f1-4c44-be0e-31e7780c9be5 div.sk-serial {display: flex;flex-direction: column;align-items: center;background-color: white;padding-right: 0.2em;padding-left: 0.2em;}#sk-28c4c159-45f1-4c44-be0e-31e7780c9be5 div.sk-item {z-index: 1;}#sk-28c4c159-45f1-4c44-be0e-31e7780c9be5 div.sk-parallel {display: flex;align-items: stretch;justify-content: center;background-color: white;}#sk-28c4c159-45f1-4c44-be0e-31e7780c9be5 div.sk-parallel::before {content: \"\";position: absolute;border-left: 1px solid gray;box-sizing: border-box;top: 2em;bottom: 0;left: 50%;}#sk-28c4c159-45f1-4c44-be0e-31e7780c9be5 div.sk-parallel-item {display: flex;flex-direction: column;position: relative;background-color: white;}#sk-28c4c159-45f1-4c44-be0e-31e7780c9be5 div.sk-parallel-item:first-child::after {align-self: flex-end;width: 50%;}#sk-28c4c159-45f1-4c44-be0e-31e7780c9be5 div.sk-parallel-item:last-child::after {align-self: flex-start;width: 50%;}#sk-28c4c159-45f1-4c44-be0e-31e7780c9be5 div.sk-parallel-item:only-child::after {width: 0;}#sk-28c4c159-45f1-4c44-be0e-31e7780c9be5 div.sk-dashed-wrapped {border: 1px dashed gray;margin: 0 0.4em 0.5em 0.4em;box-sizing: border-box;padding-bottom: 0.4em;background-color: white;position: relative;}#sk-28c4c159-45f1-4c44-be0e-31e7780c9be5 div.sk-label label {font-family: monospace;font-weight: bold;background-color: white;display: inline-block;line-height: 1.2em;}#sk-28c4c159-45f1-4c44-be0e-31e7780c9be5 div.sk-label-container {position: relative;z-index: 2;text-align: center;}#sk-28c4c159-45f1-4c44-be0e-31e7780c9be5 div.sk-container {/* jupyter's `normalize.less` sets `[hidden] { display: none; }` but bootstrap.min.css set `[hidden] { display: none !important; }` so we also need the `!important` here to be able to override the default hidden behavior on the sphinx rendered scikit-learn.org. See: https://github.com/scikit-learn/scikit-learn/issues/21755 */display: inline-block !important;position: relative;}#sk-28c4c159-45f1-4c44-be0e-31e7780c9be5 div.sk-text-repr-fallback {display: none;}</style><div id=\"sk-28c4c159-45f1-4c44-be0e-31e7780c9be5\" class=\"sk-top-container\"><div class=\"sk-text-repr-fallback\"><pre>GridSearchCV(cv=5,\n",
       "             estimator=Pipeline(steps=[(&#x27;ct1&#x27;,\n",
       "                                        ColumnTransformer(remainder=&#x27;passthrough&#x27;,\n",
       "                                                          transformers=[(&#x27;ohe&#x27;,\n",
       "                                                                         OneHotEncoder(drop=&#x27;first&#x27;,\n",
       "                                                                                       handle_unknown=&#x27;ignore&#x27;,\n",
       "                                                                                       sparse=False),\n",
       "                                                                         [&#x27;source_city&#x27;,\n",
       "                                                                          &#x27;destination_city&#x27;,\n",
       "                                                                          &#x27;class&#x27;,\n",
       "                                                                          &#x27;departure_time&#x27;,\n",
       "                                                                          &#x27;arrival_time&#x27;]),\n",
       "                                                                        (&#x27;oes&#x27;,\n",
       "                                                                         OrdinalEncoder(categories=[[&#x27;zero&#x27;,\n",
       "                                                                                                     &#x27;one&#x27;,\n",
       "                                                                                                     &#x27;two_or_more&#x27;]],\n",
       "                                                                                        handle_unknown=&#x27;use_encoded_value&#x27;,\n",
       "                                                                                        unknown_value=3),\n",
       "                                                                         [&#x27;stops&#x27;]),\n",
       "                                                                        (&#x27;pt&#x27;,\n",
       "                                                                         PowerTransformer(),\n",
       "                                                                         [&#x27;duration&#x27;])])),\n",
       "                                       (&#x27;ct2&#x27;,\n",
       "                                        ColumnTransformer(remainder=&#x27;passthrough&#x27;,\n",
       "                                                          transformers=[(&#x27;scaler&#x27;,\n",
       "                                                                         StandardScaler(),\n",
       "                                                                         [7])])),\n",
       "                                       (&#x27;ct6&#x27;, Lasso())]),\n",
       "             param_grid={&#x27;ct6__alpha&#x27;: [1e-05, 0.0001, 0.001, 0.01, 0.1, 1, 10,\n",
       "                                        100]})</pre><b>Please rerun this cell to show the HTML repr or trust the notebook.</b></div><div class=\"sk-container\" hidden><div class=\"sk-item sk-dashed-wrapped\"><div class=\"sk-label-container\"><div class=\"sk-label sk-toggleable\"><input class=\"sk-toggleable__control sk-hidden--visually\" id=\"45c9b668-ba49-479f-8b77-f583d9039649\" type=\"checkbox\" ><label for=\"45c9b668-ba49-479f-8b77-f583d9039649\" class=\"sk-toggleable__label sk-toggleable__label-arrow\">GridSearchCV</label><div class=\"sk-toggleable__content\"><pre>GridSearchCV(cv=5,\n",
       "             estimator=Pipeline(steps=[(&#x27;ct1&#x27;,\n",
       "                                        ColumnTransformer(remainder=&#x27;passthrough&#x27;,\n",
       "                                                          transformers=[(&#x27;ohe&#x27;,\n",
       "                                                                         OneHotEncoder(drop=&#x27;first&#x27;,\n",
       "                                                                                       handle_unknown=&#x27;ignore&#x27;,\n",
       "                                                                                       sparse=False),\n",
       "                                                                         [&#x27;source_city&#x27;,\n",
       "                                                                          &#x27;destination_city&#x27;,\n",
       "                                                                          &#x27;class&#x27;,\n",
       "                                                                          &#x27;departure_time&#x27;,\n",
       "                                                                          &#x27;arrival_time&#x27;]),\n",
       "                                                                        (&#x27;oes&#x27;,\n",
       "                                                                         OrdinalEncoder(categories=[[&#x27;zero&#x27;,\n",
       "                                                                                                     &#x27;one&#x27;,\n",
       "                                                                                                     &#x27;two_or_more&#x27;]],\n",
       "                                                                                        handle_unknown=&#x27;use_encoded_value&#x27;,\n",
       "                                                                                        unknown_value=3),\n",
       "                                                                         [&#x27;stops&#x27;]),\n",
       "                                                                        (&#x27;pt&#x27;,\n",
       "                                                                         PowerTransformer(),\n",
       "                                                                         [&#x27;duration&#x27;])])),\n",
       "                                       (&#x27;ct2&#x27;,\n",
       "                                        ColumnTransformer(remainder=&#x27;passthrough&#x27;,\n",
       "                                                          transformers=[(&#x27;scaler&#x27;,\n",
       "                                                                         StandardScaler(),\n",
       "                                                                         [7])])),\n",
       "                                       (&#x27;ct6&#x27;, Lasso())]),\n",
       "             param_grid={&#x27;ct6__alpha&#x27;: [1e-05, 0.0001, 0.001, 0.01, 0.1, 1, 10,\n",
       "                                        100]})</pre></div></div></div><div class=\"sk-parallel\"><div class=\"sk-parallel-item\"><div class=\"sk-item\"><div class=\"sk-serial\"><div class=\"sk-item\"><div class=\"sk-serial\"><div class=\"sk-item sk-dashed-wrapped\"><div class=\"sk-label-container\"><div class=\"sk-label sk-toggleable\"><input class=\"sk-toggleable__control sk-hidden--visually\" id=\"a1e8427b-fe2d-4bc9-b26e-803a8292d22d\" type=\"checkbox\" ><label for=\"a1e8427b-fe2d-4bc9-b26e-803a8292d22d\" class=\"sk-toggleable__label sk-toggleable__label-arrow\">ct1: ColumnTransformer</label><div class=\"sk-toggleable__content\"><pre>ColumnTransformer(remainder=&#x27;passthrough&#x27;,\n",
       "                  transformers=[(&#x27;ohe&#x27;,\n",
       "                                 OneHotEncoder(drop=&#x27;first&#x27;,\n",
       "                                               handle_unknown=&#x27;ignore&#x27;,\n",
       "                                               sparse=False),\n",
       "                                 [&#x27;source_city&#x27;, &#x27;destination_city&#x27;, &#x27;class&#x27;,\n",
       "                                  &#x27;departure_time&#x27;, &#x27;arrival_time&#x27;]),\n",
       "                                (&#x27;oes&#x27;,\n",
       "                                 OrdinalEncoder(categories=[[&#x27;zero&#x27;, &#x27;one&#x27;,\n",
       "                                                             &#x27;two_or_more&#x27;]],\n",
       "                                                handle_unknown=&#x27;use_encoded_value&#x27;,\n",
       "                                                unknown_value=3),\n",
       "                                 [&#x27;stops&#x27;]),\n",
       "                                (&#x27;pt&#x27;, PowerTransformer(), [&#x27;duration&#x27;])])</pre></div></div></div><div class=\"sk-parallel\"><div class=\"sk-parallel-item\"><div class=\"sk-item\"><div class=\"sk-label-container\"><div class=\"sk-label sk-toggleable\"><input class=\"sk-toggleable__control sk-hidden--visually\" id=\"b2b5a2ae-ff45-45f4-99be-cda0acd3523c\" type=\"checkbox\" ><label for=\"b2b5a2ae-ff45-45f4-99be-cda0acd3523c\" class=\"sk-toggleable__label sk-toggleable__label-arrow\">ohe</label><div class=\"sk-toggleable__content\"><pre>[&#x27;source_city&#x27;, &#x27;destination_city&#x27;, &#x27;class&#x27;, &#x27;departure_time&#x27;, &#x27;arrival_time&#x27;]</pre></div></div></div><div class=\"sk-serial\"><div class=\"sk-item\"><div class=\"sk-estimator sk-toggleable\"><input class=\"sk-toggleable__control sk-hidden--visually\" id=\"1dff00e2-2799-48d0-b5ca-d3b34e294e72\" type=\"checkbox\" ><label for=\"1dff00e2-2799-48d0-b5ca-d3b34e294e72\" class=\"sk-toggleable__label sk-toggleable__label-arrow\">OneHotEncoder</label><div class=\"sk-toggleable__content\"><pre>OneHotEncoder(drop=&#x27;first&#x27;, handle_unknown=&#x27;ignore&#x27;, sparse=False)</pre></div></div></div></div></div></div><div class=\"sk-parallel-item\"><div class=\"sk-item\"><div class=\"sk-label-container\"><div class=\"sk-label sk-toggleable\"><input class=\"sk-toggleable__control sk-hidden--visually\" id=\"1b11b30f-5607-4c2f-af60-5187794944ee\" type=\"checkbox\" ><label for=\"1b11b30f-5607-4c2f-af60-5187794944ee\" class=\"sk-toggleable__label sk-toggleable__label-arrow\">oes</label><div class=\"sk-toggleable__content\"><pre>[&#x27;stops&#x27;]</pre></div></div></div><div class=\"sk-serial\"><div class=\"sk-item\"><div class=\"sk-estimator sk-toggleable\"><input class=\"sk-toggleable__control sk-hidden--visually\" id=\"1e77b71c-3729-438b-88f3-1218854c0b96\" type=\"checkbox\" ><label for=\"1e77b71c-3729-438b-88f3-1218854c0b96\" class=\"sk-toggleable__label sk-toggleable__label-arrow\">OrdinalEncoder</label><div class=\"sk-toggleable__content\"><pre>OrdinalEncoder(categories=[[&#x27;zero&#x27;, &#x27;one&#x27;, &#x27;two_or_more&#x27;]],\n",
       "               handle_unknown=&#x27;use_encoded_value&#x27;, unknown_value=3)</pre></div></div></div></div></div></div><div class=\"sk-parallel-item\"><div class=\"sk-item\"><div class=\"sk-label-container\"><div class=\"sk-label sk-toggleable\"><input class=\"sk-toggleable__control sk-hidden--visually\" id=\"c557db3a-f20e-489d-9106-2b2c6577538c\" type=\"checkbox\" ><label for=\"c557db3a-f20e-489d-9106-2b2c6577538c\" class=\"sk-toggleable__label sk-toggleable__label-arrow\">pt</label><div class=\"sk-toggleable__content\"><pre>[&#x27;duration&#x27;]</pre></div></div></div><div class=\"sk-serial\"><div class=\"sk-item\"><div class=\"sk-estimator sk-toggleable\"><input class=\"sk-toggleable__control sk-hidden--visually\" id=\"18992859-f7a7-47e3-bfdc-a4558fa9bbc2\" type=\"checkbox\" ><label for=\"18992859-f7a7-47e3-bfdc-a4558fa9bbc2\" class=\"sk-toggleable__label sk-toggleable__label-arrow\">PowerTransformer</label><div class=\"sk-toggleable__content\"><pre>PowerTransformer()</pre></div></div></div></div></div></div><div class=\"sk-parallel-item\"><div class=\"sk-item\"><div class=\"sk-label-container\"><div class=\"sk-label sk-toggleable\"><input class=\"sk-toggleable__control sk-hidden--visually\" id=\"820a2638-af16-4c78-854b-9824e1b1f710\" type=\"checkbox\" ><label for=\"820a2638-af16-4c78-854b-9824e1b1f710\" class=\"sk-toggleable__label sk-toggleable__label-arrow\">remainder</label><div class=\"sk-toggleable__content\"><pre>[&#x27;days_left&#x27;]</pre></div></div></div><div class=\"sk-serial\"><div class=\"sk-item\"><div class=\"sk-estimator sk-toggleable\"><input class=\"sk-toggleable__control sk-hidden--visually\" id=\"bd73ff9c-f512-47bc-a567-48e47a81ba46\" type=\"checkbox\" ><label for=\"bd73ff9c-f512-47bc-a567-48e47a81ba46\" class=\"sk-toggleable__label sk-toggleable__label-arrow\">passthrough</label><div class=\"sk-toggleable__content\"><pre>passthrough</pre></div></div></div></div></div></div></div></div><div class=\"sk-item sk-dashed-wrapped\"><div class=\"sk-label-container\"><div class=\"sk-label sk-toggleable\"><input class=\"sk-toggleable__control sk-hidden--visually\" id=\"c05d5eca-500b-4797-a8f2-d730082e9df9\" type=\"checkbox\" ><label for=\"c05d5eca-500b-4797-a8f2-d730082e9df9\" class=\"sk-toggleable__label sk-toggleable__label-arrow\">ct2: ColumnTransformer</label><div class=\"sk-toggleable__content\"><pre>ColumnTransformer(remainder=&#x27;passthrough&#x27;,\n",
       "                  transformers=[(&#x27;scaler&#x27;, StandardScaler(), [7])])</pre></div></div></div><div class=\"sk-parallel\"><div class=\"sk-parallel-item\"><div class=\"sk-item\"><div class=\"sk-label-container\"><div class=\"sk-label sk-toggleable\"><input class=\"sk-toggleable__control sk-hidden--visually\" id=\"11ac0055-1f41-4706-be92-3dd8cffc82a3\" type=\"checkbox\" ><label for=\"11ac0055-1f41-4706-be92-3dd8cffc82a3\" class=\"sk-toggleable__label sk-toggleable__label-arrow\">scaler</label><div class=\"sk-toggleable__content\"><pre>[7]</pre></div></div></div><div class=\"sk-serial\"><div class=\"sk-item\"><div class=\"sk-estimator sk-toggleable\"><input class=\"sk-toggleable__control sk-hidden--visually\" id=\"8ec3fc1c-3d94-40e1-9047-555e8711497b\" type=\"checkbox\" ><label for=\"8ec3fc1c-3d94-40e1-9047-555e8711497b\" class=\"sk-toggleable__label sk-toggleable__label-arrow\">StandardScaler</label><div class=\"sk-toggleable__content\"><pre>StandardScaler()</pre></div></div></div></div></div></div><div class=\"sk-parallel-item\"><div class=\"sk-item\"><div class=\"sk-label-container\"><div class=\"sk-label sk-toggleable\"><input class=\"sk-toggleable__control sk-hidden--visually\" id=\"a69940ef-ed11-454c-8bc3-048194f9e566\" type=\"checkbox\" ><label for=\"a69940ef-ed11-454c-8bc3-048194f9e566\" class=\"sk-toggleable__label sk-toggleable__label-arrow\">remainder</label><div class=\"sk-toggleable__content\"><pre>[0, 1, 2, 3, 4, 5, 6, 8, 9, 10, 11, 12, 13, 14, 15, 16, 17, 18, 19, 20, 21, 22]</pre></div></div></div><div class=\"sk-serial\"><div class=\"sk-item\"><div class=\"sk-estimator sk-toggleable\"><input class=\"sk-toggleable__control sk-hidden--visually\" id=\"8e250188-cd1a-4d06-b844-2e592af5147b\" type=\"checkbox\" ><label for=\"8e250188-cd1a-4d06-b844-2e592af5147b\" class=\"sk-toggleable__label sk-toggleable__label-arrow\">passthrough</label><div class=\"sk-toggleable__content\"><pre>passthrough</pre></div></div></div></div></div></div></div></div><div class=\"sk-item\"><div class=\"sk-estimator sk-toggleable\"><input class=\"sk-toggleable__control sk-hidden--visually\" id=\"91be0a8f-e06b-4359-a230-1ceab0a0e9c6\" type=\"checkbox\" ><label for=\"91be0a8f-e06b-4359-a230-1ceab0a0e9c6\" class=\"sk-toggleable__label sk-toggleable__label-arrow\">Lasso</label><div class=\"sk-toggleable__content\"><pre>Lasso()</pre></div></div></div></div></div></div></div></div></div></div></div></div>"
      ],
      "text/plain": [
       "GridSearchCV(cv=5,\n",
       "             estimator=Pipeline(steps=[('ct1',\n",
       "                                        ColumnTransformer(remainder='passthrough',\n",
       "                                                          transformers=[('ohe',\n",
       "                                                                         OneHotEncoder(drop='first',\n",
       "                                                                                       handle_unknown='ignore',\n",
       "                                                                                       sparse=False),\n",
       "                                                                         ['source_city',\n",
       "                                                                          'destination_city',\n",
       "                                                                          'class',\n",
       "                                                                          'departure_time',\n",
       "                                                                          'arrival_time']),\n",
       "                                                                        ('oes',\n",
       "                                                                         OrdinalEncoder(categories=[['zero',\n",
       "                                                                                                     'one',\n",
       "                                                                                                     'two_or_more']],\n",
       "                                                                                        handle_unknown='use_encoded_value',\n",
       "                                                                                        unknown_value=3),\n",
       "                                                                         ['stops']),\n",
       "                                                                        ('pt',\n",
       "                                                                         PowerTransformer(),\n",
       "                                                                         ['duration'])])),\n",
       "                                       ('ct2',\n",
       "                                        ColumnTransformer(remainder='passthrough',\n",
       "                                                          transformers=[('scaler',\n",
       "                                                                         StandardScaler(),\n",
       "                                                                         [7])])),\n",
       "                                       ('ct6', Lasso())]),\n",
       "             param_grid={'ct6__alpha': [1e-05, 0.0001, 0.001, 0.01, 0.1, 1, 10,\n",
       "                                        100]})"
      ]
     },
     "execution_count": 279,
     "metadata": {},
     "output_type": "execute_result"
    }
   ],
   "source": [
    "grid.fit(X_train, y_train)"
   ]
  },
  {
   "cell_type": "code",
   "execution_count": 280,
   "metadata": {},
   "outputs": [
    {
     "name": "stdout",
     "output_type": "stream",
     "text": [
      "Best parameters: {'ct6__alpha': 1e-05}\n"
     ]
    }
   ],
   "source": [
    "print(\"Best parameters: {}\".format(grid.best_params_))"
   ]
  },
  {
   "cell_type": "markdown",
   "metadata": {},
   "source": [
    "prediksi data dengan model yang sudah di tune"
   ]
  },
  {
   "cell_type": "code",
   "execution_count": 281,
   "metadata": {},
   "outputs": [
    {
     "data": {
      "text/plain": [
       "array([ 9545.99025787, 10235.27563231, 57227.39905734, ...,\n",
       "       54502.31152032, 54871.85484456, 11983.97646968])"
      ]
     },
     "execution_count": 281,
     "metadata": {},
     "output_type": "execute_result"
    }
   ],
   "source": [
    "y_pred_train_last = grid.predict(X_train)\n",
    "y_pred_test_last = grid.predict(X_test)\n",
    "\n",
    "y_pred_train_last"
   ]
  },
  {
   "cell_type": "code",
   "execution_count": 282,
   "metadata": {},
   "outputs": [
    {
     "name": "stdout",
     "output_type": "stream",
     "text": [
      "r2_score - Train Set :  0.8998907230817789\n",
      "r2_score - Test Set  :  0.9006086695612214\n",
      "RMSE - Train Set :  8119.643025678153\n",
      "RMSE - Test Set  :  8050.654043033685\n"
     ]
    }
   ],
   "source": [
    "print('r2_score - Train Set : ', r2_score(y_train, y_pred_train_last))\n",
    "print('r2_score - Test Set  : ', r2_score(y_test, y_pred_test_last))\n",
    "print('RMSE - Train Set : ', mean_squared_error(y_train, y_pred_train_last, squared = False))\n",
    "print('RMSE - Test Set  : ', mean_squared_error(y_test, y_pred_test_last, squared = False))"
   ]
  },
  {
   "cell_type": "markdown",
   "metadata": {},
   "source": [
    "r2_score - Train Set :  0.8998901113431229\n",
    "r2_score - Test Set  :  0.9006131158736554\n",
    "RMSE - Train Set :  8119.667834027969\n",
    "RMSE - Test Set  :  8050.473966344103"
   ]
  },
  {
   "cell_type": "markdown",
   "metadata": {},
   "source": [
    "Setelah dilakukan tuning, model Lasso ini perubahannya hampir tidak terlihat karena r2_score yang sangat mirip dengan model sebelum di tune. Perbedaannya kurang dari 0.0001 sehingga tidak relevan. untuk RMSE, perbedannya juga kurang dari 1 jadi tidak relevan."
   ]
  },
  {
   "cell_type": "markdown",
   "metadata": {
    "id": "DJFFG_VOOLbe"
   },
   "source": [
    "# 10 - Model Saving"
   ]
  },
  {
   "cell_type": "markdown",
   "metadata": {},
   "source": [
    "save model terbaik yaitu pipe1 atau random forest regression"
   ]
  },
  {
   "cell_type": "code",
   "execution_count": 283,
   "metadata": {},
   "outputs": [],
   "source": [
    "with open('best.pkl', 'wb') as file_1:\n",
    "  joblib.dump(pipe1, file_1)"
   ]
  },
  {
   "cell_type": "markdown",
   "metadata": {
    "id": "UVAxUmh7RH2q"
   },
   "source": [
    "# 11 - Model Inference"
   ]
  },
  {
   "cell_type": "markdown",
   "metadata": {},
   "source": [
    "Load model"
   ]
  },
  {
   "cell_type": "code",
   "execution_count": 284,
   "metadata": {},
   "outputs": [],
   "source": [
    "with open('best.pkl', 'rb') as file_1:\n",
    "  best = joblib.load(file_1)\n",
    "  "
   ]
  },
  {
   "cell_type": "markdown",
   "metadata": {},
   "source": [
    "Load data inference dan ambil featurenya saja"
   ]
  },
  {
   "cell_type": "code",
   "execution_count": 285,
   "metadata": {},
   "outputs": [
    {
     "data": {
      "text/html": [
       "<div>\n",
       "<style scoped>\n",
       "    .dataframe tbody tr th:only-of-type {\n",
       "        vertical-align: middle;\n",
       "    }\n",
       "\n",
       "    .dataframe tbody tr th {\n",
       "        vertical-align: top;\n",
       "    }\n",
       "\n",
       "    .dataframe thead th {\n",
       "        text-align: right;\n",
       "    }\n",
       "</style>\n",
       "<table border=\"1\" class=\"dataframe\">\n",
       "  <thead>\n",
       "    <tr style=\"text-align: right;\">\n",
       "      <th></th>\n",
       "      <th>source_city</th>\n",
       "      <th>departure_time</th>\n",
       "      <th>stops</th>\n",
       "      <th>arrival_time</th>\n",
       "      <th>destination_city</th>\n",
       "      <th>class</th>\n",
       "      <th>duration</th>\n",
       "      <th>days_left</th>\n",
       "      <th>price</th>\n",
       "    </tr>\n",
       "  </thead>\n",
       "  <tbody>\n",
       "    <tr>\n",
       "      <th>0</th>\n",
       "      <td>Delhi</td>\n",
       "      <td>Night</td>\n",
       "      <td>zero</td>\n",
       "      <td>Night</td>\n",
       "      <td>Kolkata</td>\n",
       "      <td>Business</td>\n",
       "      <td>2.25</td>\n",
       "      <td>36</td>\n",
       "      <td>27976</td>\n",
       "    </tr>\n",
       "    <tr>\n",
       "      <th>1</th>\n",
       "      <td>Bangalore</td>\n",
       "      <td>Evening</td>\n",
       "      <td>one</td>\n",
       "      <td>Morning</td>\n",
       "      <td>Hyderabad</td>\n",
       "      <td>Economy</td>\n",
       "      <td>13.75</td>\n",
       "      <td>44</td>\n",
       "      <td>6133</td>\n",
       "    </tr>\n",
       "  </tbody>\n",
       "</table>\n",
       "</div>"
      ],
      "text/plain": [
       "  source_city departure_time stops arrival_time destination_city     class  \\\n",
       "0       Delhi          Night  zero        Night          Kolkata  Business   \n",
       "1   Bangalore        Evening   one      Morning        Hyderabad   Economy   \n",
       "\n",
       "   duration  days_left  price  \n",
       "0      2.25         36  27976  \n",
       "1     13.75         44   6133  "
      ]
     },
     "execution_count": 285,
     "metadata": {},
     "output_type": "execute_result"
    }
   ],
   "source": [
    "data_inf.head(2)"
   ]
  },
  {
   "cell_type": "code",
   "execution_count": 286,
   "metadata": {},
   "outputs": [
    {
     "data": {
      "text/html": [
       "<div>\n",
       "<style scoped>\n",
       "    .dataframe tbody tr th:only-of-type {\n",
       "        vertical-align: middle;\n",
       "    }\n",
       "\n",
       "    .dataframe tbody tr th {\n",
       "        vertical-align: top;\n",
       "    }\n",
       "\n",
       "    .dataframe thead th {\n",
       "        text-align: right;\n",
       "    }\n",
       "</style>\n",
       "<table border=\"1\" class=\"dataframe\">\n",
       "  <thead>\n",
       "    <tr style=\"text-align: right;\">\n",
       "      <th></th>\n",
       "      <th>source_city</th>\n",
       "      <th>departure_time</th>\n",
       "      <th>stops</th>\n",
       "      <th>arrival_time</th>\n",
       "      <th>destination_city</th>\n",
       "      <th>class</th>\n",
       "      <th>duration</th>\n",
       "      <th>days_left</th>\n",
       "    </tr>\n",
       "  </thead>\n",
       "  <tbody>\n",
       "    <tr>\n",
       "      <th>0</th>\n",
       "      <td>Delhi</td>\n",
       "      <td>Night</td>\n",
       "      <td>zero</td>\n",
       "      <td>Night</td>\n",
       "      <td>Kolkata</td>\n",
       "      <td>Business</td>\n",
       "      <td>2.25</td>\n",
       "      <td>36</td>\n",
       "    </tr>\n",
       "    <tr>\n",
       "      <th>1</th>\n",
       "      <td>Bangalore</td>\n",
       "      <td>Evening</td>\n",
       "      <td>one</td>\n",
       "      <td>Morning</td>\n",
       "      <td>Hyderabad</td>\n",
       "      <td>Economy</td>\n",
       "      <td>13.75</td>\n",
       "      <td>44</td>\n",
       "    </tr>\n",
       "    <tr>\n",
       "      <th>2</th>\n",
       "      <td>Chennai</td>\n",
       "      <td>Afternoon</td>\n",
       "      <td>one</td>\n",
       "      <td>Night</td>\n",
       "      <td>Delhi</td>\n",
       "      <td>Economy</td>\n",
       "      <td>11.25</td>\n",
       "      <td>26</td>\n",
       "    </tr>\n",
       "    <tr>\n",
       "      <th>3</th>\n",
       "      <td>Delhi</td>\n",
       "      <td>Morning</td>\n",
       "      <td>one</td>\n",
       "      <td>Night</td>\n",
       "      <td>Hyderabad</td>\n",
       "      <td>Business</td>\n",
       "      <td>12.08</td>\n",
       "      <td>28</td>\n",
       "    </tr>\n",
       "    <tr>\n",
       "      <th>4</th>\n",
       "      <td>Mumbai</td>\n",
       "      <td>Morning</td>\n",
       "      <td>one</td>\n",
       "      <td>Night</td>\n",
       "      <td>Kolkata</td>\n",
       "      <td>Economy</td>\n",
       "      <td>12.33</td>\n",
       "      <td>8</td>\n",
       "    </tr>\n",
       "    <tr>\n",
       "      <th>5</th>\n",
       "      <td>Hyderabad</td>\n",
       "      <td>Afternoon</td>\n",
       "      <td>one</td>\n",
       "      <td>Evening</td>\n",
       "      <td>Delhi</td>\n",
       "      <td>Business</td>\n",
       "      <td>5.17</td>\n",
       "      <td>24</td>\n",
       "    </tr>\n",
       "    <tr>\n",
       "      <th>6</th>\n",
       "      <td>Bangalore</td>\n",
       "      <td>Early_Morning</td>\n",
       "      <td>one</td>\n",
       "      <td>Evening</td>\n",
       "      <td>Hyderabad</td>\n",
       "      <td>Economy</td>\n",
       "      <td>10.33</td>\n",
       "      <td>33</td>\n",
       "    </tr>\n",
       "    <tr>\n",
       "      <th>7</th>\n",
       "      <td>Chennai</td>\n",
       "      <td>Morning</td>\n",
       "      <td>one</td>\n",
       "      <td>Evening</td>\n",
       "      <td>Hyderabad</td>\n",
       "      <td>Economy</td>\n",
       "      <td>10.17</td>\n",
       "      <td>11</td>\n",
       "    </tr>\n",
       "    <tr>\n",
       "      <th>8</th>\n",
       "      <td>Mumbai</td>\n",
       "      <td>Morning</td>\n",
       "      <td>one</td>\n",
       "      <td>Evening</td>\n",
       "      <td>Chennai</td>\n",
       "      <td>Business</td>\n",
       "      <td>5.92</td>\n",
       "      <td>22</td>\n",
       "    </tr>\n",
       "    <tr>\n",
       "      <th>9</th>\n",
       "      <td>Mumbai</td>\n",
       "      <td>Afternoon</td>\n",
       "      <td>one</td>\n",
       "      <td>Night</td>\n",
       "      <td>Chennai</td>\n",
       "      <td>Economy</td>\n",
       "      <td>10.33</td>\n",
       "      <td>13</td>\n",
       "    </tr>\n",
       "  </tbody>\n",
       "</table>\n",
       "</div>"
      ],
      "text/plain": [
       "  source_city departure_time stops arrival_time destination_city     class  \\\n",
       "0       Delhi          Night  zero        Night          Kolkata  Business   \n",
       "1   Bangalore        Evening   one      Morning        Hyderabad   Economy   \n",
       "2     Chennai      Afternoon   one        Night            Delhi   Economy   \n",
       "3       Delhi        Morning   one        Night        Hyderabad  Business   \n",
       "4      Mumbai        Morning   one        Night          Kolkata   Economy   \n",
       "5   Hyderabad      Afternoon   one      Evening            Delhi  Business   \n",
       "6   Bangalore  Early_Morning   one      Evening        Hyderabad   Economy   \n",
       "7     Chennai        Morning   one      Evening        Hyderabad   Economy   \n",
       "8      Mumbai        Morning   one      Evening          Chennai  Business   \n",
       "9      Mumbai      Afternoon   one        Night          Chennai   Economy   \n",
       "\n",
       "   duration  days_left  \n",
       "0      2.25         36  \n",
       "1     13.75         44  \n",
       "2     11.25         26  \n",
       "3     12.08         28  \n",
       "4     12.33          8  \n",
       "5      5.17         24  \n",
       "6     10.33         33  \n",
       "7     10.17         11  \n",
       "8      5.92         22  \n",
       "9     10.33         13  "
      ]
     },
     "execution_count": 286,
     "metadata": {},
     "output_type": "execute_result"
    }
   ],
   "source": [
    "data_inf2 = data_inf.drop(['price'], axis =1)\n",
    "data_inf2"
   ]
  },
  {
   "cell_type": "markdown",
   "metadata": {},
   "source": [
    "predict dengan model yang sudah di load"
   ]
  },
  {
   "cell_type": "code",
   "execution_count": 287,
   "metadata": {},
   "outputs": [],
   "source": [
    "y_pred_inf = best.predict(data_inf2)"
   ]
  },
  {
   "cell_type": "markdown",
   "metadata": {},
   "source": [
    "jadikan dataframe dengan nama kolom predicted price"
   ]
  },
  {
   "cell_type": "code",
   "execution_count": 288,
   "metadata": {},
   "outputs": [],
   "source": [
    "y_pred_inf_df = pd.DataFrame(y_pred_inf, columns=['Predicted price'])"
   ]
  },
  {
   "cell_type": "markdown",
   "metadata": {},
   "source": [
    "concat dengan data inference awal"
   ]
  },
  {
   "cell_type": "code",
   "execution_count": 289,
   "metadata": {},
   "outputs": [
    {
     "data": {
      "text/html": [
       "<div>\n",
       "<style scoped>\n",
       "    .dataframe tbody tr th:only-of-type {\n",
       "        vertical-align: middle;\n",
       "    }\n",
       "\n",
       "    .dataframe tbody tr th {\n",
       "        vertical-align: top;\n",
       "    }\n",
       "\n",
       "    .dataframe thead th {\n",
       "        text-align: right;\n",
       "    }\n",
       "</style>\n",
       "<table border=\"1\" class=\"dataframe\">\n",
       "  <thead>\n",
       "    <tr style=\"text-align: right;\">\n",
       "      <th></th>\n",
       "      <th>source_city</th>\n",
       "      <th>departure_time</th>\n",
       "      <th>stops</th>\n",
       "      <th>arrival_time</th>\n",
       "      <th>destination_city</th>\n",
       "      <th>class</th>\n",
       "      <th>duration</th>\n",
       "      <th>days_left</th>\n",
       "      <th>price</th>\n",
       "      <th>Predicted price</th>\n",
       "    </tr>\n",
       "  </thead>\n",
       "  <tbody>\n",
       "    <tr>\n",
       "      <th>0</th>\n",
       "      <td>Delhi</td>\n",
       "      <td>Night</td>\n",
       "      <td>zero</td>\n",
       "      <td>Night</td>\n",
       "      <td>Kolkata</td>\n",
       "      <td>Business</td>\n",
       "      <td>2.25</td>\n",
       "      <td>36</td>\n",
       "      <td>27976</td>\n",
       "      <td>29641.66</td>\n",
       "    </tr>\n",
       "    <tr>\n",
       "      <th>1</th>\n",
       "      <td>Bangalore</td>\n",
       "      <td>Evening</td>\n",
       "      <td>one</td>\n",
       "      <td>Morning</td>\n",
       "      <td>Hyderabad</td>\n",
       "      <td>Economy</td>\n",
       "      <td>13.75</td>\n",
       "      <td>44</td>\n",
       "      <td>6133</td>\n",
       "      <td>7815.41</td>\n",
       "    </tr>\n",
       "    <tr>\n",
       "      <th>2</th>\n",
       "      <td>Chennai</td>\n",
       "      <td>Afternoon</td>\n",
       "      <td>one</td>\n",
       "      <td>Night</td>\n",
       "      <td>Delhi</td>\n",
       "      <td>Economy</td>\n",
       "      <td>11.25</td>\n",
       "      <td>26</td>\n",
       "      <td>8803</td>\n",
       "      <td>8726.36</td>\n",
       "    </tr>\n",
       "    <tr>\n",
       "      <th>3</th>\n",
       "      <td>Delhi</td>\n",
       "      <td>Morning</td>\n",
       "      <td>one</td>\n",
       "      <td>Night</td>\n",
       "      <td>Hyderabad</td>\n",
       "      <td>Business</td>\n",
       "      <td>12.08</td>\n",
       "      <td>28</td>\n",
       "      <td>53937</td>\n",
       "      <td>54255.08</td>\n",
       "    </tr>\n",
       "    <tr>\n",
       "      <th>4</th>\n",
       "      <td>Mumbai</td>\n",
       "      <td>Morning</td>\n",
       "      <td>one</td>\n",
       "      <td>Night</td>\n",
       "      <td>Kolkata</td>\n",
       "      <td>Economy</td>\n",
       "      <td>12.33</td>\n",
       "      <td>8</td>\n",
       "      <td>11129</td>\n",
       "      <td>11129.00</td>\n",
       "    </tr>\n",
       "    <tr>\n",
       "      <th>5</th>\n",
       "      <td>Hyderabad</td>\n",
       "      <td>Afternoon</td>\n",
       "      <td>one</td>\n",
       "      <td>Evening</td>\n",
       "      <td>Delhi</td>\n",
       "      <td>Business</td>\n",
       "      <td>5.17</td>\n",
       "      <td>24</td>\n",
       "      <td>51875</td>\n",
       "      <td>51954.52</td>\n",
       "    </tr>\n",
       "    <tr>\n",
       "      <th>6</th>\n",
       "      <td>Bangalore</td>\n",
       "      <td>Early_Morning</td>\n",
       "      <td>one</td>\n",
       "      <td>Evening</td>\n",
       "      <td>Hyderabad</td>\n",
       "      <td>Economy</td>\n",
       "      <td>10.33</td>\n",
       "      <td>33</td>\n",
       "      <td>5871</td>\n",
       "      <td>5916.80</td>\n",
       "    </tr>\n",
       "    <tr>\n",
       "      <th>7</th>\n",
       "      <td>Chennai</td>\n",
       "      <td>Morning</td>\n",
       "      <td>one</td>\n",
       "      <td>Evening</td>\n",
       "      <td>Hyderabad</td>\n",
       "      <td>Economy</td>\n",
       "      <td>10.17</td>\n",
       "      <td>11</td>\n",
       "      <td>15563</td>\n",
       "      <td>14595.98</td>\n",
       "    </tr>\n",
       "    <tr>\n",
       "      <th>8</th>\n",
       "      <td>Mumbai</td>\n",
       "      <td>Morning</td>\n",
       "      <td>one</td>\n",
       "      <td>Evening</td>\n",
       "      <td>Chennai</td>\n",
       "      <td>Business</td>\n",
       "      <td>5.92</td>\n",
       "      <td>22</td>\n",
       "      <td>61933</td>\n",
       "      <td>62385.48</td>\n",
       "    </tr>\n",
       "    <tr>\n",
       "      <th>9</th>\n",
       "      <td>Mumbai</td>\n",
       "      <td>Afternoon</td>\n",
       "      <td>one</td>\n",
       "      <td>Night</td>\n",
       "      <td>Chennai</td>\n",
       "      <td>Economy</td>\n",
       "      <td>10.33</td>\n",
       "      <td>13</td>\n",
       "      <td>11129</td>\n",
       "      <td>11129.00</td>\n",
       "    </tr>\n",
       "  </tbody>\n",
       "</table>\n",
       "</div>"
      ],
      "text/plain": [
       "  source_city departure_time stops arrival_time destination_city     class  \\\n",
       "0       Delhi          Night  zero        Night          Kolkata  Business   \n",
       "1   Bangalore        Evening   one      Morning        Hyderabad   Economy   \n",
       "2     Chennai      Afternoon   one        Night            Delhi   Economy   \n",
       "3       Delhi        Morning   one        Night        Hyderabad  Business   \n",
       "4      Mumbai        Morning   one        Night          Kolkata   Economy   \n",
       "5   Hyderabad      Afternoon   one      Evening            Delhi  Business   \n",
       "6   Bangalore  Early_Morning   one      Evening        Hyderabad   Economy   \n",
       "7     Chennai        Morning   one      Evening        Hyderabad   Economy   \n",
       "8      Mumbai        Morning   one      Evening          Chennai  Business   \n",
       "9      Mumbai      Afternoon   one        Night          Chennai   Economy   \n",
       "\n",
       "   duration  days_left  price  Predicted price  \n",
       "0      2.25         36  27976         29641.66  \n",
       "1     13.75         44   6133          7815.41  \n",
       "2     11.25         26   8803          8726.36  \n",
       "3     12.08         28  53937         54255.08  \n",
       "4     12.33          8  11129         11129.00  \n",
       "5      5.17         24  51875         51954.52  \n",
       "6     10.33         33   5871          5916.80  \n",
       "7     10.17         11  15563         14595.98  \n",
       "8      5.92         22  61933         62385.48  \n",
       "9     10.33         13  11129         11129.00  "
      ]
     },
     "execution_count": 289,
     "metadata": {},
     "output_type": "execute_result"
    }
   ],
   "source": [
    "pd.concat([data_inf, y_pred_inf_df], axis=1)"
   ]
  },
  {
   "cell_type": "markdown",
   "metadata": {
    "id": "uIiVUi1jVjbb"
   },
   "source": [
    "# 12 - Kesimpulan"
   ]
  },
  {
   "cell_type": "markdown",
   "metadata": {},
   "source": [
    "1. Pada EDA, bisa dilihat bahwa kolom feature hampir semua berpengaruh ke target. hanya kolom unnamed, airlines, dan flight yang tidak berpengaruh.\n",
    "\n",
    "2. Pada model Random Forest Regressor (pipe1), r2 score yang didapatkan dari data train dan test mirip sehingga bisa dibilang goodfit. nilai r2 score sangat bagus, hampir mendekati 1 yang berarti errornya sangat kecil. RMSE menandakan adanya error dalam prediksi yang berakibat harga yang terprediksi bisa menyimpang lebih atau kurang dari nilai RMSE.\n",
    "\n",
    "3. Pada model Linear Regression (pipe2), r2 score yang didapatkan dari data train dan test mirip sehingga bisa dibilang goodfit. nilai r2 score bagus, mendekati 1 yang berarti errornya sangat kecil. RMSE menandakan adanya error dalam prediksi yang berakibat harga yang terprediksi bisa menyimpang lebih atau kurang dari nilai RMSE.\n",
    "\n",
    "4. Pada model Decision Tree Regressor (pipe3), r2 score yang didapatkan dari data train dan test mirip sehingga bisa dibilang goodfit. nilai r2 score sangat bagus, hampir mendekati 1 yang berarti errornya sangat kecil. RMSE menandakan adanya error dalam prediksi yang berakibat harga yang terprediksi bisa menyimpang lebih atau kurang dari nilai RMSE.\n",
    "\n",
    "5. Pada base model Lasso (pipe4), r2 score yang didapatkan dari data train dan test mirip sehingga bisa dibilang goodfit. nilai r2 score bagus, hampir mendekati 1 yang berarti errornya sangat kecil. RMSE menandakan adanya error dalam prediksi yang berakibat harga yang terprediksi bisa menyimpang lebih atau kurang dari nilai RMSE.\n",
    "\n",
    "6. Tuning dilakukan ke model lasso dengan gridsearch dan hyperparameter yang di tune adalah alpha.\n",
    "\n",
    "7. Setelah dilakukan tuning, model Lasso ini perubahannya hampir tidak terlihat karena r2_score yang sangat mirip dengan model sebelum di tune. Perbedaannya kurang dari 0.0001 sehingga tidak relevan. untuk RMSE, perbedannya juga kurang dari 1 jadi tidak relevan.\n",
    "\n",
    "8. Hasil inferencing ada error dalam predicted price yang detil nya bisa dilihat di tabel diatas."
   ]
  }
 ],
 "metadata": {
  "kernelspec": {
   "display_name": "Python 3.7.9 64-bit",
   "language": "python",
   "name": "python3"
  },
  "language_info": {
   "codemirror_mode": {
    "name": "ipython",
    "version": 3
   },
   "file_extension": ".py",
   "mimetype": "text/x-python",
   "name": "python",
   "nbconvert_exporter": "python",
   "pygments_lexer": "ipython3",
   "version": "3.7.9"
  },
  "orig_nbformat": 4,
  "vscode": {
   "interpreter": {
    "hash": "3f89355f18d4dbd985dae6e1ed1ed8953c7814bef0ec7c3c56b7077b7f657e9d"
   }
  }
 },
 "nbformat": 4,
 "nbformat_minor": 2
}
